{
 "cells": [
  {
   "cell_type": "code",
   "execution_count": 2,
   "id": "e048a7a3",
   "metadata": {},
   "outputs": [],
   "source": [
    "class Ninth_Class:\n",
    "    def __init__(self,name,age):\n",
    "        self.name=name\n",
    "        self.age=age\n",
    "    def show(self):\n",
    "        print(\"name\",self.name)\n",
    "        print(\"age\",self.age)\n",
    "        "
   ]
  },
  {
   "cell_type": "code",
   "execution_count": 3,
   "id": "c8167db0",
   "metadata": {},
   "outputs": [],
   "source": [
    "obj1=Ninth_Class(\"manish\",14)"
   ]
  },
  {
   "cell_type": "code",
   "execution_count": 5,
   "id": "63f9ab1f",
   "metadata": {},
   "outputs": [],
   "source": [
    "obj2=Ninth_Class(\"sonu\",18)"
   ]
  },
  {
   "cell_type": "code",
   "execution_count": 6,
   "id": "c9e5f50a",
   "metadata": {},
   "outputs": [],
   "source": [
    "obj3=Ninth_Class(\"ram\",23)"
   ]
  },
  {
   "cell_type": "code",
   "execution_count": null,
   "id": "1861181d",
   "metadata": {},
   "outputs": [],
   "source": []
  },
  {
   "cell_type": "code",
   "execution_count": null,
   "id": "547f7bae",
   "metadata": {},
   "outputs": [],
   "source": []
  },
  {
   "cell_type": "markdown",
   "id": "4e3e64be",
   "metadata": {},
   "source": [
    "print(id(Ninth_Class))\n",
    "print(id(obj1))\n",
    "print(id(obj1.name))\n",
    "print(id(obj1.age))"
   ]
  },
  {
   "cell_type": "code",
   "execution_count": 7,
   "id": "f85b452e",
   "metadata": {},
   "outputs": [
    {
     "name": "stdout",
     "output_type": "stream",
     "text": [
      "2275639677360\n",
      "2275650688480\n",
      "2275651048240\n",
      "140731899455824\n"
     ]
    }
   ],
   "source": [
    "print(id(Ninth_Class))\n",
    "print(id(obj2))\n",
    "print(id(obj2.name))\n",
    "print(id(obj2.age))"
   ]
  },
  {
   "cell_type": "code",
   "execution_count": 9,
   "id": "3c65416f",
   "metadata": {},
   "outputs": [
    {
     "name": "stdout",
     "output_type": "stream",
     "text": [
      "2275639677360\n",
      "2275650689872\n",
      "2275651046576\n",
      "140731899455984\n"
     ]
    }
   ],
   "source": [
    "print(id(Ninth_Class))\n",
    "print(id(obj3))\n",
    "print(id(obj3.name))\n",
    "print(id(obj3.age))"
   ]
  },
  {
   "cell_type": "code",
   "execution_count": 8,
   "id": "54afd3b9",
   "metadata": {},
   "outputs": [
    {
     "name": "stdout",
     "output_type": "stream",
     "text": [
      "name manish\n",
      "age 14\n"
     ]
    }
   ],
   "source": [
    "obj1.show()"
   ]
  },
  {
   "cell_type": "code",
   "execution_count": 7,
   "id": "970804e5",
   "metadata": {},
   "outputs": [
    {
     "name": "stdout",
     "output_type": "stream",
     "text": [
      "name sonu\n",
      "age 18\n"
     ]
    }
   ],
   "source": [
    "obj2.show()"
   ]
  },
  {
   "cell_type": "code",
   "execution_count": 10,
   "id": "51372805",
   "metadata": {},
   "outputs": [
    {
     "name": "stdout",
     "output_type": "stream",
     "text": [
      "name ram\n",
      "age 23\n"
     ]
    }
   ],
   "source": [
    "obj3.show()"
   ]
  },
  {
   "cell_type": "code",
   "execution_count": 19,
   "id": "6bd3100b",
   "metadata": {},
   "outputs": [
    {
     "name": "stdout",
     "output_type": "stream",
     "text": [
      "ram\n",
      "12\n",
      "3000\n",
      "Varansi\n"
     ]
    }
   ],
   "source": [
    "class k:\n",
    "    def __init__(self,name,age,salary,location):\n",
    "        self.name=name\n",
    "        self.age=age\n",
    "        self.salary=salary\n",
    "        self.location=location\n",
    "    def name1(self):\n",
    "        print(self.name)\n",
    "    def age1(self):\n",
    "        print(self.age)\n",
    "    def salary1(self):\n",
    "        print(self.salary)\n",
    "    def location1(self):\n",
    "        print(self.location)\n",
    "    m=k(\"ram\",12,3000,\"Varansi\")\n",
    "    m.name1()\n",
    "    m.age1()\n",
    "    m.salary1()\n",
    "    m.location1()"
   ]
  },
  {
   "cell_type": "code",
   "execution_count": 14,
   "id": "005b227b",
   "metadata": {},
   "outputs": [],
   "source": [
    "m=k(\"ram\",12,3000,\"Varansi\")"
   ]
  },
  {
   "cell_type": "code",
   "execution_count": 15,
   "id": "c1d117fc",
   "metadata": {},
   "outputs": [
    {
     "name": "stdout",
     "output_type": "stream",
     "text": [
      "ram\n"
     ]
    }
   ],
   "source": [
    "m.name1()"
   ]
  },
  {
   "cell_type": "code",
   "execution_count": 16,
   "id": "7eff22fe",
   "metadata": {},
   "outputs": [
    {
     "name": "stdout",
     "output_type": "stream",
     "text": [
      "12\n"
     ]
    }
   ],
   "source": [
    "m.age1()"
   ]
  },
  {
   "cell_type": "code",
   "execution_count": 17,
   "id": "8ff2c05e",
   "metadata": {},
   "outputs": [
    {
     "name": "stdout",
     "output_type": "stream",
     "text": [
      "3000\n"
     ]
    }
   ],
   "source": [
    "m.salary1()"
   ]
  },
  {
   "cell_type": "code",
   "execution_count": 18,
   "id": "0a209a35",
   "metadata": {},
   "outputs": [
    {
     "name": "stdout",
     "output_type": "stream",
     "text": [
      "Varansi\n"
     ]
    }
   ],
   "source": [
    "m.location1()"
   ]
  },
  {
   "cell_type": "code",
   "execution_count": 8,
   "id": "fc2177db",
   "metadata": {},
   "outputs": [
    {
     "ename": "TypeError",
     "evalue": "'max_min' object is not callable",
     "output_type": "error",
     "traceback": [
      "\u001b[1;31m---------------------------------------------------------------------------\u001b[0m",
      "\u001b[1;31mTypeError\u001b[0m                                 Traceback (most recent call last)",
      "\u001b[1;32m<ipython-input-8-0fab1c5f7207>\u001b[0m in \u001b[0;36m<module>\u001b[1;34m\u001b[0m\n\u001b[1;32m----> 1\u001b[1;33m \u001b[1;32mclass\u001b[0m \u001b[0mk\u001b[0m\u001b[1;33m:\u001b[0m\u001b[1;33m\u001b[0m\u001b[1;33m\u001b[0m\u001b[0m\n\u001b[0m\u001b[0;32m      2\u001b[0m     \u001b[1;32mdef\u001b[0m \u001b[0m__init__\u001b[0m\u001b[1;33m(\u001b[0m\u001b[0mself\u001b[0m\u001b[1;33m,\u001b[0m\u001b[0mname\u001b[0m\u001b[1;33m,\u001b[0m\u001b[0mage\u001b[0m\u001b[1;33m)\u001b[0m\u001b[1;33m:\u001b[0m\u001b[1;33m\u001b[0m\u001b[1;33m\u001b[0m\u001b[0m\n\u001b[0;32m      3\u001b[0m         \u001b[0mself\u001b[0m\u001b[1;33m.\u001b[0m\u001b[0mname\u001b[0m\u001b[1;33m=\u001b[0m\u001b[0mname\u001b[0m\u001b[1;33m\u001b[0m\u001b[1;33m\u001b[0m\u001b[0m\n\u001b[0;32m      4\u001b[0m         \u001b[0mself\u001b[0m\u001b[1;33m.\u001b[0m\u001b[0mage\u001b[0m\u001b[1;33m=\u001b[0m\u001b[0mage\u001b[0m\u001b[1;33m\u001b[0m\u001b[1;33m\u001b[0m\u001b[0m\n\u001b[0;32m      5\u001b[0m     \u001b[1;32mdef\u001b[0m \u001b[0mname1\u001b[0m\u001b[1;33m(\u001b[0m\u001b[0mself\u001b[0m\u001b[1;33m)\u001b[0m\u001b[1;33m:\u001b[0m\u001b[1;33m\u001b[0m\u001b[1;33m\u001b[0m\u001b[0m\n",
      "\u001b[1;32m<ipython-input-8-0fab1c5f7207>\u001b[0m in \u001b[0;36mk\u001b[1;34m()\u001b[0m\n\u001b[0;32m      7\u001b[0m     \u001b[1;32mdef\u001b[0m \u001b[0mage1\u001b[0m\u001b[1;33m(\u001b[0m\u001b[0mself\u001b[0m\u001b[1;33m)\u001b[0m\u001b[1;33m:\u001b[0m\u001b[1;33m\u001b[0m\u001b[1;33m\u001b[0m\u001b[0m\n\u001b[0;32m      8\u001b[0m         \u001b[0mprint\u001b[0m\u001b[1;33m(\u001b[0m\u001b[0mself\u001b[0m\u001b[1;33m.\u001b[0m\u001b[0mage\u001b[0m\u001b[1;33m)\u001b[0m\u001b[1;33m\u001b[0m\u001b[1;33m\u001b[0m\u001b[0m\n\u001b[1;32m----> 9\u001b[1;33m     \u001b[0mm\u001b[0m\u001b[1;33m=\u001b[0m\u001b[0mk\u001b[0m\u001b[1;33m(\u001b[0m\u001b[1;34m\"ram\"\u001b[0m\u001b[1;33m,\u001b[0m\u001b[1;36m12\u001b[0m\u001b[1;33m)\u001b[0m\u001b[1;33m\u001b[0m\u001b[1;33m\u001b[0m\u001b[0m\n\u001b[0m\u001b[0;32m     10\u001b[0m     \u001b[0mm\u001b[0m\u001b[1;33m.\u001b[0m\u001b[0mname1\u001b[0m\u001b[1;33m(\u001b[0m\u001b[1;33m)\u001b[0m\u001b[1;33m\u001b[0m\u001b[1;33m\u001b[0m\u001b[0m\n\u001b[0;32m     11\u001b[0m     \u001b[0mm\u001b[0m\u001b[1;33m.\u001b[0m\u001b[0mage1\u001b[0m\u001b[1;33m(\u001b[0m\u001b[1;33m)\u001b[0m\u001b[1;33m\u001b[0m\u001b[1;33m\u001b[0m\u001b[0m\n",
      "\u001b[1;31mTypeError\u001b[0m: 'max_min' object is not callable"
     ]
    }
   ],
   "source": [
    "class k:\n",
    "    def __init__(self,name,age):\n",
    "        self.name=name\n",
    "        self.age=age\n",
    "    def name1(self):\n",
    "        print(self.name)\n",
    "    def age1(self):\n",
    "        print(self.age)\n",
    "    m=k(\"ram\",12)\n",
    "    m.name1()\n",
    "    m.age1()\n",
    "        "
   ]
  },
  {
   "cell_type": "code",
   "execution_count": 3,
   "id": "8a928a30",
   "metadata": {},
   "outputs": [],
   "source": [
    "class max_min:\n",
    "    def __init__(self,x,y,z):\n",
    "        self.x=x\n",
    "        self.y=y\n",
    "        self.z=z\n",
    "    def max1(self):\n",
    "        print(max(self.x,self.y,self.z))\n",
    "    def min1(self):\n",
    "        print(min(self.x,self.y,self.z))\n",
    "   \n",
    "    "
   ]
  },
  {
   "cell_type": "code",
   "execution_count": 4,
   "id": "92f527ac",
   "metadata": {},
   "outputs": [],
   "source": [
    "k=max_min(23,4,5)"
   ]
  },
  {
   "cell_type": "markdown",
   "id": "41bbd115",
   "metadata": {},
   "source": [
    "k1=max_min(2,4,12)"
   ]
  },
  {
   "cell_type": "code",
   "execution_count": 5,
   "id": "d34d8589",
   "metadata": {},
   "outputs": [
    {
     "name": "stdout",
     "output_type": "stream",
     "text": [
      "23\n"
     ]
    }
   ],
   "source": [
    "k.max1()"
   ]
  },
  {
   "cell_type": "code",
   "execution_count": 6,
   "id": "640d95e5",
   "metadata": {},
   "outputs": [
    {
     "name": "stdout",
     "output_type": "stream",
     "text": [
      "23\n"
     ]
    }
   ],
   "source": [
    "k.max1()"
   ]
  },
  {
   "cell_type": "code",
   "execution_count": 54,
   "id": "ce7acfc3",
   "metadata": {},
   "outputs": [
    {
     "name": "stdout",
     "output_type": "stream",
     "text": [
      "4\n"
     ]
    }
   ],
   "source": [
    "k.min1()"
   ]
  },
  {
   "cell_type": "code",
   "execution_count": null,
   "id": "6e12ad44",
   "metadata": {},
   "outputs": [],
   "source": []
  },
  {
   "cell_type": "code",
   "execution_count": 17,
   "id": "0780eab3",
   "metadata": {},
   "outputs": [],
   "source": [
    "class f1:\n",
    "    def __init__(self):\n",
    "        self.x=10\n",
    "    def modify(self):\n",
    "        self.x=self.x+1\n",
    "    def f2(self):\n",
    "        print(self.x)\n",
    "        print(id(self))\n",
    "        print(id(self.x))"
   ]
  },
  {
   "cell_type": "code",
   "execution_count": null,
   "id": "e2e0d3ad",
   "metadata": {},
   "outputs": [],
   "source": []
  },
  {
   "cell_type": "code",
   "execution_count": 18,
   "id": "0fbec6c4",
   "metadata": {},
   "outputs": [],
   "source": [
    "class k:\n",
    "    def __init__(self,name,age,marks):\n",
    "        self.name=name\n",
    "        self.age=age\n",
    "        self.marks=marks\n",
    "    def show(self):\n",
    "        print(\"name\",self.name)\n",
    "        print(\"age\",self.age)\n",
    "        print(\"marks\",self.marks)\n",
    "        if self.marks>40:\n",
    "            print(\"good\")\n",
    "        else:\n",
    "            print(\"bad\")\n",
    "        "
   ]
  },
  {
   "cell_type": "code",
   "execution_count": 19,
   "id": "fcc6c9ea",
   "metadata": {},
   "outputs": [],
   "source": [
    "obj1=k(\"Rahul\",14,44)\n",
    "obj2=k(\"Ram\",17,34)\n",
    "obj3=k(\"Radha\",15,40)"
   ]
  },
  {
   "cell_type": "code",
   "execution_count": 20,
   "id": "f91bd3ad",
   "metadata": {},
   "outputs": [
    {
     "name": "stdout",
     "output_type": "stream",
     "text": [
      "name Rahul\n",
      "age 14\n",
      "marks 44\n",
      "good\n",
      "name Ram\n",
      "age 17\n",
      "marks 34\n",
      "bad\n",
      "name Radha\n",
      "age 15\n",
      "marks 40\n",
      "bad\n"
     ]
    }
   ],
   "source": [
    "obj1.show()\n",
    "obj2.show()\n",
    "obj3.show()"
   ]
  },
  {
   "cell_type": "code",
   "execution_count": 21,
   "id": "99194cc5",
   "metadata": {},
   "outputs": [],
   "source": [
    "class school:\n",
    "    def __init__(self,stu_name,stu_age):\n",
    "        self.stu_name=stu_name\n",
    "        self.stu_age=stu_age\n",
    "    def show(self):\n",
    "        print(\"name: \",self.stu_name)\n",
    "        print(\"age: \",self.stu_age)\n",
    "    @staticmethod\n",
    "    def schoolinfo():\n",
    "        print(\"school name is xyz\")\n",
    "        print(\"founder name is p\")\n",
    "        "
   ]
  },
  {
   "cell_type": "code",
   "execution_count": 22,
   "id": "766e165e",
   "metadata": {},
   "outputs": [],
   "source": [
    "class cetpa:\n",
    "    def __init__(self,name,fee):\n",
    "        self.name=name\n",
    "        self.fee=fee\n",
    "    def my_info(self):\n",
    "        print(\"name\",self.name)\n",
    "        print(\"paid fee\",self.fee)\n",
    "        print(\"unpaid fee\",10000-self.fee)\n",
    "    @staticmethod\n",
    "    def cetpainfo():\n",
    "        print(\"new batch will be start from tomorrow and timing will be 12 pm\")"
   ]
  },
  {
   "cell_type": "code",
   "execution_count": 23,
   "id": "8ebefb58",
   "metadata": {},
   "outputs": [],
   "source": [
    "ram=cetpa(\"ram\",4000)"
   ]
  },
  {
   "cell_type": "code",
   "execution_count": 24,
   "id": "cf1fdca5",
   "metadata": {},
   "outputs": [
    {
     "name": "stdout",
     "output_type": "stream",
     "text": [
      "name ram\n",
      "paid fee 4000\n",
      "unpaid fee 6000\n"
     ]
    }
   ],
   "source": [
    "ram.my_info()"
   ]
  },
  {
   "cell_type": "code",
   "execution_count": 25,
   "id": "03d811e5",
   "metadata": {},
   "outputs": [],
   "source": [
    "class k: \n",
    "    def __init__(self,name,age):\n",
    "        self.name=name\n",
    "        self.age=age\n",
    "    def show(self):\n",
    "        print(self.name)\n",
    "        print(self.age)\n",
    "    class k1:\n",
    "        def __init__(self,fname):\n",
    "            self.fname=fname\n",
    "        def show(self):\n",
    "            print(self.fname)\n",
    "        "
   ]
  },
  {
   "cell_type": "code",
   "execution_count": 26,
   "id": "c8cfe359",
   "metadata": {},
   "outputs": [],
   "source": [
    "m=k(\"ajay\",10)"
   ]
  },
  {
   "cell_type": "code",
   "execution_count": 27,
   "id": "d8991856",
   "metadata": {},
   "outputs": [
    {
     "name": "stdout",
     "output_type": "stream",
     "text": [
      "ajay\n",
      "10\n"
     ]
    }
   ],
   "source": [
    "m.show()"
   ]
  },
  {
   "cell_type": "code",
   "execution_count": 28,
   "id": "13acf746",
   "metadata": {},
   "outputs": [],
   "source": [
    "class student:\n",
    "    def __init__(self,name,fname,mname,age,clas,mark,fee):\n",
    "        self.name=name\n",
    "        self.fname=fname\n",
    "        self.mname=mname\n",
    "        self.age=age\n",
    "        self.clas=clas\n",
    "        self.mark\n",
    "        self.fee=fee\n",
    "    def info(self):\n",
    "        print(self.name)\n",
    "        print(self.fname)\n",
    "        print(self.mname)\n",
    "        print(self.age)\n",
    "        print(self.clas)\n",
    "        print(self.mark)\n",
    "        print(self.fee)\n",
    "    def mark(self):\n",
    "        m.info\n",
    "        percent=(self.mark/600)*100\n",
    "        print(percent)\n",
    "    "
   ]
  },
  {
   "cell_type": "code",
   "execution_count": 29,
   "id": "46417ff5",
   "metadata": {},
   "outputs": [
    {
     "ename": "TypeError",
     "evalue": "__init__() takes 3 positional arguments but 6 were given",
     "output_type": "error",
     "traceback": [
      "\u001b[1;31m---------------------------------------------------------------------------\u001b[0m",
      "\u001b[1;31mTypeError\u001b[0m                                 Traceback (most recent call last)",
      "\u001b[1;32m<ipython-input-29-ffefdcdd826a>\u001b[0m in \u001b[0;36m<module>\u001b[1;34m\u001b[0m\n\u001b[1;32m----> 1\u001b[1;33m \u001b[0mm\u001b[0m\u001b[1;33m=\u001b[0m\u001b[0mk\u001b[0m\u001b[1;33m(\u001b[0m\u001b[1;34m\"raj\"\u001b[0m\u001b[1;33m,\u001b[0m\u001b[1;36m28\u001b[0m\u001b[1;33m,\u001b[0m\u001b[1;34m\"ramu\"\u001b[0m\u001b[1;33m,\u001b[0m\u001b[1;34m\"komal\"\u001b[0m\u001b[1;33m,\u001b[0m\u001b[1;36m500\u001b[0m\u001b[1;33m)\u001b[0m\u001b[1;33m\u001b[0m\u001b[1;33m\u001b[0m\u001b[0m\n\u001b[0m",
      "\u001b[1;31mTypeError\u001b[0m: __init__() takes 3 positional arguments but 6 were given"
     ]
    }
   ],
   "source": [
    "m=k(\"raj\",28,\"ramu\",\"komal\",500)"
   ]
  },
  {
   "cell_type": "code",
   "execution_count": null,
   "id": "996468e2",
   "metadata": {},
   "outputs": [],
   "source": []
  },
  {
   "cell_type": "code",
   "execution_count": 30,
   "id": "1a918aee",
   "metadata": {},
   "outputs": [
    {
     "ename": "NameError",
     "evalue": "name 'mn' is not defined",
     "output_type": "error",
     "traceback": [
      "\u001b[1;31m---------------------------------------------------------------------------\u001b[0m",
      "\u001b[1;31mNameError\u001b[0m                                 Traceback (most recent call last)",
      "\u001b[1;32m<ipython-input-30-96f724523800>\u001b[0m in \u001b[0;36m<module>\u001b[1;34m\u001b[0m\n\u001b[1;32m----> 1\u001b[1;33m \u001b[1;32mclass\u001b[0m \u001b[0mmn\u001b[0m\u001b[1;33m:\u001b[0m\u001b[1;33m\u001b[0m\u001b[1;33m\u001b[0m\u001b[0m\n\u001b[0m\u001b[0;32m      2\u001b[0m        \u001b[1;32mdef\u001b[0m \u001b[0m__init__\u001b[0m\u001b[1;33m(\u001b[0m\u001b[0mseLF\u001b[0m\u001b[1;33m)\u001b[0m\u001b[1;33m:\u001b[0m\u001b[1;33m\u001b[0m\u001b[1;33m\u001b[0m\u001b[0m\n\u001b[0;32m      3\u001b[0m            \u001b[0mself\u001b[0m\u001b[1;33m.\u001b[0m\u001b[0mx\u001b[0m\u001b[1;33m=\u001b[0m\u001b[1;34m\"india\"\u001b[0m\u001b[1;33m\u001b[0m\u001b[1;33m\u001b[0m\u001b[0m\n\u001b[0;32m      4\u001b[0m            \u001b[1;32mdef\u001b[0m \u001b[0mshow\u001b[0m\u001b[1;33m(\u001b[0m\u001b[0mself\u001b[0m\u001b[1;33m)\u001b[0m\u001b[1;33m:\u001b[0m\u001b[1;33m\u001b[0m\u001b[1;33m\u001b[0m\u001b[0m\n\u001b[0;32m      5\u001b[0m                \u001b[0mprint\u001b[0m\u001b[1;33m(\u001b[0m\u001b[0mself\u001b[0m\u001b[1;33m.\u001b[0m\u001b[0mx\u001b[0m\u001b[1;33m)\u001b[0m\u001b[1;33m\u001b[0m\u001b[1;33m\u001b[0m\u001b[0m\n",
      "\u001b[1;32m<ipython-input-30-96f724523800>\u001b[0m in \u001b[0;36mmn\u001b[1;34m()\u001b[0m\n\u001b[0;32m      4\u001b[0m            \u001b[1;32mdef\u001b[0m \u001b[0mshow\u001b[0m\u001b[1;33m(\u001b[0m\u001b[0mself\u001b[0m\u001b[1;33m)\u001b[0m\u001b[1;33m:\u001b[0m\u001b[1;33m\u001b[0m\u001b[1;33m\u001b[0m\u001b[0m\n\u001b[0;32m      5\u001b[0m                \u001b[0mprint\u001b[0m\u001b[1;33m(\u001b[0m\u001b[0mself\u001b[0m\u001b[1;33m.\u001b[0m\u001b[0mx\u001b[0m\u001b[1;33m)\u001b[0m\u001b[1;33m\u001b[0m\u001b[1;33m\u001b[0m\u001b[0m\n\u001b[1;32m----> 6\u001b[1;33m        \u001b[1;32mclass\u001b[0m \u001b[0mmm\u001b[0m\u001b[1;33m(\u001b[0m\u001b[0mmn\u001b[0m\u001b[1;33m)\u001b[0m\u001b[1;33m:\u001b[0m\u001b[1;33m\u001b[0m\u001b[1;33m\u001b[0m\u001b[0m\n\u001b[0m\u001b[0;32m      7\u001b[0m            \u001b[1;32mpass\u001b[0m\u001b[1;33m\u001b[0m\u001b[1;33m\u001b[0m\u001b[0m\n\u001b[0;32m      8\u001b[0m \u001b[1;33m\u001b[0m\u001b[0m\n",
      "\u001b[1;31mNameError\u001b[0m: name 'mn' is not defined"
     ]
    }
   ],
   "source": [
    " class mn:\n",
    "        def __init__(seLF):\n",
    "            self.x=\"india\"\n",
    "            def show(self):\n",
    "                print(self.x)\n",
    "        class mm(mn):\n",
    "            pass\n",
    "                "
   ]
  },
  {
   "cell_type": "code",
   "execution_count": null,
   "id": "31e7fd14",
   "metadata": {},
   "outputs": [],
   "source": []
  },
  {
   "cell_type": "code",
   "execution_count": 31,
   "id": "55bfb521",
   "metadata": {},
   "outputs": [
    {
     "ename": "IndentationError",
     "evalue": "expected an indented block (<ipython-input-31-cfdc350bf93c>, line 11)",
     "output_type": "error",
     "traceback": [
      "\u001b[1;36m  File \u001b[1;32m\"<ipython-input-31-cfdc350bf93c>\"\u001b[1;36m, line \u001b[1;32m11\u001b[0m\n\u001b[1;33m    def setclasno(self):\u001b[0m\n\u001b[1;37m    ^\u001b[0m\n\u001b[1;31mIndentationError\u001b[0m\u001b[1;31m:\u001b[0m expected an indented block\n"
     ]
    }
   ],
   "source": [
    "class t:\n",
    "    def setname(self,name):\n",
    "        self.name=name\n",
    "    def setage(self,age):\n",
    "        self.age=age\n",
    "    def getname(self):\n",
    "        print(self.name)\n",
    "    def getage(self):\n",
    "        print(self.age)\n",
    "    class stu (teacher):\n",
    "    def setclasno(self):\n",
    "\n",
    "    \n",
    "        \n",
    "    \n",
    "        "
   ]
  },
  {
   "cell_type": "code",
   "execution_count": 32,
   "id": "6df69163",
   "metadata": {},
   "outputs": [
    {
     "ename": "SyntaxError",
     "evalue": "invalid syntax (<ipython-input-32-afc81e64f30f>, line 12)",
     "output_type": "error",
     "traceback": [
      "\u001b[1;36m  File \u001b[1;32m\"<ipython-input-32-afc81e64f30f>\"\u001b[1;36m, line \u001b[1;32m12\u001b[0m\n\u001b[1;33m    def get user(self):\u001b[0m\n\u001b[1;37m            ^\u001b[0m\n\u001b[1;31mSyntaxError\u001b[0m\u001b[1;31m:\u001b[0m invalid syntax\n"
     ]
    }
   ],
   "source": [
    "class bank:\n",
    "    def setname(self,name):\n",
    "        self.name=name\n",
    "    def setage(self,age):\n",
    "        self.age=age\n",
    "    def getname(self):\n",
    "        print(self.name)\n",
    "    def getage(self):\n",
    "        print(self.age)\n",
    "    def user(self,acc):\n",
    "        self.acc=acc\n",
    "    def get user(self):\n",
    "        print(self.acc)\n",
    "    \n",
    "        \n",
    "    \n"
   ]
  },
  {
   "cell_type": "code",
   "execution_count": 33,
   "id": "19c37f6a",
   "metadata": {},
   "outputs": [],
   "source": [
    "class x:\n",
    "    def __init__(self):\n",
    "        self.x=100\n",
    "    def show(self):\n",
    "        print(self.x)\n",
    "class y(x):\n",
    "    def show(self):\n",
    "        print(\"i m in y\",self.x)"
   ]
  },
  {
   "cell_type": "code",
   "execution_count": 34,
   "id": "9a486473",
   "metadata": {},
   "outputs": [
    {
     "name": "stdout",
     "output_type": "stream",
     "text": [
      "100\n"
     ]
    }
   ],
   "source": [
    "k=x()\n",
    "k.show()"
   ]
  },
  {
   "cell_type": "code",
   "execution_count": 35,
   "id": "f6d4cef3",
   "metadata": {},
   "outputs": [],
   "source": [
    "class employee:\n",
    "    def name(self,name):\n",
    "        self.name=name\n",
    "        def getname(self):\n",
    "            print(self.name)\n",
    "        def age(self,age):\n",
    "            self.age=age\n",
    "        def getage(self):\n",
    "            print(self.age)\n",
    "        def acount(self,acc):\n",
    "            self.acc=acc\n",
    "        def getacount(self):\n",
    "            print(self.acc)\n",
    "class user(employee):\n",
    "    def bank_details(self,bd):\n",
    "        self.bd=bd\n",
    "    def get_bank_details(self):\n",
    "        print(self.bd)\n",
    "            "
   ]
  },
  {
   "cell_type": "code",
   "execution_count": 36,
   "id": "1dfe6961",
   "metadata": {},
   "outputs": [],
   "source": [
    "class k:\n",
    "    def __init__(self,name):\n",
    "        self.name=name\n",
    "    def show(self):\n",
    "        print(self.name)\n",
    "class k1(k):\n",
    "    def __init__(self,name,age):\n",
    "        super().__init__(name)\n",
    "        self.age=age\n",
    "    def show(self):\n",
    "        print(self.name)\n",
    "        print(self.age)\n",
    "        \n",
    "    "
   ]
  },
  {
   "cell_type": "code",
   "execution_count": 37,
   "id": "0f30edc0",
   "metadata": {},
   "outputs": [],
   "source": [
    "m=k(\"Ram\")"
   ]
  },
  {
   "cell_type": "code",
   "execution_count": 38,
   "id": "63fb37df",
   "metadata": {},
   "outputs": [
    {
     "name": "stdout",
     "output_type": "stream",
     "text": [
      "Ram\n"
     ]
    }
   ],
   "source": [
    "m.show()"
   ]
  },
  {
   "cell_type": "code",
   "execution_count": 39,
   "id": "43892b2f",
   "metadata": {},
   "outputs": [
    {
     "name": "stdout",
     "output_type": "stream",
     "text": [
      "Ramesh\n",
      "23\n",
      "1640428409040\n"
     ]
    }
   ],
   "source": [
    "class P:\n",
    "    def __init__(self,name,age):\n",
    "        self.name=name\n",
    "        self.age=age\n",
    "    def show(self):\n",
    "        print(self.name)\n",
    "        print(self.age)\n",
    "        print(id(self))\n",
    "class P1:\n",
    "    def __init__(self,name):\n",
    "        self.name=name\n",
    "    def show(self):\n",
    "        print(self.name)\n",
    "class child(P,P1):\n",
    "    pass\n",
    "k=child(\"Ramesh\",23)\n",
    "k.show()\n",
    "\n",
    "    "
   ]
  },
  {
   "cell_type": "code",
   "execution_count": null,
   "id": "1cad1d3a",
   "metadata": {},
   "outputs": [],
   "source": []
  },
  {
   "cell_type": "code",
   "execution_count": null,
   "id": "6cfbf4ce",
   "metadata": {},
   "outputs": [],
   "source": []
  },
  {
   "cell_type": "code",
   "execution_count": null,
   "id": "2880b4dc",
   "metadata": {},
   "outputs": [],
   "source": [
    "1 write a python program to make a banking system . the bank class has all fixed variable we have different different location\n",
    "branch the branch class has all the branch detail fixed , only adress is not fixed. \n",
    "3rd class is revenue class fied detail \n",
    "target revenue\n",
    "total class\n",
    "\n",
    "1. all the class has show method from reven show method, i can see all \n",
    "2. from branch i can see bank\n",
    "3. from bank only bank details"
   ]
  },
  {
   "cell_type": "code",
   "execution_count": null,
   "id": "71ad56c8",
   "metadata": {},
   "outputs": [],
   "source": []
  },
  {
   "cell_type": "code",
   "execution_count": 23,
   "id": "ff999ed3",
   "metadata": {},
   "outputs": [
    {
     "ename": "NameError",
     "evalue": "name 'gzb' is not defined",
     "output_type": "error",
     "traceback": [
      "\u001b[1;31m---------------------------------------------------------------------------\u001b[0m",
      "\u001b[1;31mNameError\u001b[0m                                 Traceback (most recent call last)",
      "\u001b[1;32m<ipython-input-23-811c578ce4fa>\u001b[0m in \u001b[0;36m<module>\u001b[1;34m\u001b[0m\n\u001b[0;32m     13\u001b[0m \u001b[1;32mclass\u001b[0m \u001b[0mrevenue\u001b[0m\u001b[1;33m(\u001b[0m\u001b[0mbank\u001b[0m\u001b[1;33m,\u001b[0m\u001b[0mbranch\u001b[0m\u001b[1;33m)\u001b[0m\u001b[1;33m:\u001b[0m\u001b[1;33m\u001b[0m\u001b[1;33m\u001b[0m\u001b[0m\n\u001b[0;32m     14\u001b[0m     \u001b[1;32mpass\u001b[0m\u001b[1;33m\u001b[0m\u001b[1;33m\u001b[0m\u001b[0m\n\u001b[1;32m---> 15\u001b[1;33m \u001b[0mk\u001b[0m\u001b[1;33m=\u001b[0m\u001b[0mrevenue\u001b[0m\u001b[1;33m(\u001b[0m\u001b[1;34m\"pnb\"\u001b[0m\u001b[1;33m,\u001b[0m\u001b[0mgzb\u001b[0m\u001b[1;33m)\u001b[0m\u001b[1;33m\u001b[0m\u001b[1;33m\u001b[0m\u001b[0m\n\u001b[0m\u001b[0;32m     16\u001b[0m \u001b[0mk\u001b[0m\u001b[1;33m.\u001b[0m\u001b[0mshow\u001b[0m\u001b[1;33m(\u001b[0m\u001b[1;33m)\u001b[0m\u001b[1;33m\u001b[0m\u001b[1;33m\u001b[0m\u001b[0m\n",
      "\u001b[1;31mNameError\u001b[0m: name 'gzb' is not defined"
     ]
    }
   ],
   "source": [
    "class bank:\n",
    "    def __init__(self,name,location):\n",
    "        self.name=name\n",
    "        self.location=location\n",
    "    def show(self):\n",
    "        print(self.name)\n",
    "        print(self.location)\n",
    "class branch:\n",
    "    def __init__(self,name):\n",
    "        self.name=name\n",
    "    def show(self):\n",
    "        print(self.name)\n",
    "class revenue(bank,branch):\n",
    "    pass\n",
    "k=revenue(\"pnb\",gzb)\n",
    "k.show()"
   ]
  },
  {
   "cell_type": "code",
   "execution_count": 38,
   "id": "27b1dbd3",
   "metadata": {},
   "outputs": [
    {
     "name": "stdout",
     "output_type": "stream",
     "text": [
      "pnb\n",
      "ghaziabd\n"
     ]
    }
   ],
   "source": [
    "class Bank:\n",
    "    def __init__(self,name,location_name):\n",
    "        self.name=name\n",
    "        self.location_name=location_name\n",
    "    def show(self):\n",
    "        print(self.name)\n",
    "        print(self.location_name)\n",
    "class Branch:a\n",
    "    def __init__(self,name):\n",
    "        self.name=name\n",
    "    def show(self):\n",
    "        print(self.name)\n",
    "class Revenue(Bank,Branch):\n",
    "    pass\n",
    "k=Revenue(\"pnb\",\"ghaziabd\")\n",
    "k.show()\n",
    "    "
   ]
  },
  {
   "cell_type": "code",
   "execution_count": null,
   "id": "dd2e0717",
   "metadata": {},
   "outputs": [],
   "source": [
    "atmaraiprince@gmail.com"
   ]
  },
  {
   "cell_type": "code",
   "execution_count": null,
   "id": "a9f43a8d",
   "metadata": {},
   "outputs": [],
   "source": []
  },
  {
   "cell_type": "code",
   "execution_count": null,
   "id": "5fbdd88a",
   "metadata": {},
   "outputs": [],
   "source": [
    "class x:\n",
    "    def __init__(self,x):\n",
    "        self.x=x\n",
    "class y(x):\n",
    "    \n",
    "    pass\n",
    "y"
   ]
  },
  {
   "cell_type": "code",
   "execution_count": null,
   "id": "3834192f",
   "metadata": {},
   "outputs": [],
   "source": []
  },
  {
   "cell_type": "code",
   "execution_count": null,
   "id": "84df8658",
   "metadata": {},
   "outputs": [],
   "source": [
    "file handeling"
   ]
  },
  {
   "cell_type": "code",
   "execution_count": null,
   "id": "30ab417f",
   "metadata": {},
   "outputs": [],
   "source": []
  },
  {
   "cell_type": "code",
   "execution_count": null,
   "id": "7ebae495",
   "metadata": {},
   "outputs": [],
   "source": []
  },
  {
   "cell_type": "code",
   "execution_count": 42,
   "id": "eee34ce4",
   "metadata": {},
   "outputs": [],
   "source": [
    "f=open(\"even_batch.txt\",\"w\")"
   ]
  },
  {
   "cell_type": "code",
   "execution_count": 43,
   "id": "87b50cf7",
   "metadata": {},
   "outputs": [
    {
     "data": {
      "text/plain": [
       "5"
      ]
     },
     "execution_count": 43,
     "metadata": {},
     "output_type": "execute_result"
    }
   ],
   "source": [
    "f.write(\"India\")"
   ]
  },
  {
   "cell_type": "code",
   "execution_count": 44,
   "id": "39abdf8f",
   "metadata": {},
   "outputs": [],
   "source": [
    "f.close()"
   ]
  },
  {
   "cell_type": "code",
   "execution_count": 45,
   "id": "83bb0e09",
   "metadata": {},
   "outputs": [],
   "source": [
    "f=open(\"even_batch.txt\",\"r\")"
   ]
  },
  {
   "cell_type": "code",
   "execution_count": 46,
   "id": "ed90c796",
   "metadata": {},
   "outputs": [
    {
     "data": {
      "text/plain": [
       "'India'"
      ]
     },
     "execution_count": 46,
     "metadata": {},
     "output_type": "execute_result"
    }
   ],
   "source": [
    "f.read()"
   ]
  },
  {
   "cell_type": "code",
   "execution_count": 57,
   "id": "76667bb0",
   "metadata": {},
   "outputs": [],
   "source": [
    "f=open(\"even_batch.txt\",\"w\")"
   ]
  },
  {
   "cell_type": "code",
   "execution_count": 58,
   "id": "7a605ed4",
   "metadata": {},
   "outputs": [
    {
     "data": {
      "text/plain": [
       "4"
      ]
     },
     "execution_count": 58,
     "metadata": {},
     "output_type": "execute_result"
    }
   ],
   "source": [
    "f.write(\"ram \")"
   ]
  },
  {
   "cell_type": "code",
   "execution_count": 59,
   "id": "e5063e25",
   "metadata": {},
   "outputs": [
    {
     "data": {
      "text/plain": [
       "6"
      ]
     },
     "execution_count": 59,
     "metadata": {},
     "output_type": "execute_result"
    }
   ],
   "source": [
    "f.write(\"shyam \")"
   ]
  },
  {
   "cell_type": "code",
   "execution_count": 60,
   "id": "83f16799",
   "metadata": {},
   "outputs": [
    {
     "data": {
      "text/plain": [
       "5"
      ]
     },
     "execution_count": 60,
     "metadata": {},
     "output_type": "execute_result"
    }
   ],
   "source": [
    "f.write(\"golu \")"
   ]
  },
  {
   "cell_type": "code",
   "execution_count": 62,
   "id": "a9eac2e0",
   "metadata": {},
   "outputs": [],
   "source": [
    "f.close()"
   ]
  },
  {
   "cell_type": "code",
   "execution_count": 63,
   "id": "71bad8e5",
   "metadata": {},
   "outputs": [],
   "source": [
    "f=open(\"even_batch.txt\",\"r\")"
   ]
  },
  {
   "cell_type": "markdown",
   "id": "fc956742",
   "metadata": {},
   "source": [
    "f.read()"
   ]
  },
  {
   "cell_type": "code",
   "execution_count": 65,
   "id": "3c4fbcaa",
   "metadata": {},
   "outputs": [
    {
     "name": "stdout",
     "output_type": "stream",
     "text": [
      "enter the name:a\n",
      "enter the name:b\n",
      "enter the name:c\n"
     ]
    }
   ],
   "source": [
    "for i in range(3):\n",
    "    f=open(\"even_batch.txt\",\"w\")\n",
    "    print(\"enter the name:\",end=\"\")\n",
    "    x=input()\n",
    "    x=x+\" \"\n",
    "    f.write(x)"
   ]
  },
  {
   "cell_type": "code",
   "execution_count": null,
   "id": "abb54d2b",
   "metadata": {},
   "outputs": [],
   "source": []
  },
  {
   "cell_type": "code",
   "execution_count": null,
   "id": "894efae0",
   "metadata": {},
   "outputs": [],
   "source": [
    "write a python program fo finding prime no in list, when a data is not a prime no find, those no which will devide that data \n",
    "store all those number in text file."
   ]
  },
  {
   "cell_type": "code",
   "execution_count": null,
   "id": "b3b85254",
   "metadata": {},
   "outputs": [],
   "source": []
  },
  {
   "cell_type": "code",
   "execution_count": 13,
   "id": "07250aad",
   "metadata": {},
   "outputs": [
    {
     "name": "stdout",
     "output_type": "stream",
     "text": [
      "23\n",
      "67\n",
      "43\n",
      "103\n"
     ]
    }
   ],
   "source": [
    "x=[23,45,66,78,55,67,43,103]\n",
    "for i in x:\n",
    "    k=0\n",
    "    for j in range(2,i):\n",
    "           if(i%j==0):\n",
    "            k=k+1\n",
    "            break\n",
    "    if(k==0):\n",
    "        print(i)\n",
    "        f=open(\"prime .txt\",\"w\")\n",
    "\n",
    "                        "
   ]
  },
  {
   "cell_type": "code",
   "execution_count": 27,
   "id": "fd278971",
   "metadata": {},
   "outputs": [
    {
     "name": "stdout",
     "output_type": "stream",
     "text": [
      "{3: 6, 9: 2, 10: 4, 11: 1, 6: 2, 4: 1, 12: 1, 22: 1, 8: 1}\n"
     ]
    }
   ],
   "source": [
    "x=[3,9,3,10,11,3,10,6,10,3,4,3,10,12,22,8,9,6,3]\n",
    "y=dict()\n",
    "for i in x:\n",
    "    k=0\n",
    "    for j in x:\n",
    "        if(i==j):\n",
    "            k=k+1\n",
    "    y[i]=k\n",
    "\n",
    "print(y)    "
   ]
  },
  {
   "cell_type": "code",
   "execution_count": 26,
   "id": "62f30696",
   "metadata": {},
   "outputs": [
    {
     "data": {
      "text/plain": [
       "{3: 6, 9: 2, 10: 4, 11: 1, 6: 2, 4: 1, 12: 1, 22: 1, 8: 1}"
      ]
     },
     "execution_count": 26,
     "metadata": {},
     "output_type": "execute_result"
    }
   ],
   "source": [
    "y"
   ]
  },
  {
   "cell_type": "code",
   "execution_count": 1,
   "id": "df8dd69a",
   "metadata": {},
   "outputs": [],
   "source": [
    "x=[3,9,3,10,11,3,10,6,10,3,4,3,10,12,22,8,9,6,3]\n",
    "y=dict()\n",
    "for i in x:\n",
    "    k=0\n",
    "    for j in x:\n",
    "        if(i==j):\n",
    "            k=k+1\n",
    "    y[i]=k \n"
   ]
  },
  {
   "cell_type": "code",
   "execution_count": 43,
   "id": "73fbcd2c",
   "metadata": {},
   "outputs": [
    {
     "data": {
      "text/plain": [
       "3"
      ]
     },
     "execution_count": 43,
     "metadata": {},
     "output_type": "execute_result"
    }
   ],
   "source": [
    "max(y,key=y.get)"
   ]
  },
  {
   "cell_type": "code",
   "execution_count": 44,
   "id": "c9b6e1fb",
   "metadata": {},
   "outputs": [
    {
     "data": {
      "text/plain": [
       "6"
      ]
     },
     "execution_count": 44,
     "metadata": {},
     "output_type": "execute_result"
    }
   ],
   "source": [
    "max(y.values())"
   ]
  },
  {
   "cell_type": "code",
   "execution_count": 45,
   "id": "39eff4c4",
   "metadata": {},
   "outputs": [],
   "source": [
    "m=max(y,key=y.get)"
   ]
  },
  {
   "cell_type": "code",
   "execution_count": 46,
   "id": "597b0cf0",
   "metadata": {},
   "outputs": [
    {
     "name": "stdout",
     "output_type": "stream",
     "text": [
      "3 max no of occ: 6\n"
     ]
    }
   ],
   "source": [
    "print(m,\"max no of occ:\",y.get(m))"
   ]
  },
  {
   "cell_type": "raw",
   "id": "14504fbc",
   "metadata": {},
   "source": [
    "neoron\n",
    "single neoron\n",
    "multiple neoron\n",
    "relu\n",
    "sigmod\n"
   ]
  },
  {
   "cell_type": "code",
   "execution_count": null,
   "id": "893360fa",
   "metadata": {},
   "outputs": [],
   "source": []
  },
  {
   "cell_type": "code",
   "execution_count": 1,
   "id": "033fa509",
   "metadata": {},
   "outputs": [
    {
     "ename": "SyntaxError",
     "evalue": "unexpected EOF while parsing (<ipython-input-1-9841ec34ff5d>, line 5)",
     "output_type": "error",
     "traceback": [
      "\u001b[1;36m  File \u001b[1;32m\"<ipython-input-1-9841ec34ff5d>\"\u001b[1;36m, line \u001b[1;32m5\u001b[0m\n\u001b[1;33m    \u001b[0m\n\u001b[1;37m    ^\u001b[0m\n\u001b[1;31mSyntaxError\u001b[0m\u001b[1;31m:\u001b[0m unexpected EOF while parsing\n"
     ]
    }
   ],
   "source": [
    "def f1(x=non,y=non,z=non):\n",
    "    if(x!=non) and(y!=non) and(z!=non):\n",
    "        return x+y+z\n",
    "    elif (x!=non) and (y!=non):\n",
    "        \n"
   ]
  },
  {
   "cell_type": "code",
   "execution_count": null,
   "id": "fbe4be48",
   "metadata": {},
   "outputs": [],
   "source": [
    "class a:\n",
    "    pass\n"
   ]
  },
  {
   "cell_type": "code",
   "execution_count": 2,
   "id": "b61509cf",
   "metadata": {},
   "outputs": [
    {
     "name": "stdout",
     "output_type": "stream",
     "text": [
      "<class 'int'>\n",
      "<class 'str'>\n"
     ]
    }
   ],
   "source": [
    "x=4\n",
    "print(type(x))\n",
    "x=\"in\"\n",
    "print(type(x))"
   ]
  },
  {
   "cell_type": "code",
   "execution_count": null,
   "id": "c47d852f",
   "metadata": {},
   "outputs": [],
   "source": []
  }
 ],
 "metadata": {
  "kernelspec": {
   "display_name": "Python 3",
   "language": "python",
   "name": "python3"
  },
  "language_info": {
   "codemirror_mode": {
    "name": "ipython",
    "version": 3
   },
   "file_extension": ".py",
   "mimetype": "text/x-python",
   "name": "python",
   "nbconvert_exporter": "python",
   "pygments_lexer": "ipython3",
   "version": "3.8.8"
  }
 },
 "nbformat": 4,
 "nbformat_minor": 5
}
