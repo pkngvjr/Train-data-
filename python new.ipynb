{
 "cells": [
  {
   "cell_type": "code",
   "execution_count": 3,
   "id": "03185671",
   "metadata": {},
   "outputs": [
    {
     "name": "stdout",
     "output_type": "stream",
     "text": [
      "please subscribe this rishu yadav\n"
     ]
    }
   ],
   "source": [
    "print(\"please subscribe this \",end=\"\")\n",
    "print(\"rishu yadav\")"
   ]
  },
  {
   "cell_type": "code",
   "execution_count": 6,
   "id": "929092cf",
   "metadata": {},
   "outputs": [
    {
     "name": "stdout",
     "output_type": "stream",
     "text": [
      "c:\\'rishu\n"
     ]
    }
   ],
   "source": [
    "print(\"c:\\\\'rishu\")"
   ]
  },
  {
   "cell_type": "markdown",
   "id": "c04a58f6",
   "metadata": {},
   "source": [
    "# string"
   ]
  },
  {
   "cell_type": "code",
   "execution_count": 11,
   "id": "b3ed8c86",
   "metadata": {},
   "outputs": [
    {
     "name": "stdout",
     "output_type": "stream",
     "text": [
      "Rishu is a good\n",
      "19\n"
     ]
    }
   ],
   "source": [
    "mystr=\"Rishu is a good boy\"\n",
    "print(mystr[0:15])\n",
    "print(len(mystr))"
   ]
  },
  {
   "cell_type": "code",
   "execution_count": 12,
   "id": "2a5fa6ba",
   "metadata": {},
   "outputs": [
    {
     "name": "stdout",
     "output_type": "stream",
     "text": [
      "Rsui  od\n"
     ]
    }
   ],
   "source": [
    "mystr=\"Rishu is a good boy\"\n",
    "print(mystr[0:15:2])"
   ]
  },
  {
   "cell_type": "code",
   "execution_count": 18,
   "id": "7b420c38",
   "metadata": {},
   "outputs": [
    {
     "name": "stdout",
     "output_type": "stream",
     "text": [
      "Rsui  odby\n"
     ]
    }
   ],
   "source": [
    "mystr=\"Rishu is a good boy\"\n",
    "print(mystr[::2])"
   ]
  },
  {
   "cell_type": "code",
   "execution_count": 19,
   "id": "eb9f7982",
   "metadata": {},
   "outputs": [
    {
     "name": "stdout",
     "output_type": "stream",
     "text": [
      " boy\n"
     ]
    }
   ],
   "source": [
    "mystr=\"Rishu is a good boy\"\n",
    "print(mystr[-4:])"
   ]
  },
  {
   "cell_type": "code",
   "execution_count": 24,
   "id": "a8639a7c",
   "metadata": {},
   "outputs": [
    {
     "name": "stdout",
     "output_type": "stream",
     "text": [
      "a good b\n"
     ]
    }
   ],
   "source": [
    "mystr=\"Rishu is a good boy\"\n",
    "print(mystr[-10:-2])"
   ]
  },
  {
   "cell_type": "code",
   "execution_count": 25,
   "id": "1697666b",
   "metadata": {},
   "outputs": [
    {
     "name": "stdout",
     "output_type": "stream",
     "text": [
      "False\n"
     ]
    }
   ],
   "source": [
    "mystr=\"Rishu is a good boy\"\n",
    "print(mystr.isalnum())"
   ]
  },
  {
   "cell_type": "code",
   "execution_count": 27,
   "id": "9dddbe96",
   "metadata": {},
   "outputs": [
    {
     "name": "stdout",
     "output_type": "stream",
     "text": [
      "False\n"
     ]
    }
   ],
   "source": [
    "mystr=\"Rishu is a good boy\"\n",
    "print(mystr.isalpha())"
   ]
  },
  {
   "cell_type": "code",
   "execution_count": 28,
   "id": "446400cb",
   "metadata": {},
   "outputs": [
    {
     "name": "stdout",
     "output_type": "stream",
     "text": [
      "True\n"
     ]
    }
   ],
   "source": [
    "mystr=\"Rishu is a good boy\"\n",
    "print(mystr.endswith('boy'))"
   ]
  },
  {
   "cell_type": "code",
   "execution_count": 30,
   "id": "fcf27d41",
   "metadata": {},
   "outputs": [
    {
     "name": "stdout",
     "output_type": "stream",
     "text": [
      "3\n"
     ]
    }
   ],
   "source": [
    "mystr=\"Rishu is a good boy\"\n",
    "print(mystr.count('o'))"
   ]
  },
  {
   "cell_type": "code",
   "execution_count": 31,
   "id": "03be19eb",
   "metadata": {},
   "outputs": [
    {
     "name": "stdout",
     "output_type": "stream",
     "text": [
      "Rishu is a good boy\n"
     ]
    }
   ],
   "source": [
    "mystr=\"Rishu is a good boy\"\n",
    "print(mystr.capitalize())"
   ]
  },
  {
   "cell_type": "code",
   "execution_count": 42,
   "id": "6debfa93",
   "metadata": {},
   "outputs": [
    {
     "name": "stdout",
     "output_type": "stream",
     "text": [
      "1\n"
     ]
    }
   ],
   "source": [
    "mystr=\"Rishu is a good boy\"\n",
    "print(mystr.find(\"is\"))"
   ]
  },
  {
   "cell_type": "code",
   "execution_count": 3,
   "id": "86bb053b",
   "metadata": {},
   "outputs": [
    {
     "name": "stdout",
     "output_type": "stream",
     "text": [
      "{2, 3, 4, 5, 6, 7}\n"
     ]
    }
   ],
   "source": [
    "lst=[2,3,4,5,6,7] \n",
    "lst_set=set(lst)\n",
    "print(lst_set)"
   ]
  },
  {
   "cell_type": "code",
   "execution_count": 10,
   "id": "3c058fd2",
   "metadata": {},
   "outputs": [
    {
     "name": "stdout",
     "output_type": "stream",
     "text": [
      "56\n",
      "equal\n"
     ]
    }
   ],
   "source": [
    "var=6\n",
    "var2=56\n",
    "var3=int(input())\n",
    "if var3>var2:\n",
    "    print('greater')\n",
    "elif var3==var2:\n",
    "    print('equal')\n",
    "else:\n",
    "    print('lesser')"
   ]
  },
  {
   "cell_type": "code",
   "execution_count": 12,
   "id": "52d6becf",
   "metadata": {},
   "outputs": [
    {
     "name": "stdout",
     "output_type": "stream",
     "text": [
      "yes its in this list\n"
     ]
    }
   ],
   "source": [
    "list1=[5,7,3]\n",
    "if 5 in list1:\n",
    "    print('yes its in this list')"
   ]
  },
  {
   "cell_type": "code",
   "execution_count": 14,
   "id": "c82c11fe",
   "metadata": {},
   "outputs": [
    {
     "name": "stdout",
     "output_type": "stream",
     "text": [
      "what is your age\n",
      "7\n",
      "you can not drive\n"
     ]
    }
   ],
   "source": [
    "print('what is your age')\n",
    "age=int(input())\n",
    "if age<18:\n",
    "    print('you can not drive')\n",
    "elif age==18:\n",
    "    print('we will think about drive')\n",
    "else:\n",
    "    print('yes you can drive')"
   ]
  },
  {
   "cell_type": "code",
   "execution_count": 7,
   "id": "4c2ca263",
   "metadata": {},
   "outputs": [
    {
     "name": "stdout",
     "output_type": "stream",
     "text": [
      "6\n",
      "7\n"
     ]
    }
   ],
   "source": [
    "x=[3,4,5,6,7,int,float,'rishu']\n",
    "for i in x:\n",
    "    if str(i).isnumeric() and i>=6:\n",
    "        print(i)"
   ]
  },
  {
   "cell_type": "code",
   "execution_count": 10,
   "id": "931f8e15",
   "metadata": {},
   "outputs": [
    {
     "name": "stdout",
     "output_type": "stream",
     "text": [
      "0\n",
      "1\n",
      "2\n",
      "3\n",
      "4\n",
      "5\n",
      "6\n",
      "7\n",
      "8\n",
      "9\n",
      "10\n",
      "11\n",
      "12\n",
      "13\n",
      "14\n",
      "15\n",
      "16\n",
      "17\n",
      "18\n",
      "19\n",
      "20\n",
      "21\n",
      "22\n",
      "23\n",
      "24\n",
      "25\n",
      "26\n",
      "27\n",
      "28\n",
      "29\n",
      "30\n",
      "31\n",
      "32\n",
      "33\n",
      "34\n",
      "35\n",
      "36\n",
      "37\n",
      "38\n",
      "39\n",
      "40\n",
      "41\n",
      "42\n",
      "43\n",
      "44\n"
     ]
    }
   ],
   "source": [
    " i=0\n",
    "while(i<45):\n",
    "    print(i)\n",
    "    i=i+1"
   ]
  },
  {
   "cell_type": "code",
   "execution_count": 11,
   "id": "90f3835b",
   "metadata": {},
   "outputs": [
    {
     "name": "stdout",
     "output_type": "stream",
     "text": [
      "1 2 3 4 5 6 7 8 9 10 11 12 13 14 15 16 17 18 19 20 21 22 23 24 25 26 27 28 29 30 31 32 33 34 35 36 37 38 39 40 41 42 43 44 45 "
     ]
    }
   ],
   "source": [
    "i=0\n",
    "while(i<45):\n",
    "    print(i+1,end=\" \")\n",
    "    i=i+1"
   ]
  },
  {
   "cell_type": "code",
   "execution_count": 14,
   "id": "eb93b715",
   "metadata": {},
   "outputs": [
    {
     "name": "stdout",
     "output_type": "stream",
     "text": [
      "1 2 3 4 5 6 7 8 9 10 11 12 13 14 15 16 17 18 19 20 21 22 23 24 25 26 27 28 29 30 31 32 33 34 35 36 37 38 39 40 41 "
     ]
    }
   ],
   "source": [
    "i=0\n",
    "while(True):\n",
    "    print(i+1,end=\" \")\n",
    "    if(i==40):\n",
    "        break\n",
    "    i=i+1"
   ]
  },
  {
   "cell_type": "code",
   "execution_count": 15,
   "id": "c015535c",
   "metadata": {},
   "outputs": [
    {
     "name": "stdout",
     "output_type": "stream",
     "text": [
      "5 6 7 8 9 10 11 12 13 14 15 16 17 18 19 20 21 22 23 24 25 26 27 28 29 30 31 32 33 34 35 36 37 38 39 40 41 "
     ]
    }
   ],
   "source": [
    "i=0\n",
    "while(True):\n",
    "    if i+1<5:\n",
    "        i=i+1\n",
    "        continue\n",
    "    print(i+1,end=\" \")\n",
    "    if(i==40):\n",
    "        break\n",
    "    i=i+1"
   ]
  },
  {
   "cell_type": "code",
   "execution_count": 16,
   "id": "030bed4e",
   "metadata": {},
   "outputs": [
    {
     "name": "stdout",
     "output_type": "stream",
     "text": [
      "enter a number45\n",
      "try again!\n",
      "enter a number101\n",
      "congrates you have entered a number greater than 100\n"
     ]
    }
   ],
   "source": [
    "while(True):\n",
    "    inp=int(input('enter a number'))\n",
    "    if inp>100:\n",
    "        print('congrates you have entered a number greater than 100')\n",
    "        break\n",
    "    else:\n",
    "        print('try again!')\n",
    "        continue\n",
    "         "
   ]
  },
  {
   "cell_type": "code",
   "execution_count": 17,
   "id": "04c42f90",
   "metadata": {},
   "outputs": [
    {
     "name": "stdout",
     "output_type": "stream",
     "text": [
      "enter a number\n",
      "45\n",
      "try again!\n",
      "\n",
      "enter a number\n",
      "23\n",
      "try again!\n",
      "\n",
      "enter a number\n",
      "202\n",
      "congrates you have entered a number greater than 100\n",
      "\n"
     ]
    }
   ],
   "source": [
    "while(True):\n",
    "    inp=int(input('enter a number\\n'))\n",
    "    if inp>100:\n",
    "        print('congrates you have entered a number greater than 100\\n')\n",
    "        break\n",
    "    else:\n",
    "        print('try again!\\n')\n",
    "        continue"
   ]
  },
  {
   "cell_type": "code",
   "execution_count": 19,
   "id": "dcd31bfd",
   "metadata": {},
   "outputs": [],
   "source": [
    "# operators in python\n",
    "\n",
    "# arithmetic operator\n",
    "# assignment operator\n",
    "# comparison operator\n",
    "# logical operator\n",
    "# identify operator\n",
    "# membership operator \n",
    "# bitwise operator"
   ]
  },
  {
   "cell_type": "code",
   "execution_count": 24,
   "id": "e7721fd4",
   "metadata": {},
   "outputs": [
    {
     "name": "stdout",
     "output_type": "stream",
     "text": [
      "5+6 is  11\n",
      "5-6 is  -1\n",
      "5*6 is  30\n",
      "5/6 is  0.8333333333333334\n",
      "5**3 is  125\n",
      "5%5 is  0\n",
      "15//6 is  2\n"
     ]
    }
   ],
   "source": [
    "# arithmetic operator\n",
    "\n",
    "print(\"5+6 is \",5+6)\n",
    "print(\"5-6 is \",5-6)\n",
    "print(\"5*6 is \",5*6)\n",
    "print(\"5/6 is \",5/6)\n",
    "print(\"5**3 is \",5**3)\n",
    "print(\"5%5 is \",5%5)\n",
    "print(\"15//6 is \",15//6)"
   ]
  },
  {
   "cell_type": "code",
   "execution_count": 29,
   "id": "53dbba28",
   "metadata": {},
   "outputs": [
    {
     "name": "stdout",
     "output_type": "stream",
     "text": [
      "assignment operator\n",
      "5\n",
      "12\n"
     ]
    }
   ],
   "source": [
    "# assignment operator\n",
    "\n",
    "print(\"assignment operator\")\n",
    "x=5\n",
    "print(x)\n",
    "x +=7\n",
    "print(x)"
   ]
  },
  {
   "cell_type": "code",
   "execution_count": 38,
   "id": "1e4bff2c",
   "metadata": {},
   "outputs": [
    {
     "name": "stdout",
     "output_type": "stream",
     "text": [
      "False\n"
     ]
    }
   ],
   "source": [
    "# comparison operator\n",
    "\n",
    "i=7\n",
    "print(i==5)"
   ]
  },
  {
   "cell_type": "code",
   "execution_count": 41,
   "id": "1a4609ec",
   "metadata": {},
   "outputs": [
    {
     "name": "stdout",
     "output_type": "stream",
     "text": [
      "False\n"
     ]
    }
   ],
   "source": [
    "# logical operator\n",
    "\n",
    "a=True\n",
    "b=False\n",
    "print(a and b)"
   ]
  },
  {
   "cell_type": "code",
   "execution_count": 42,
   "id": "f13bd468",
   "metadata": {},
   "outputs": [
    {
     "name": "stdout",
     "output_type": "stream",
     "text": [
      "True\n"
     ]
    }
   ],
   "source": [
    "a=True\n",
    "b=False\n",
    "print(a or b)"
   ]
  },
  {
   "cell_type": "code",
   "execution_count": 44,
   "id": "1affd0fd",
   "metadata": {},
   "outputs": [
    {
     "name": "stdout",
     "output_type": "stream",
     "text": [
      "True\n"
     ]
    }
   ],
   "source": [
    "# identify operator\n",
    "\n",
    "a=True\n",
    "b=False\n",
    "print(a is not b)"
   ]
  },
  {
   "cell_type": "code",
   "execution_count": 45,
   "id": "56b3a863",
   "metadata": {},
   "outputs": [
    {
     "name": "stdout",
     "output_type": "stream",
     "text": [
      "True\n"
     ]
    }
   ],
   "source": [
    "# membership operator \n",
    "\n",
    "x=[3,4,5,6,75,54,45,3]\n",
    "print(45 in x)"
   ]
  },
  {
   "cell_type": "code",
   "execution_count": 46,
   "id": "1e612fdd",
   "metadata": {},
   "outputs": [
    {
     "name": "stdout",
     "output_type": "stream",
     "text": [
      "False\n"
     ]
    }
   ],
   "source": [
    "print(34 in x)"
   ]
  },
  {
   "cell_type": "code",
   "execution_count": 47,
   "id": "de5d6278",
   "metadata": {},
   "outputs": [
    {
     "name": "stdout",
     "output_type": "stream",
     "text": [
      "0\n"
     ]
    }
   ],
   "source": [
    "# bitwise operator\n",
    "\n",
    "print(0 and 1)"
   ]
  },
  {
   "cell_type": "code",
   "execution_count": 50,
   "id": "671d69ac",
   "metadata": {},
   "outputs": [
    {
     "name": "stdout",
     "output_type": "stream",
     "text": [
      "1\n"
     ]
    }
   ],
   "source": [
    "print(0 or 1)"
   ]
  },
  {
   "cell_type": "code",
   "execution_count": 57,
   "id": "431e996f",
   "metadata": {},
   "outputs": [
    {
     "name": "stdout",
     "output_type": "stream",
     "text": [
      "ener a\n",
      "5\n",
      "ener b\n",
      "6\n",
      "B A se bada hai\n"
     ]
    }
   ],
   "source": [
    "a=int(input('ener a\\n'))\n",
    "b=int(input('ener b\\n'))\n",
    "# if a>b: print(\"A B se bada hai\")\n",
    "print(\"B A se bada hai\") if a<b else  print(\"A B se bada hai\")"
   ]
  },
  {
   "cell_type": "code",
   "execution_count": 60,
   "id": "603cb08c",
   "metadata": {},
   "outputs": [
    {
     "name": "stdout",
     "output_type": "stream",
     "text": [
      "17\n"
     ]
    }
   ],
   "source": [
    "# built in function\n",
    "\n",
    "a=9\n",
    "b=8\n",
    "c=sum((a,b))\n",
    "print(c)"
   ]
  },
  {
   "cell_type": "code",
   "execution_count": 64,
   "id": "8dc0a262",
   "metadata": {},
   "outputs": [
    {
     "name": "stdout",
     "output_type": "stream",
     "text": [
      "hello you are in function 1\n"
     ]
    }
   ],
   "source": [
    "# user define function\n",
    "\n",
    "def function1():\n",
    "    print(\"hello you are in function 1\")\n",
    "function1()"
   ]
  },
  {
   "cell_type": "code",
   "execution_count": 67,
   "id": "d9b9d1a3",
   "metadata": {},
   "outputs": [
    {
     "name": "stdout",
     "output_type": "stream",
     "text": [
      "hello you are in function1:  12\n"
     ]
    }
   ],
   "source": [
    "def function1(a,b):\n",
    "    print(\"hello you are in function1: \",a+b)\n",
    "function1(5,7)"
   ]
  },
  {
   "cell_type": "code",
   "execution_count": 70,
   "id": "da994e76",
   "metadata": {},
   "outputs": [
    {
     "name": "stdout",
     "output_type": "stream",
     "text": [
      "6.0\n"
     ]
    }
   ],
   "source": [
    "def func2(a,b):\n",
    "    average=(a+b)/2\n",
    "    print(average)\n",
    "func2(5,7)"
   ]
  },
  {
   "cell_type": "code",
   "execution_count": 71,
   "id": "f8587cae",
   "metadata": {},
   "outputs": [
    {
     "name": "stdout",
     "output_type": "stream",
     "text": [
      "6.0\n",
      "None\n"
     ]
    }
   ],
   "source": [
    "def func2(a,b):\n",
    "    average=(a+b)/2\n",
    "    print(average)\n",
    "v=func2(5,7)\n",
    "print(v)"
   ]
  },
  {
   "cell_type": "code",
   "execution_count": 72,
   "id": "96726852",
   "metadata": {},
   "outputs": [
    {
     "name": "stdout",
     "output_type": "stream",
     "text": [
      "6.0\n"
     ]
    }
   ],
   "source": [
    "def func2(a,b):\n",
    "    average=(a+b)/2\n",
    "    #print(average)\n",
    "    return average\n",
    "v=func2(5,7)\n",
    "print(v)"
   ]
  },
  {
   "cell_type": "code",
   "execution_count": 79,
   "id": "00e73c1c",
   "metadata": {},
   "outputs": [
    {
     "name": "stdout",
     "output_type": "stream",
     "text": [
      "this is a function which will calculate average of two number\n"
     ]
    }
   ],
   "source": [
    "#docstring\n",
    "\n",
    "def func2(a,b):\n",
    "    \"\"\"this is a function which will calculate average of two number\"\"\"\n",
    "    average=(a+b)/2\n",
    "    #print(average)\n",
    "    return average\n",
    "# v=func2(5,7)\n",
    "# print(v)\n",
    "print(func2.__doc__ )"
   ]
  },
  {
   "cell_type": "code",
   "execution_count": 8,
   "id": "46c9ddb0",
   "metadata": {},
   "outputs": [
    {
     "name": "stdout",
     "output_type": "stream",
     "text": [
      "enter num 1\n",
      "34\n",
      "enter num 2\n",
      "2\n",
      "the sum of these two numbers is 36\n"
     ]
    }
   ],
   "source": [
    "# excaption handlling\n",
    " \n",
    "print('enter num 1')   \n",
    "num1=int(input())\n",
    "print('enter num 2')       \n",
    "num2=int(input())\n",
    "print('the sum of these two numbers is', num1+num2)\n"
   ]
  },
  {
   "cell_type": "code",
   "execution_count": 17,
   "id": "2f855134",
   "metadata": {},
   "outputs": [
    {
     "name": "stdout",
     "output_type": "stream",
     "text": [
      "enter num 1\n",
      "23\n",
      "enter num 2\n",
      "e\n"
     ]
    },
    {
     "ename": "ValueError",
     "evalue": "invalid literal for int() with base 10: 'e'",
     "output_type": "error",
     "traceback": [
      "\u001b[1;31m---------------------------------------------------------------------------\u001b[0m",
      "\u001b[1;31mValueError\u001b[0m                                Traceback (most recent call last)",
      "\u001b[1;32m<ipython-input-17-2d5766f67daa>\u001b[0m in \u001b[0;36m<module>\u001b[1;34m\u001b[0m\n\u001b[0;32m      4\u001b[0m \u001b[0mnum2\u001b[0m\u001b[1;33m=\u001b[0m\u001b[0minput\u001b[0m\u001b[1;33m(\u001b[0m\u001b[1;33m)\u001b[0m\u001b[1;33m\u001b[0m\u001b[1;33m\u001b[0m\u001b[0m\n\u001b[0;32m      5\u001b[0m \u001b[1;33m\u001b[0m\u001b[0m\n\u001b[1;32m----> 6\u001b[1;33m \u001b[0mprint\u001b[0m\u001b[1;33m(\u001b[0m\u001b[1;34m'the sum of these two numbers is'\u001b[0m\u001b[1;33m,\u001b[0m\u001b[0mint\u001b[0m\u001b[1;33m(\u001b[0m\u001b[0mnum1\u001b[0m\u001b[1;33m)\u001b[0m \u001b[1;33m+\u001b[0m \u001b[0mint\u001b[0m\u001b[1;33m(\u001b[0m\u001b[0mnum2\u001b[0m\u001b[1;33m)\u001b[0m\u001b[1;33m)\u001b[0m\u001b[1;33m\u001b[0m\u001b[1;33m\u001b[0m\u001b[0m\n\u001b[0m\u001b[0;32m      7\u001b[0m \u001b[0mprint\u001b[0m\u001b[1;33m(\u001b[0m\u001b[1;34m'this is very important'\u001b[0m\u001b[1;33m)\u001b[0m\u001b[1;33m\u001b[0m\u001b[1;33m\u001b[0m\u001b[0m\n",
      "\u001b[1;31mValueError\u001b[0m: invalid literal for int() with base 10: 'e'"
     ]
    }
   ],
   "source": [
    "print('enter num 1')   \n",
    "num1=input()\n",
    "print('enter num 2')       \n",
    "num2=input()\n",
    "\n",
    "print('the sum of these two numbers is',int(num1) + int(num2))\n",
    "print('this is very important')"
   ]
  },
  {
   "cell_type": "code",
   "execution_count": 18,
   "id": "366d6136",
   "metadata": {},
   "outputs": [
    {
     "name": "stdout",
     "output_type": "stream",
     "text": [
      "enter num 1\n",
      "34\n",
      "enter num 2\n",
      "r\n",
      "invalid literal for int() with base 10: 'r'\n",
      "this is very important\n"
     ]
    }
   ],
   "source": [
    "print('enter num 1')   \n",
    "num1=input()\n",
    "print('enter num 2')       \n",
    "num2=input()\n",
    "try:\n",
    "    print('the sum of these two numbers is',\n",
    "          int(num1) + int(num2))\n",
    "except Exception as e:\n",
    "      print(e)\n",
    "print('this is very important')"
   ]
  },
  {
   "cell_type": "code",
   "execution_count": 21,
   "id": "a3424ee6",
   "metadata": {},
   "outputs": [
    {
     "name": "stdout",
     "output_type": "stream",
     "text": [
      "Rishu is good boy\n",
      "Rishu is very smart\n",
      "Rishu is intelligent boy\n"
     ]
    }
   ],
   "source": [
    "f=open('sample.text')\n",
    "content=f.read()\n",
    "print(content)\n",
    "f.close()"
   ]
  },
  {
   "cell_type": "code",
   "execution_count": 28,
   "id": "13e179ba",
   "metadata": {},
   "outputs": [
    {
     "name": "stdout",
     "output_type": "stream",
     "text": [
      "b'Rishu is good boy\\nRishu is very smart\\nRishu is intelligent boy'\n"
     ]
    }
   ],
   "source": [
    "f=open('sample.text','rb')\n",
    "content=f.read()\n",
    "print(content)\n",
    "f.close()"
   ]
  },
  {
   "cell_type": "code",
   "execution_count": 29,
   "id": "1d270800",
   "metadata": {},
   "outputs": [
    {
     "name": "stdout",
     "output_type": "stream",
     "text": [
      "Rishu is good boy\n",
      "Rishu is very smart\n",
      "Rishu is intelligent boy\n"
     ]
    }
   ],
   "source": [
    "f=open('sample.text','rt')\n",
    "content=f.read()\n",
    "print(content)\n",
    "f.close()"
   ]
  },
  {
   "cell_type": "code",
   "execution_count": 34,
   "id": "d71b5727",
   "metadata": {},
   "outputs": [
    {
     "name": "stdout",
     "output_type": "stream",
     "text": [
      "Ris\n",
      "hu i\n"
     ]
    }
   ],
   "source": [
    "f=open('sample.text','rt')\n",
    "content=f.read(3)\n",
    "print(content)\n",
    "content=f.read(4)\n",
    "print(content)\n",
    "f.close()"
   ]
  },
  {
   "cell_type": "code",
   "execution_count": 38,
   "id": "ab06f90b",
   "metadata": {},
   "outputs": [
    {
     "name": "stdout",
     "output_type": "stream",
     "text": [
      "Rishu is good boy\n",
      " Rishu is very smart\n",
      " Rishu is intelligent boy "
     ]
    }
   ],
   "source": [
    "f=open('sample.text','rt')\n",
    "# content=f.read()\n",
    "for line in f:\n",
    "    print(line, end=\" \")\n",
    "# print(content)\n",
    "# f.close()"
   ]
  },
  {
   "cell_type": "code",
   "execution_count": 40,
   "id": "e930e6cf",
   "metadata": {},
   "outputs": [
    {
     "name": "stdout",
     "output_type": "stream",
     "text": [
      "Rishu is good boy\n",
      "\n",
      "Rishu is very smart\n",
      "\n"
     ]
    }
   ],
   "source": [
    "f=open('sample.text','rt')\n",
    "#content=f.read()\n",
    "#print(content)\n",
    "#f.close()\n",
    "print(f.readline())\n",
    "print(f.readline())"
   ]
  },
  {
   "cell_type": "code",
   "execution_count": 42,
   "id": "b09a196c",
   "metadata": {},
   "outputs": [
    {
     "name": "stdout",
     "output_type": "stream",
     "text": [
      "['Rishu is good boy\\n', 'Rishu is very smart\\n', 'Rishu is intelligent boy']\n"
     ]
    }
   ],
   "source": [
    "f=open('sample.text','rt')\n",
    "#content=f.read()\n",
    "#print(content)\n",
    "#f.close()\n",
    "print(f.readlines())\n",
    "# print(f.readline())"
   ]
  },
  {
   "cell_type": "code",
   "execution_count": 44,
   "id": "3f4e8885",
   "metadata": {},
   "outputs": [],
   "source": [
    "f=open('sample.text','w')\n",
    "f.write('Rishu bahut achhe hain')\n",
    "f.close()"
   ]
  },
  {
   "cell_type": "code",
   "execution_count": 46,
   "id": "4b0e3d6c",
   "metadata": {},
   "outputs": [
    {
     "name": "stdout",
     "output_type": "stream",
     "text": [
      "23\n"
     ]
    }
   ],
   "source": [
    "f=open('sample.text','w')\n",
    "a=f.write('Rishu bahut achhe hain\\n')\n",
    "print(a)\n",
    "f.close()"
   ]
  },
  {
   "cell_type": "code",
   "execution_count": 50,
   "id": "a29805b4",
   "metadata": {},
   "outputs": [
    {
     "name": "stdout",
     "output_type": "stream",
     "text": [
      "Rishu bahut achhe hain\n"
     ]
    },
    {
     "data": {
      "text/plain": [
       "9"
      ]
     },
     "execution_count": 50,
     "metadata": {},
     "output_type": "execute_result"
    }
   ],
   "source": [
    "f=open('sample.text','r+')\n",
    "print(f.read())\n",
    "f.write('thank you')"
   ]
  },
  {
   "cell_type": "code",
   "execution_count": 1,
   "id": "af8ef007",
   "metadata": {},
   "outputs": [],
   "source": [
    "f=open('prime no')"
   ]
  },
  {
   "cell_type": "code",
   "execution_count": 5,
   "id": "fc55b9fe",
   "metadata": {},
   "outputs": [
    {
     "name": "stdout",
     "output_type": "stream",
     "text": [
      "10 8\n",
      "this is me I have printed\n"
     ]
    }
   ],
   "source": [
    "l=10\n",
    "def function1(n):\n",
    "    l=5\n",
    "    m=8\n",
    "    print(l,m)\n",
    "    print(n,'I have printed')\n",
    "function1('this is me')\n",
    "# print(l)"
   ]
  },
  {
   "cell_type": "code",
   "execution_count": 7,
   "id": "f87bf026",
   "metadata": {},
   "outputs": [
    {
     "name": "stdout",
     "output_type": "stream",
     "text": [
      "55 8\n",
      "this is me I have printed\n"
     ]
    }
   ],
   "source": [
    "l=10\n",
    "def function1(n):\n",
    "    #l=5\n",
    "    m=8\n",
    "    global l\n",
    "    l=l+45\n",
    "    print(l,m)\n",
    "    print(n,'I have printed')\n",
    "function1('this is me')"
   ]
  },
  {
   "cell_type": "code",
   "execution_count": 11,
   "id": "8bc6e903",
   "metadata": {},
   "outputs": [
    {
     "name": "stdout",
     "output_type": "stream",
     "text": [
      "before calling rohan() 20\n",
      "after calling rohan() 20\n",
      "88\n"
     ]
    }
   ],
   "source": [
    "def rishu():\n",
    "    x=20\n",
    "    def rohan():\n",
    "        global x\n",
    "        x=88\n",
    "    print('before calling rohan()',x)\n",
    "    rohan()\n",
    "    print('after calling rohan()',x)\n",
    "rishu()\n",
    "#print(x)"
   ]
  },
  {
   "cell_type": "code",
   "execution_count": 14,
   "id": "8aadb02c",
   "metadata": {},
   "outputs": [
    {
     "name": "stdout",
     "output_type": "stream",
     "text": [
      "after calling rohan() 20\n",
      "88\n"
     ]
    }
   ],
   "source": [
    "x=89\n",
    "def rishu():\n",
    "    x=20\n",
    "    def rohan():\n",
    "        global x\n",
    "        x=88\n",
    "    #print('before calling rohan()',x)\n",
    "    rohan()\n",
    "    print('after calling rohan()',x)\n",
    "rishu()\n",
    "print(x)"
   ]
  },
  {
   "cell_type": "code",
   "execution_count": 18,
   "id": "dbfb644f",
   "metadata": {},
   "outputs": [
    {
     "name": "stdout",
     "output_type": "stream",
     "text": [
      "this is rishu\n"
     ]
    }
   ],
   "source": [
    "def print2(str1):\n",
    "\n",
    "    print('this is '+str1)\n",
    "print2('rishu')"
   ]
  },
  {
   "cell_type": "code",
   "execution_count": 21,
   "id": "6f964c97",
   "metadata": {},
   "outputs": [
    {
     "name": "stdout",
     "output_type": "stream",
     "text": [
      "enter then number7\n",
      "8\n"
     ]
    }
   ],
   "source": [
    "def fibonacci(n):\n",
    "    if n==1:\n",
    "        return 0\n",
    "    elif n==2:\n",
    "        return 1\n",
    "    else:\n",
    "        return fibonacci(n-1)+fibonacci(n-2)\n",
    "number= int(input('enter then number'))\n",
    "print(fibonacci(number))\n",
    "    "
   ]
  },
  {
   "cell_type": "code",
   "execution_count": 31,
   "id": "91de379f",
   "metadata": {},
   "outputs": [
    {
     "name": "stdout",
     "output_type": "stream",
     "text": [
      "0\n",
      "49.97920165746896\n"
     ]
    }
   ],
   "source": [
    "import random\n",
    "random_number= random.randint(0,1)\n",
    "print(random_number)\n",
    "rand=random.random()*100\n",
    "print(rand)"
   ]
  },
  {
   "cell_type": "code",
   "execution_count": 35,
   "id": "30bcf28a",
   "metadata": {},
   "outputs": [
    {
     "name": "stdout",
     "output_type": "stream",
     "text": [
      "sugan\n"
     ]
    }
   ],
   "source": [
    "import random\n",
    "lst=['rishu','yadav','ankit','sugan']\n",
    "choice=random.choice(lst)\n",
    "print(choice)"
   ]
  },
  {
   "cell_type": "code",
   "execution_count": null,
   "id": "1bbe6730",
   "metadata": {},
   "outputs": [],
   "source": []
  }
 ],
 "metadata": {
  "kernelspec": {
   "display_name": "Python 3",
   "language": "python",
   "name": "python3"
  },
  "language_info": {
   "codemirror_mode": {
    "name": "ipython",
    "version": 3
   },
   "file_extension": ".py",
   "mimetype": "text/x-python",
   "name": "python",
   "nbconvert_exporter": "python",
   "pygments_lexer": "ipython3",
   "version": "3.8.8"
  }
 },
 "nbformat": 4,
 "nbformat_minor": 5
}
