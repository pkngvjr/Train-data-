{
 "cells": [
  {
   "cell_type": "markdown",
   "id": "521ea788",
   "metadata": {},
   "source": [
    "# operator"
   ]
  },
  {
   "cell_type": "code",
   "execution_count": 2,
   "id": "74f54dcc",
   "metadata": {},
   "outputs": [],
   "source": [
    "# arithmetic operator(+,-,*,/)\n",
    "# assignment operator(=,+=,-=)\n",
    "# comparison operator(==,>,>=,<,!=)\n",
    "# logic operator(and,or,not)\n",
    "\n",
    "    "
   ]
  },
  {
   "cell_type": "raw",
   "id": "3c92115d",
   "metadata": {},
   "source": [
    "a=input(\"Enter your name :\")\n",
    "print(a)   "
   ]
  },
  {
   "cell_type": "code",
   "execution_count": 3,
   "id": "5b1dc2a3",
   "metadata": {},
   "outputs": [
    {
     "name": "stdout",
     "output_type": "stream",
     "text": [
      "the sum of a and b is: 39\n"
     ]
    }
   ],
   "source": [
    "a=34\n",
    "b=5\n",
    "print(\"the sum of a and b is:\", a+b)"
   ]
  },
  {
   "cell_type": "code",
   "execution_count": 4,
   "id": "31ce76a9",
   "metadata": {},
   "outputs": [
    {
     "name": "stdout",
     "output_type": "stream",
     "text": [
      "the remender when a is devided by b is: 0\n"
     ]
    }
   ],
   "source": [
    "a=45\n",
    "b=15\n",
    "print(\"the remender when a is devided by b is:\",a%b)"
   ]
  },
  {
   "cell_type": "code",
   "execution_count": 5,
   "id": "90dd0320",
   "metadata": {},
   "outputs": [
    {
     "name": "stdout",
     "output_type": "stream",
     "text": [
      "True\n"
     ]
    }
   ],
   "source": [
    "a=45\n",
    "b=36\n",
    "print(a>b)"
   ]
  },
  {
   "cell_type": "code",
   "execution_count": 6,
   "id": "65ea0a4e",
   "metadata": {},
   "outputs": [
    {
     "name": "stdout",
     "output_type": "stream",
     "text": [
      "enter first number:34\n",
      "enter second number:35\n",
      "the average of a and b is: 34.5\n"
     ]
    }
   ],
   "source": [
    "a=input(\"enter first number:\")\n",
    "b=input(\"enter second number:\")\n",
    "a=int(a)\n",
    "b=int(b)\n",
    "avg=(a+b)/2\n",
    "print(\"the average of a and b is:\",avg)"
   ]
  },
  {
   "cell_type": "markdown",
   "id": "d28c75ed",
   "metadata": {},
   "source": [
    "# string"
   ]
  },
  {
   "cell_type": "code",
   "execution_count": 7,
   "id": "71c68702",
   "metadata": {},
   "outputs": [],
   "source": [
    "#string is a data type in python, strung is a sequence of charecters unclosed in quots\n",
    "\n",
    "#single quots string(a='Rishu')\n",
    "#double quots string(a=\"Rishu\")\n",
    "#triple quots string(a='''Rishu''')"
   ]
  },
  {
   "cell_type": "code",
   "execution_count": 8,
   "id": "cd1af491",
   "metadata": {},
   "outputs": [
    {
     "name": "stdout",
     "output_type": "stream",
     "text": [
      "rishu\"yadav\n"
     ]
    }
   ],
   "source": [
    "a='rishu\"yadav'\n",
    "print(a)"
   ]
  },
  {
   "cell_type": "code",
   "execution_count": 9,
   "id": "84c713a4",
   "metadata": {},
   "outputs": [
    {
     "data": {
      "text/plain": [
       "str"
      ]
     },
     "execution_count": 9,
     "metadata": {},
     "output_type": "execute_result"
    }
   ],
   "source": [
    "type(a)"
   ]
  },
  {
   "cell_type": "code",
   "execution_count": 10,
   "id": "3afa934c",
   "metadata": {},
   "outputs": [
    {
     "name": "stdout",
     "output_type": "stream",
     "text": [
      "rishu'yadav\n"
     ]
    }
   ],
   "source": [
    "a=\"rishu'yadav\"\n",
    "print(a)"
   ]
  },
  {
   "cell_type": "code",
   "execution_count": 11,
   "id": "aa037e00",
   "metadata": {},
   "outputs": [
    {
     "data": {
      "text/plain": [
       "str"
      ]
     },
     "execution_count": 11,
     "metadata": {},
     "output_type": "execute_result"
    }
   ],
   "source": [
    "type(a)"
   ]
  },
  {
   "cell_type": "code",
   "execution_count": 12,
   "id": "ab510487",
   "metadata": {},
   "outputs": [
    {
     "name": "stdout",
     "output_type": "stream",
     "text": [
      "rishu'yadav\n"
     ]
    }
   ],
   "source": [
    "a='''rishu'yadav'''\n",
    "print(a)"
   ]
  },
  {
   "cell_type": "code",
   "execution_count": 13,
   "id": "bc37260f",
   "metadata": {},
   "outputs": [
    {
     "data": {
      "text/plain": [
       "str"
      ]
     },
     "execution_count": 13,
     "metadata": {},
     "output_type": "execute_result"
    }
   ],
   "source": [
    "type(a)"
   ]
  },
  {
   "cell_type": "code",
   "execution_count": 14,
   "id": "6c8c2b67",
   "metadata": {},
   "outputs": [
    {
     "name": "stdout",
     "output_type": "stream",
     "text": [
      "Ris\n"
     ]
    }
   ],
   "source": [
    "name=\"Rishu\"\n",
    "print(name[0:3])"
   ]
  },
  {
   "cell_type": "code",
   "execution_count": 15,
   "id": "0de77d1e",
   "metadata": {},
   "outputs": [
    {
     "name": "stdout",
     "output_type": "stream",
     "text": [
      "ishu\n"
     ]
    }
   ],
   "source": [
    "name=\"Rishu\"\n",
    "print(name[-4:11])"
   ]
  },
  {
   "cell_type": "code",
   "execution_count": 16,
   "id": "5478d22f",
   "metadata": {},
   "outputs": [
    {
     "name": "stdout",
     "output_type": "stream",
     "text": [
      "ihy\n"
     ]
    }
   ],
   "source": [
    "# slicing with skip value\n",
    "\n",
    "name=\"Rishuyadav\"\n",
    "print(name[1:6:2])"
   ]
  },
  {
   "cell_type": "code",
   "execution_count": 17,
   "id": "4e4c7976",
   "metadata": {},
   "outputs": [
    {
     "name": "stdout",
     "output_type": "stream",
     "text": [
      "ihydv\n"
     ]
    }
   ],
   "source": [
    "name=\"Rishuyadav\"\n",
    "print(name[1::2])"
   ]
  },
  {
   "cell_type": "code",
   "execution_count": 18,
   "id": "a5e04933",
   "metadata": {},
   "outputs": [
    {
     "data": {
      "text/plain": [
       "'Rishuyadav'"
      ]
     },
     "execution_count": 18,
     "metadata": {},
     "output_type": "execute_result"
    }
   ],
   "source": [
    "name=\"Rishuyadav\"\n",
    "name[:10]"
   ]
  },
  {
   "cell_type": "code",
   "execution_count": 19,
   "id": "af9090db",
   "metadata": {},
   "outputs": [
    {
     "data": {
      "text/plain": [
       "'Rishuyadav'"
      ]
     },
     "execution_count": 19,
     "metadata": {},
     "output_type": "execute_result"
    }
   ],
   "source": [
    "name=\"Rishuyadav\"\n",
    "name[0:]"
   ]
  },
  {
   "cell_type": "markdown",
   "id": "ee1c6532",
   "metadata": {},
   "source": [
    "# string function"
   ]
  },
  {
   "cell_type": "code",
   "execution_count": 20,
   "id": "b6d03e08",
   "metadata": {},
   "outputs": [
    {
     "name": "stdout",
     "output_type": "stream",
     "text": [
      "86\n"
     ]
    }
   ],
   "source": [
    "story=\"once upon a time there was a youtuber named Rishu who uploaded python coursewith notes\"\n",
    "print(len(story))"
   ]
  },
  {
   "cell_type": "code",
   "execution_count": 21,
   "id": "5dfb1bfc",
   "metadata": {},
   "outputs": [
    {
     "name": "stdout",
     "output_type": "stream",
     "text": [
      "True\n"
     ]
    }
   ],
   "source": [
    "# endswith function\n",
    "\n",
    "print(story.endswith('notes'))\n"
   ]
  },
  {
   "cell_type": "code",
   "execution_count": 22,
   "id": "fe14c0cb",
   "metadata": {},
   "outputs": [
    {
     "name": "stdout",
     "output_type": "stream",
     "text": [
      "5\n"
     ]
    }
   ],
   "source": [
    "#count function\n",
    "\n",
    "print(story.count('a'))"
   ]
  },
  {
   "cell_type": "code",
   "execution_count": 23,
   "id": "e1203129",
   "metadata": {},
   "outputs": [
    {
     "name": "stdout",
     "output_type": "stream",
     "text": [
      "Once upon a time there was a youtuber named rishu who uploaded python coursewith notes\n"
     ]
    }
   ],
   "source": [
    "#capitalize function\n",
    "\n",
    "print(story.capitalize())"
   ]
  },
  {
   "cell_type": "code",
   "execution_count": 24,
   "id": "b948fa3d",
   "metadata": {},
   "outputs": [
    {
     "name": "stdout",
     "output_type": "stream",
     "text": [
      "23\n"
     ]
    }
   ],
   "source": [
    "#find function\n",
    "\n",
    "print(story.find('was'))"
   ]
  },
  {
   "cell_type": "code",
   "execution_count": 25,
   "id": "915b5ff2",
   "metadata": {},
   "outputs": [
    {
     "name": "stdout",
     "output_type": "stream",
     "text": [
      "once upon a time there was a youtuber named Yadav who uploaded python coursewith notes\n"
     ]
    }
   ],
   "source": [
    "#replace function\n",
    "\n",
    "print(story.replace('Rishu','Yadav'))"
   ]
  },
  {
   "cell_type": "code",
   "execution_count": 26,
   "id": "eb22419a",
   "metadata": {},
   "outputs": [],
   "source": [
    "# escape sequence charecters\n",
    "\n",
    "# \\n-->newline\n",
    "# \\t-->tab\n",
    "# \\--> singlequots\n",
    "#\\\\-->backslash"
   ]
  },
  {
   "cell_type": "code",
   "execution_count": 27,
   "id": "ddf3257e",
   "metadata": {},
   "outputs": [
    {
     "name": "stdout",
     "output_type": "stream",
     "text": [
      "Rishu is boy.\n",
      " he is very good\n"
     ]
    }
   ],
   "source": [
    "story=\"Rishu is boy.\\n he is very good\"\n",
    "print(story)"
   ]
  },
  {
   "cell_type": "code",
   "execution_count": 28,
   "id": "e8fddbfd",
   "metadata": {},
   "outputs": [
    {
     "name": "stdout",
     "output_type": "stream",
     "text": [
      "Rishu is boy.\t he is very good\n"
     ]
    }
   ],
   "source": [
    "story=\"Rishu is boy.\\t he is very good\"\n",
    "print(story)"
   ]
  },
  {
   "cell_type": "code",
   "execution_count": 29,
   "id": "f097b826",
   "metadata": {},
   "outputs": [
    {
     "name": "stdout",
     "output_type": "stream",
     "text": [
      "Rishu is boy.\\ he is very good\n"
     ]
    }
   ],
   "source": [
    "story=\"Rishu is boy.\\ he is very good\"\n",
    "print(story)"
   ]
  },
  {
   "cell_type": "code",
   "execution_count": 30,
   "id": "e4e1e480",
   "metadata": {},
   "outputs": [
    {
     "name": "stdout",
     "output_type": "stream",
     "text": [
      "Rishu is boy.\\ he is very good\n"
     ]
    }
   ],
   "source": [
    "story=\"Rishu is boy.\\\\ he is very good\"\n",
    "print(story)"
   ]
  },
  {
   "cell_type": "code",
   "execution_count": null,
   "id": "901143d4",
   "metadata": {},
   "outputs": [],
   "source": []
  },
  {
   "cell_type": "code",
   "execution_count": null,
   "id": "694fef2e",
   "metadata": {},
   "outputs": [],
   "source": []
  },
  {
   "cell_type": "code",
   "execution_count": 31,
   "id": "d68d16c4",
   "metadata": {},
   "outputs": [
    {
     "name": "stdout",
     "output_type": "stream",
     "text": [
      "enter your name:ram\n",
      "good after noon,ram\n"
     ]
    }
   ],
   "source": [
    "name=input(\"enter your name:\")\n",
    "print(\"good after noon,\" + name)"
   ]
  },
  {
   "cell_type": "code",
   "execution_count": 32,
   "id": "f407ebfc",
   "metadata": {},
   "outputs": [
    {
     "name": "stdout",
     "output_type": "stream",
     "text": [
      "Enter your Name\n",
      "ram\n",
      "Enter your Date\n",
      "21 dec\n",
      "Dear <ram,Greeting from ABC coading house.\n",
      "I am happy tell you about your selection you are selectd!\n",
      "thanks and regards,\n",
      "Rishu \n",
      "Date:<21 dec\n",
      "\n"
     ]
    }
   ],
   "source": [
    " letter='''Dear <|NAME|>,Greeting from ABC coading house.\n",
    " I am happy tell you about your selection you are selectd!\n",
    " thanks and regards,\n",
    " Rishu \n",
    " Date:<|DATE|>\n",
    " '''\n",
    "name=input('Enter your Name\\n')\n",
    "date=input('Enter your Date\\n')\n",
    "letter=letter.replace(\"|NAME|>\",name)\n",
    "letter=letter.replace(\"|DATE|>\",date)\n",
    "print(letter)"
   ]
  },
  {
   "cell_type": "code",
   "execution_count": 33,
   "id": "4ef2fa8f",
   "metadata": {},
   "outputs": [
    {
     "name": "stdout",
     "output_type": "stream",
     "text": [
      "Dear HArry, This python course is nice thanks!\n"
     ]
    }
   ],
   "source": [
    "letter=\"Dear HArry, This python course is nice thanks!\"\n",
    "print(letter)"
   ]
  },
  {
   "cell_type": "code",
   "execution_count": 34,
   "id": "06624a0a",
   "metadata": {},
   "outputs": [
    {
     "name": "stdout",
     "output_type": "stream",
     "text": [
      "Dear HArry,\n",
      " This python course is nice !\n",
      "thanks!\n"
     ]
    }
   ],
   "source": [
    "formottedletter=\"Dear HArry,\\n This python course is nice !\\nthanks!\"\n",
    "print(formottedletter)"
   ]
  },
  {
   "cell_type": "code",
   "execution_count": null,
   "id": "07f8e528",
   "metadata": {},
   "outputs": [],
   "source": []
  },
  {
   "cell_type": "markdown",
   "id": "dcad1db8",
   "metadata": {},
   "source": [
    "# list and tupple"
   ]
  },
  {
   "cell_type": "code",
   "execution_count": 35,
   "id": "1419ae22",
   "metadata": {},
   "outputs": [
    {
     "name": "stdout",
     "output_type": "stream",
     "text": [
      "[1, 2, 7, 8, 15, 21]\n"
     ]
    }
   ],
   "source": [
    "# list method\n",
    "# sort\n",
    "\n",
    "l1=[1,8,7,2,21,15]\n",
    "l1.sort()\n",
    "print(l1)"
   ]
  },
  {
   "cell_type": "code",
   "execution_count": 36,
   "id": "e35f3d82",
   "metadata": {},
   "outputs": [
    {
     "name": "stdout",
     "output_type": "stream",
     "text": [
      "[1, 8, 7, 2, 21, 15]\n",
      "[1, 2, 7, 8, 15, 21]\n"
     ]
    }
   ],
   "source": [
    "l1=[1,8,7,2,21,15]\n",
    "print(l1)\n",
    "l1.sort()\n",
    "print(l1)"
   ]
  },
  {
   "cell_type": "code",
   "execution_count": 37,
   "id": "faefc36d",
   "metadata": {},
   "outputs": [
    {
     "name": "stdout",
     "output_type": "stream",
     "text": [
      "[15, 21, 2, 7, 8, 1]\n"
     ]
    }
   ],
   "source": [
    "#reverse method\n",
    "\n",
    "l1=[1,8,7,2,21,15]\n",
    "l1.reverse()\n",
    "print(l1)"
   ]
  },
  {
   "cell_type": "code",
   "execution_count": 38,
   "id": "09910418",
   "metadata": {},
   "outputs": [
    {
     "name": "stdout",
     "output_type": "stream",
     "text": [
      "[15, 21, 2, 7, 8, 1, 45]\n"
     ]
    }
   ],
   "source": [
    "#append\n",
    "\n",
    "l1.append(45)\n",
    "print(l1)"
   ]
  },
  {
   "cell_type": "code",
   "execution_count": 39,
   "id": "20a357fc",
   "metadata": {},
   "outputs": [
    {
     "name": "stdout",
     "output_type": "stream",
     "text": [
      "[45, 1, 8, 7, 2, 21, 15]\n"
     ]
    }
   ],
   "source": [
    "#insert\n",
    "\n",
    "l1=[1,8,7,2,21,15]\n",
    "l1.insert(0,45)\n",
    "print(l1)"
   ]
  },
  {
   "cell_type": "code",
   "execution_count": 40,
   "id": "152645dc",
   "metadata": {},
   "outputs": [
    {
     "name": "stdout",
     "output_type": "stream",
     "text": [
      "[1, 8, 7, 2, 15]\n"
     ]
    }
   ],
   "source": [
    "#pop\n",
    "\n",
    "l1=[1,8,7,2,21,15]\n",
    "l1.pop(4)\n",
    "print(l1)"
   ]
  },
  {
   "cell_type": "code",
   "execution_count": 41,
   "id": "c8fb0fc6",
   "metadata": {},
   "outputs": [
    {
     "name": "stdout",
     "output_type": "stream",
     "text": [
      "[1, 8, 7, 2, 15]\n"
     ]
    }
   ],
   "source": [
    "#remove\n",
    "\n",
    "l1=[1,8,7,2,21,15]\n",
    "l1.remove(21)\n",
    "print(l1)"
   ]
  },
  {
   "cell_type": "code",
   "execution_count": 42,
   "id": "bc6e4228",
   "metadata": {},
   "outputs": [
    {
     "name": "stdout",
     "output_type": "stream",
     "text": [
      "4\n"
     ]
    }
   ],
   "source": [
    "#tupple method\n",
    "\n",
    "#count\n",
    "\n",
    "t=(1,2,4,5,4,1,2,1,1)\n",
    "print(t.count(1))"
   ]
  },
  {
   "cell_type": "code",
   "execution_count": 43,
   "id": "a3b41dc2",
   "metadata": {},
   "outputs": [
    {
     "name": "stdout",
     "output_type": "stream",
     "text": [
      "3\n"
     ]
    }
   ],
   "source": [
    "# index\n",
    "\n",
    "t=(1,2,4,5,4,1,2,1,1)\n",
    "print(t.index(5))\n"
   ]
  },
  {
   "cell_type": "code",
   "execution_count": null,
   "id": "54ff8bce",
   "metadata": {},
   "outputs": [],
   "source": []
  },
  {
   "cell_type": "markdown",
   "id": "17040e9c",
   "metadata": {},
   "source": [
    "# Dictionary & Sets"
   ]
  },
  {
   "cell_type": "code",
   "execution_count": 44,
   "id": "4455761f",
   "metadata": {},
   "outputs": [
    {
     "name": "stdout",
     "output_type": "stream",
     "text": [
      "{'Fast': 'In a quick manner', 'Harry': 'A coder', 'marks': [2, 3], 'anotherdict': {'harry': 'player'}}\n"
     ]
    }
   ],
   "source": [
    "myDict={\"Fast\":\"In a quick manner\",\"Harry\":\"A coder\",\"marks\":[2,3],\"anotherdict\":{\"harry\":\"player\"}}\n",
    "print(myDict)\n"
   ]
  },
  {
   "cell_type": "code",
   "execution_count": 45,
   "id": "4d44a3fa",
   "metadata": {},
   "outputs": [
    {
     "name": "stdout",
     "output_type": "stream",
     "text": [
      "In a quick manner\n"
     ]
    }
   ],
   "source": [
    "print(myDict[\"Fast\"])\n"
   ]
  },
  {
   "cell_type": "code",
   "execution_count": 46,
   "id": "d0b04520",
   "metadata": {},
   "outputs": [
    {
     "name": "stdout",
     "output_type": "stream",
     "text": [
      "A coder\n"
     ]
    }
   ],
   "source": [
    "print(myDict[\"Harry\"])"
   ]
  },
  {
   "cell_type": "code",
   "execution_count": 47,
   "id": "ceb87d9e",
   "metadata": {},
   "outputs": [
    {
     "name": "stdout",
     "output_type": "stream",
     "text": [
      "[2, 3]\n"
     ]
    }
   ],
   "source": [
    "print(myDict[\"marks\"])"
   ]
  },
  {
   "cell_type": "code",
   "execution_count": 48,
   "id": "46a4468a",
   "metadata": {},
   "outputs": [
    {
     "name": "stdout",
     "output_type": "stream",
     "text": [
      "player\n"
     ]
    }
   ],
   "source": [
    "print(myDict['anotherdict']['harry'])"
   ]
  },
  {
   "cell_type": "code",
   "execution_count": 49,
   "id": "551237e0",
   "metadata": {},
   "outputs": [
    {
     "name": "stdout",
     "output_type": "stream",
     "text": [
      "[56, 34]\n"
     ]
    }
   ],
   "source": [
    "myDict[\"marks\"]=[56,34]\n",
    "print(myDict['marks'])"
   ]
  },
  {
   "cell_type": "code",
   "execution_count": 50,
   "id": "0d0dcc38",
   "metadata": {},
   "outputs": [
    {
     "name": "stdout",
     "output_type": "stream",
     "text": [
      "{'Fast': 'In a quick manner', 'Harry': 'A coder', 'marks': [2, 3], 'anotherdict': {'harry': 'player'}}\n",
      "dict_keys(['Fast', 'Harry', 'marks', 'anotherdict'])\n"
     ]
    }
   ],
   "source": [
    "# dictionary method\n",
    "\n",
    "myDict={\"Fast\":\"In a quick manner\",\"Harry\":\"A coder\",\"marks\":[2,3],\"anotherdict\":{\"harry\":\"player\"}}\n",
    "print(myDict)\n",
    "\n",
    "#key method\n",
    "\n",
    "print(myDict.keys())"
   ]
  },
  {
   "cell_type": "code",
   "execution_count": 51,
   "id": "a4f98d50",
   "metadata": {},
   "outputs": [
    {
     "name": "stdout",
     "output_type": "stream",
     "text": [
      "['Fast', 'Harry', 'marks', 'anotherdict']\n"
     ]
    }
   ],
   "source": [
    "print(list(myDict.keys()))"
   ]
  },
  {
   "cell_type": "code",
   "execution_count": 52,
   "id": "e5d6856e",
   "metadata": {},
   "outputs": [
    {
     "name": "stdout",
     "output_type": "stream",
     "text": [
      "dict_values(['In a quick manner', 'A coder', [2, 3], {'harry': 'player'}])\n"
     ]
    }
   ],
   "source": [
    "# values method\n",
    "\n",
    "print(myDict.values())"
   ]
  },
  {
   "cell_type": "code",
   "execution_count": 53,
   "id": "415fcfe3",
   "metadata": {},
   "outputs": [
    {
     "name": "stdout",
     "output_type": "stream",
     "text": [
      "['In a quick manner', 'A coder', [2, 3], {'harry': 'player'}]\n"
     ]
    }
   ],
   "source": [
    "print(list(myDict.values()))"
   ]
  },
  {
   "cell_type": "code",
   "execution_count": 54,
   "id": "9e02301a",
   "metadata": {},
   "outputs": [
    {
     "name": "stdout",
     "output_type": "stream",
     "text": [
      "dict_items([('Fast', 'In a quick manner'), ('Harry', 'A coder'), ('marks', [2, 3]), ('anotherdict', {'harry': 'player'})])\n"
     ]
    }
   ],
   "source": [
    "# items method\n",
    "\n",
    "print(myDict.items())"
   ]
  },
  {
   "cell_type": "code",
   "execution_count": 55,
   "id": "4b7df735",
   "metadata": {},
   "outputs": [
    {
     "name": "stdout",
     "output_type": "stream",
     "text": [
      "{'Fast': 'In a quick manner', 'Harry': 'A coder', 'marks': [2, 3], 'anotherdict': {'harry': 'player'}}\n",
      "{'Fast': 'In a quick manner', 'Harry': 'A coder', 'marks': [2, 3], 'anotherdict': {'harry': 'player'}, 'lovish': 'friend'}\n"
     ]
    }
   ],
   "source": [
    "#update method\n",
    "\n",
    "\n",
    "print(myDict)\n",
    "updateDict={\"lovish\":\"friend\"}\n",
    "myDict.update(updateDict)\n",
    "print(myDict)"
   ]
  },
  {
   "cell_type": "code",
   "execution_count": 56,
   "id": "32c09fb7",
   "metadata": {},
   "outputs": [
    {
     "name": "stdout",
     "output_type": "stream",
     "text": [
      "A coder\n"
     ]
    }
   ],
   "source": [
    "#get method\n",
    "\n",
    "print(myDict.get('Harry'))"
   ]
  },
  {
   "cell_type": "code",
   "execution_count": null,
   "id": "96f7640a",
   "metadata": {},
   "outputs": [],
   "source": []
  },
  {
   "cell_type": "code",
   "execution_count": 57,
   "id": "44ced9d1",
   "metadata": {},
   "outputs": [
    {
     "name": "stdout",
     "output_type": "stream",
     "text": [
      "<class 'dict'>\n"
     ]
    }
   ],
   "source": [
    "##set\n",
    "\n",
    "#  import : this syntax will creat an empty dictionary and not an empty set\n",
    "\n",
    "a={}\n",
    "print(type(a))"
   ]
  },
  {
   "cell_type": "code",
   "execution_count": 58,
   "id": "6a9249ab",
   "metadata": {},
   "outputs": [
    {
     "name": "stdout",
     "output_type": "stream",
     "text": [
      "<class 'set'>\n",
      "{4, 5}\n"
     ]
    }
   ],
   "source": [
    "# an empty set can be create using the below syntax\n",
    "#can not add list and dict to set\n",
    "\n",
    "b=set()\n",
    "print(type(b))\n",
    "b.add(4)\n",
    "b.add(5)\n",
    "print(b)"
   ]
  },
  {
   "cell_type": "code",
   "execution_count": 59,
   "id": "a967563a",
   "metadata": {},
   "outputs": [
    {
     "name": "stdout",
     "output_type": "stream",
     "text": [
      "2\n"
     ]
    }
   ],
   "source": [
    "print(len(b))"
   ]
  },
  {
   "cell_type": "code",
   "execution_count": 60,
   "id": "2fcbb146",
   "metadata": {},
   "outputs": [
    {
     "name": "stdout",
     "output_type": "stream",
     "text": [
      "{18, '18'}\n"
     ]
    }
   ],
   "source": [
    "s={18,\"18\",18.0}\n",
    "print(s)"
   ]
  },
  {
   "cell_type": "code",
   "execution_count": 61,
   "id": "4d7a308a",
   "metadata": {},
   "outputs": [
    {
     "data": {
      "text/plain": [
       "set"
      ]
     },
     "execution_count": 61,
     "metadata": {},
     "output_type": "execute_result"
    }
   ],
   "source": [
    "type(s)"
   ]
  },
  {
   "cell_type": "code",
   "execution_count": 62,
   "id": "414db924",
   "metadata": {},
   "outputs": [
    {
     "name": "stdout",
     "output_type": "stream",
     "text": [
      "{18, '18'}\n"
     ]
    }
   ],
   "source": [
    "s={18,\"18\"}\n",
    "print(s)"
   ]
  },
  {
   "cell_type": "code",
   "execution_count": null,
   "id": "04c9252c",
   "metadata": {},
   "outputs": [],
   "source": []
  },
  {
   "cell_type": "code",
   "execution_count": null,
   "id": "cf8adbc6",
   "metadata": {},
   "outputs": [],
   "source": []
  },
  {
   "cell_type": "code",
   "execution_count": 63,
   "id": "7f345a8d",
   "metadata": {},
   "outputs": [
    {
     "name": "stdout",
     "output_type": "stream",
     "text": [
      "enter your favorit language shubham\n",
      "python\n",
      "enter your favorit language ankita\n",
      "c\n",
      "enter your favorit language shurbhi\n",
      "java\n",
      "enter your favorit language sonali\n",
      "c++\n",
      "{'shubham': 'python', 'ankit': 'c', 'shurbhi': 'java', 'sonali': 'c++'}\n"
     ]
    }
   ],
   "source": [
    "favlang={}\n",
    "a=input('enter your favorit language shubham\\n')\n",
    "b=input('enter your favorit language ankita\\n')\n",
    "c=input('enter your favorit language shurbhi\\n')\n",
    "d=input('enter your favorit language sonali\\n')\n",
    "favlang['shubham']=a\n",
    "favlang['ankit']=b\n",
    "favlang['shurbhi']=c\n",
    "favlang['sonali']=d\n",
    "print(favlang)"
   ]
  },
  {
   "cell_type": "code",
   "execution_count": null,
   "id": "ee34dc07",
   "metadata": {},
   "outputs": [],
   "source": []
  },
  {
   "cell_type": "code",
   "execution_count": null,
   "id": "7d65f5a6",
   "metadata": {},
   "outputs": [],
   "source": []
  },
  {
   "cell_type": "markdown",
   "id": "2b9ee4b4",
   "metadata": {},
   "source": [
    "# conditional expressions"
   ]
  },
  {
   "cell_type": "code",
   "execution_count": 64,
   "id": "bce9520b",
   "metadata": {},
   "outputs": [
    {
     "name": "stdout",
     "output_type": "stream",
     "text": [
      "enter your age: 34\n",
      "yes\n"
     ]
    }
   ],
   "source": [
    "age=int(input(\"enter your age: \"))\n",
    "if age>18:\n",
    "    print(\"yes\")\n",
    "else:\n",
    "    print(\"no\")"
   ]
  },
  {
   "cell_type": "code",
   "execution_count": 65,
   "id": "6ca42329",
   "metadata": {},
   "outputs": [
    {
     "name": "stdout",
     "output_type": "stream",
     "text": [
      "\n"
     ]
    }
   ],
   "source": [
    "age=45\n",
    "if(age>34 and age<56):\n",
    "    print()\n"
   ]
  },
  {
   "cell_type": "code",
   "execution_count": 66,
   "id": "82cd8533",
   "metadata": {},
   "outputs": [
    {
     "name": "stdout",
     "output_type": "stream",
     "text": [
      "yes\n"
     ]
    }
   ],
   "source": [
    "# is \n",
    "\n",
    "a=None\n",
    "if(a is None):\n",
    "    print(\"yes\")\n",
    "else:\n",
    "    print(\"no\")"
   ]
  },
  {
   "cell_type": "code",
   "execution_count": 67,
   "id": "f309b316",
   "metadata": {},
   "outputs": [
    {
     "name": "stdout",
     "output_type": "stream",
     "text": [
      "False\n"
     ]
    }
   ],
   "source": [
    "#in\n",
    "\n",
    "\n",
    "a=[45,54,6]\n",
    "print(454 in a)"
   ]
  },
  {
   "cell_type": "code",
   "execution_count": 69,
   "id": "6157d33f",
   "metadata": {},
   "outputs": [
    {
     "name": "stdout",
     "output_type": "stream",
     "text": [
      "enter the name the check:  rohit\n",
      "your name is present in the list\n"
     ]
    }
   ],
   "source": [
    "names=['ankit','rohit','ram','aditi','shubham']\n",
    "name=input(\"enter the name the check:  \")\n",
    "if name in names:\n",
    "    print('your name is present in the list')\n",
    "else:\n",
    "    print('your name is not present in the list')"
   ]
  },
  {
   "cell_type": "code",
   "execution_count": 71,
   "id": "4cb730cf",
   "metadata": {},
   "outputs": [
    {
     "name": "stdout",
     "output_type": "stream",
     "text": [
      "enter yor marks:    34\n",
      "your grade is F\n"
     ]
    }
   ],
   "source": [
    "marks=int(input('enter yor marks:    '))\n",
    "\n",
    "if marks>=90:\n",
    "    grade='Ex'\n",
    "elif marks>=80:\n",
    "    grade='A'\n",
    "elif marks>=70:\n",
    "    grade='B'\n",
    "elif marks>=60:\n",
    "    grade='C'\n",
    "elif marks>=60:\n",
    "    grade='D'\n",
    "else:\n",
    "    grade='F'\n",
    "print('your grade is',grade)"
   ]
  },
  {
   "cell_type": "markdown",
   "id": "72ba5dc6",
   "metadata": {},
   "source": [
    "# while loop"
   ]
  },
  {
   "cell_type": "code",
   "execution_count": 74,
   "id": "791bf9d0",
   "metadata": {},
   "outputs": [
    {
     "name": "stdout",
     "output_type": "stream",
     "text": [
      "yes\n",
      "yes\n",
      "yes\n",
      "yes\n",
      "yes\n",
      "yes\n",
      "yes\n",
      "yes\n",
      "yes\n",
      "yes\n",
      "done\n"
     ]
    }
   ],
   "source": [
    "i=0\n",
    "while i<10:\n",
    "    print('yes')\n",
    "    i=i+1\n",
    "print('done')"
   ]
  },
  {
   "cell_type": "code",
   "execution_count": 75,
   "id": "29a3fa96",
   "metadata": {},
   "outputs": [
    {
     "name": "stdout",
     "output_type": "stream",
     "text": [
      "yes\n"
     ]
    }
   ],
   "source": [
    "i=0\n",
    "while i<10:\n",
    "    print('yes')\n",
    "    break"
   ]
  },
  {
   "cell_type": "code",
   "execution_count": 77,
   "id": "9e73e246",
   "metadata": {},
   "outputs": [
    {
     "name": "stdout",
     "output_type": "stream",
     "text": [
      "1\n",
      "2\n",
      "3\n",
      "4\n",
      "5\n",
      "6\n",
      "7\n",
      "8\n",
      "9\n",
      "10\n",
      "11\n",
      "12\n",
      "13\n",
      "14\n",
      "15\n",
      "16\n",
      "17\n",
      "18\n",
      "19\n",
      "20\n",
      "21\n",
      "22\n",
      "23\n",
      "24\n",
      "25\n",
      "26\n",
      "27\n",
      "28\n",
      "29\n",
      "30\n",
      "31\n",
      "32\n",
      "33\n",
      "34\n",
      "35\n",
      "36\n",
      "37\n",
      "38\n",
      "39\n",
      "40\n",
      "41\n",
      "42\n",
      "43\n",
      "44\n",
      "45\n",
      "46\n",
      "47\n",
      "48\n",
      "49\n",
      "50\n"
     ]
    }
   ],
   "source": [
    "# 1 to 50 print number\n",
    "\n",
    "i=1\n",
    "while i<=50:\n",
    "    print(i)\n",
    "    i=i+1"
   ]
  },
  {
   "cell_type": "code",
   "execution_count": 84,
   "id": "9e8b1d6d",
   "metadata": {},
   "outputs": [
    {
     "name": "stdout",
     "output_type": "stream",
     "text": [
      "harry\n",
      "harry\n",
      "harry\n",
      "harry\n",
      "harry\n"
     ]
    }
   ],
   "source": [
    "i=0\n",
    "while i<5:\n",
    "    print('harry')\n",
    "    i=i+1\n",
    "    "
   ]
  },
  {
   "cell_type": "code",
   "execution_count": 87,
   "id": "4e20800a",
   "metadata": {},
   "outputs": [
    {
     "name": "stdout",
     "output_type": "stream",
     "text": [
      "banana\n",
      "mango\n",
      "grapes\n"
     ]
    }
   ],
   "source": [
    "fruits=['banana','mango','grapes']\n",
    "i=0\n",
    "while i<len(fruits):\n",
    "    print(fruits[i])\n",
    "    i=i+1"
   ]
  },
  {
   "cell_type": "markdown",
   "id": "2d5903f3",
   "metadata": {},
   "source": [
    "# for loop"
   ]
  },
  {
   "cell_type": "code",
   "execution_count": 88,
   "id": "1f009ba1",
   "metadata": {},
   "outputs": [
    {
     "name": "stdout",
     "output_type": "stream",
     "text": [
      "banana\n",
      "mango\n",
      "grapes\n"
     ]
    }
   ],
   "source": [
    "fruits=['banana','mango','grapes']\n",
    "for item in fruits:\n",
    "    print(item)"
   ]
  },
  {
   "cell_type": "code",
   "execution_count": 89,
   "id": "5a6ecec9",
   "metadata": {},
   "outputs": [
    {
     "name": "stdout",
     "output_type": "stream",
     "text": [
      "0\n",
      "1\n",
      "2\n",
      "3\n",
      "4\n",
      "5\n",
      "6\n",
      "7\n",
      "8\n",
      "9\n",
      "this is inside else of for \n"
     ]
    }
   ],
   "source": [
    "for i in range(10):\n",
    "    print(i)\n",
    "else:\n",
    "    print('this is inside else of for ')"
   ]
  },
  {
   "cell_type": "code",
   "execution_count": 90,
   "id": "ca8f1aed",
   "metadata": {},
   "outputs": [
    {
     "name": "stdout",
     "output_type": "stream",
     "text": [
      "0\n",
      "1\n",
      "2\n",
      "3\n",
      "4\n",
      "5\n"
     ]
    }
   ],
   "source": [
    "# break\n",
    "\n",
    "for i in range(10):\n",
    "    print(i)\n",
    "    if i ==5:\n",
    "        break"
   ]
  },
  {
   "cell_type": "code",
   "execution_count": 94,
   "id": "1e261c1e",
   "metadata": {},
   "outputs": [
    {
     "name": "stdout",
     "output_type": "stream",
     "text": [
      "0\n",
      "1\n",
      "2\n",
      "3\n",
      "4\n",
      "6\n",
      "7\n",
      "8\n",
      "9\n"
     ]
    }
   ],
   "source": [
    "# continue\n",
    "\n",
    "for i in range(10):\n",
    "    if i ==5:\n",
    "        continue\n",
    "    print(i)"
   ]
  },
  {
   "cell_type": "code",
   "execution_count": 98,
   "id": "70faa979",
   "metadata": {},
   "outputs": [
    {
     "name": "stdout",
     "output_type": "stream",
     "text": [
      "rishu is good boy\n"
     ]
    }
   ],
   "source": [
    "# pass\n",
    "\n",
    "\n",
    "i=4\n",
    "if i>0:\n",
    "    pass\n",
    "print('rishu is good boy')"
   ]
  },
  {
   "cell_type": "code",
   "execution_count": 97,
   "id": "4b86c9ee",
   "metadata": {},
   "outputs": [
    {
     "ename": "IndentationError",
     "evalue": "expected an indented block (<ipython-input-97-7562deffb02a>, line 4)",
     "output_type": "error",
     "traceback": [
      "\u001b[1;36m  File \u001b[1;32m\"<ipython-input-97-7562deffb02a>\"\u001b[1;36m, line \u001b[1;32m4\u001b[0m\n\u001b[1;33m    print('rishu is good boy')\u001b[0m\n\u001b[1;37m    ^\u001b[0m\n\u001b[1;31mIndentationError\u001b[0m\u001b[1;31m:\u001b[0m expected an indented block\n"
     ]
    }
   ],
   "source": [
    "i=4\n",
    "if i>0:\n",
    "    \n",
    "print('rishu is good boy')"
   ]
  },
  {
   "cell_type": "code",
   "execution_count": 101,
   "id": "0573f3b2",
   "metadata": {},
   "outputs": [
    {
     "name": "stdout",
     "output_type": "stream",
     "text": [
      "10\n",
      "20\n",
      "30\n",
      "40\n",
      "50\n",
      "60\n",
      "70\n",
      "80\n",
      "90\n",
      "100\n"
     ]
    }
   ],
   "source": [
    "x=10\n",
    "for i in range(1,11):\n",
    "    print(10*i)"
   ]
  },
  {
   "cell_type": "code",
   "execution_count": 103,
   "id": "d210443a",
   "metadata": {},
   "outputs": [
    {
     "name": "stdout",
     "output_type": "stream",
     "text": [
      "hello sohan\n",
      "hello sachin\n"
     ]
    }
   ],
   "source": [
    "l1=['sohan','sachin', 'ankit','rahul ']\n",
    "for i in l1:\n",
    "    if i.startswith('s'):\n",
    "        print('hello',i)"
   ]
  },
  {
   "cell_type": "code",
   "execution_count": 104,
   "id": "ade60735",
   "metadata": {},
   "outputs": [
    {
     "name": "stdout",
     "output_type": "stream",
     "text": [
      "*\n",
      "**\n",
      "***\n",
      "****\n"
     ]
    }
   ],
   "source": [
    "n=4\n",
    "for i in range(4):\n",
    "    print('*'*(i+1))"
   ]
  },
  {
   "cell_type": "code",
   "execution_count": 110,
   "id": "720a91f4",
   "metadata": {},
   "outputs": [
    {
     "name": "stdout",
     "output_type": "stream",
     "text": [
      "     #\n",
      "    ###\n",
      "   #####\n",
      "  #######\n",
      " #########\n"
     ]
    }
   ],
   "source": [
    "for i in range(5):\n",
    "        print((4-i)*\" \",(2*i+1)*\"#\")"
   ]
  },
  {
   "cell_type": "code",
   "execution_count": 125,
   "id": "61bcf05b",
   "metadata": {},
   "outputs": [
    {
     "name": "stdout",
     "output_type": "stream",
     "text": [
      "# # # \n",
      "#   #   \n",
      "# # # \n"
     ]
    }
   ],
   "source": [
    "for i in range(1):\n",
    "    print(\"# \"*3)\n",
    "    print(\"#   \"*2)\n",
    "    print(\"# \"*3)\n",
    "    "
   ]
  },
  {
   "cell_type": "markdown",
   "id": "18c18451",
   "metadata": {},
   "source": [
    "# function"
   ]
  },
  {
   "cell_type": "code",
   "execution_count": 128,
   "id": "b428b2eb",
   "metadata": {},
   "outputs": [
    {
     "name": "stdout",
     "output_type": "stream",
     "text": [
      "71.5\n"
     ]
    }
   ],
   "source": [
    "marks=[45,78,86,77]\n",
    "percentage1=(sum(marks)/400)*100\n",
    "print(percentage1)"
   ]
  },
  {
   "cell_type": "code",
   "execution_count": 132,
   "id": "83b2f6b2",
   "metadata": {},
   "outputs": [
    {
     "name": "stdout",
     "output_type": "stream",
     "text": [
      "71.5 84.75\n"
     ]
    }
   ],
   "source": [
    "marks=[45,78,86,77]\n",
    "percentage1=(sum(marks)/400)*100\n",
    "\n",
    "\n",
    "marks1=[75,98,88,78]\n",
    "percentage2=(sum(marks1)/400)*100\n",
    "print(percentage1, percentage2)"
   ]
  },
  {
   "cell_type": "code",
   "execution_count": 138,
   "id": "2c034928",
   "metadata": {},
   "outputs": [
    {
     "name": "stdout",
     "output_type": "stream",
     "text": [
      "good day harry\n"
     ]
    }
   ],
   "source": [
    "def greet(name):\n",
    "    print(\"good day\" ,name)\n",
    "greet('harry')"
   ]
  },
  {
   "cell_type": "code",
   "execution_count": 144,
   "id": "ef1a6730",
   "metadata": {},
   "outputs": [
    {
     "name": "stdout",
     "output_type": "stream",
     "text": [
      "good day harry\n",
      "42\n"
     ]
    }
   ],
   "source": [
    "def greet(name):\n",
    "    print(\"good day\" ,name)\n",
    "def mysum(num1, num2 ):\n",
    "    return num1+num2\n",
    "\n",
    "greet('harry')\n",
    "s=mysum(35,7)\n",
    "print(s)"
   ]
  },
  {
   "cell_type": "code",
   "execution_count": 145,
   "id": "716612e5",
   "metadata": {},
   "outputs": [
    {
     "name": "stdout",
     "output_type": "stream",
     "text": [
      "good day harry\n",
      "good day stranger\n"
     ]
    }
   ],
   "source": [
    "def greet(name='stranger'):\n",
    "    print(\"good day\" ,name)\n",
    "greet('harry')\n",
    "greet()"
   ]
  },
  {
   "cell_type": "code",
   "execution_count": 146,
   "id": "e420aa5a",
   "metadata": {},
   "outputs": [
    {
     "name": "stdout",
     "output_type": "stream",
     "text": [
      "good day harry\n"
     ]
    },
    {
     "ename": "TypeError",
     "evalue": "greet() missing 1 required positional argument: 'name'",
     "output_type": "error",
     "traceback": [
      "\u001b[1;31m---------------------------------------------------------------------------\u001b[0m",
      "\u001b[1;31mTypeError\u001b[0m                                 Traceback (most recent call last)",
      "\u001b[1;32m<ipython-input-146-8d83f097fb46>\u001b[0m in \u001b[0;36m<module>\u001b[1;34m\u001b[0m\n\u001b[0;32m      2\u001b[0m     \u001b[0mprint\u001b[0m\u001b[1;33m(\u001b[0m\u001b[1;34m\"good day\"\u001b[0m \u001b[1;33m,\u001b[0m\u001b[0mname\u001b[0m\u001b[1;33m)\u001b[0m\u001b[1;33m\u001b[0m\u001b[1;33m\u001b[0m\u001b[0m\n\u001b[0;32m      3\u001b[0m \u001b[0mgreet\u001b[0m\u001b[1;33m(\u001b[0m\u001b[1;34m'harry'\u001b[0m\u001b[1;33m)\u001b[0m\u001b[1;33m\u001b[0m\u001b[1;33m\u001b[0m\u001b[0m\n\u001b[1;32m----> 4\u001b[1;33m \u001b[0mgreet\u001b[0m\u001b[1;33m(\u001b[0m\u001b[1;33m)\u001b[0m\u001b[1;33m\u001b[0m\u001b[1;33m\u001b[0m\u001b[0m\n\u001b[0m",
      "\u001b[1;31mTypeError\u001b[0m: greet() missing 1 required positional argument: 'name'"
     ]
    }
   ],
   "source": [
    "def greet(name):\n",
    "    print(\"good day\" ,name)\n",
    "greet('harry')\n",
    "greet()"
   ]
  },
  {
   "cell_type": "code",
   "execution_count": 150,
   "id": "414e3835",
   "metadata": {},
   "outputs": [
    {
     "name": "stdout",
     "output_type": "stream",
     "text": [
      "24\n"
     ]
    }
   ],
   "source": [
    "#recurtion\n",
    "\n",
    "n=4\n",
    "product=1\n",
    "for i in range(n):\n",
    "    product=product*(i+1)\n",
    "print(product)"
   ]
  },
  {
   "cell_type": "code",
   "execution_count": 152,
   "id": "213c55a1",
   "metadata": {},
   "outputs": [],
   "source": [
    "def maximum(num1,num2,num3):\n",
    "    if(num1>num2):\n",
    "        if(num1>num3):\n",
    "            return num1\n",
    "        else:\n",
    "            return num3\n",
    "    else:\n",
    "        if(num2>num3):\n",
    "            return num2\n",
    "        else:\n",
    "            return num3\n",
    "\n",
    "        \n",
    "           "
   ]
  },
  {
   "cell_type": "code",
   "execution_count": 156,
   "id": "19e82b9f",
   "metadata": {},
   "outputs": [
    {
     "name": "stdout",
     "output_type": "stream",
     "text": [
      "the value of maximum: 58\n"
     ]
    }
   ],
   "source": [
    "m=maximum(13,58,56)\n",
    "print('the value of maximum:',m)"
   ]
  },
  {
   "cell_type": "code",
   "execution_count": 160,
   "id": "4159b0fb",
   "metadata": {},
   "outputs": [
    {
     "name": "stdout",
     "output_type": "stream",
     "text": [
      "farhreheit 98.60000000000001\n"
     ]
    }
   ],
   "source": [
    "def farh(cel):\n",
    "    return(cel*(9/5))+32\n",
    "c=37\n",
    "f=farh(c)\n",
    "print('farhreheit',f)\n"
   ]
  },
  {
   "cell_type": "code",
   "execution_count": 161,
   "id": "5d9c0622",
   "metadata": {},
   "outputs": [
    {
     "name": "stdout",
     "output_type": "stream",
     "text": [
      "hello\n",
      "how\n",
      "are\n",
      "you\n"
     ]
    }
   ],
   "source": [
    "print('hello')\n",
    "print('how')\n",
    "print('are')\n",
    "print('you')"
   ]
  },
  {
   "cell_type": "code",
   "execution_count": 162,
   "id": "5fa6edd5",
   "metadata": {},
   "outputs": [
    {
     "name": "stdout",
     "output_type": "stream",
     "text": [
      "hello how are you "
     ]
    }
   ],
   "source": [
    "print('hello',end=\" \")\n",
    "print('how',end=\" \")\n",
    "print('are',end=\" \")\n",
    "print('you',end=\" \")"
   ]
  },
  {
   "cell_type": "code",
   "execution_count": 167,
   "id": "29b7d77e",
   "metadata": {},
   "outputs": [
    {
     "name": "stdout",
     "output_type": "stream",
     "text": [
      "#####\n",
      "####\n",
      "###\n",
      "##\n",
      "#\n"
     ]
    }
   ],
   "source": [
    "n=5\n",
    "for i in range(n):\n",
    "    print(\"#\"*(n-i))"
   ]
  },
  {
   "cell_type": "code",
   "execution_count": 168,
   "id": "37759e6d",
   "metadata": {},
   "outputs": [
    {
     "name": "stdout",
     "output_type": "stream",
     "text": [
      "     rishu is good    \n",
      "rishu is good\n"
     ]
    }
   ],
   "source": [
    "# strip function\n",
    "\n",
    "this=\"     rishu is good    \"\n",
    "print(this)\n",
    "print(this.strip())"
   ]
  },
  {
   "cell_type": "markdown",
   "id": "311c9bd3",
   "metadata": {},
   "source": [
    "# Oops"
   ]
  },
  {
   "cell_type": "code",
   "execution_count": 18,
   "id": "54091752",
   "metadata": {},
   "outputs": [],
   "source": [
    "class Ninth_Class:\n",
    "    def __init__(self,name,age):\n",
    "        self.name=name\n",
    "        self.age=age\n",
    "    def show(self):\n",
    "        print('name',self.name)\n",
    "        print('age',self.age)\n",
    "        \n",
    "    "
   ]
  },
  {
   "cell_type": "code",
   "execution_count": 21,
   "id": "cdab4360",
   "metadata": {},
   "outputs": [],
   "source": [
    "obj1=Ninth_Class('Manish',17)"
   ]
  },
  {
   "cell_type": "code",
   "execution_count": 22,
   "id": "08d80131",
   "metadata": {},
   "outputs": [],
   "source": [
    "obj2=Ninth_Class('sonu',22)"
   ]
  },
  {
   "cell_type": "code",
   "execution_count": 29,
   "id": "f2083b4f",
   "metadata": {},
   "outputs": [
    {
     "name": "stdout",
     "output_type": "stream",
     "text": [
      "name Manish\n",
      "age 17\n",
      "name sonu\n",
      "age 22\n"
     ]
    }
   ],
   "source": [
    "obj1.show()\n",
    "obj2.show()"
   ]
  },
  {
   "cell_type": "code",
   "execution_count": 30,
   "id": "14275558",
   "metadata": {},
   "outputs": [],
   "source": [
    "class k:\n",
    "    def __init__(self,name,age):\n",
    "        self.name=name\n",
    "        self.age=age\n",
    "    def name1(self):\n",
    "        print(self.name)\n",
    "    def age1(self):\n",
    "        print(self.age)\n",
    "    \n",
    "        "
   ]
  },
  {
   "cell_type": "code",
   "execution_count": 40,
   "id": "3d0b9e80",
   "metadata": {},
   "outputs": [],
   "source": [
    "m=k('ramu',23)"
   ]
  },
  {
   "cell_type": "code",
   "execution_count": 41,
   "id": "12bd502a",
   "metadata": {},
   "outputs": [
    {
     "name": "stdout",
     "output_type": "stream",
     "text": [
      "ramu\n"
     ]
    }
   ],
   "source": [
    "m.name1()"
   ]
  },
  {
   "cell_type": "code",
   "execution_count": 43,
   "id": "d9b1e8a3",
   "metadata": {},
   "outputs": [
    {
     "name": "stdout",
     "output_type": "stream",
     "text": [
      "23\n"
     ]
    }
   ],
   "source": [
    "m.age1()"
   ]
  },
  {
   "cell_type": "code",
   "execution_count": 50,
   "id": "fa60bf12",
   "metadata": {},
   "outputs": [],
   "source": [
    "class max_min:\n",
    "    def __init__(self,x,y,z):\n",
    "        self.x=x\n",
    "        self.y=y\n",
    "        self.z=z\n",
    "    def max1(self):\n",
    "        print(max(self.x,self.y,self.z))\n",
    "    def min1(self):\n",
    "        print(min(self.x,self.y,self.z))"
   ]
  },
  {
   "cell_type": "code",
   "execution_count": 51,
   "id": "1c1a9f7a",
   "metadata": {},
   "outputs": [],
   "source": [
    "k=max_min(23,4,6)"
   ]
  },
  {
   "cell_type": "code",
   "execution_count": 52,
   "id": "dd4d5dc6",
   "metadata": {},
   "outputs": [],
   "source": [
    "k1=max_min(12,34,5)"
   ]
  },
  {
   "cell_type": "code",
   "execution_count": 54,
   "id": "a28e4151",
   "metadata": {},
   "outputs": [
    {
     "name": "stdout",
     "output_type": "stream",
     "text": [
      "23\n"
     ]
    }
   ],
   "source": [
    "k.max1()"
   ]
  },
  {
   "cell_type": "code",
   "execution_count": 56,
   "id": "2eb93ab8",
   "metadata": {},
   "outputs": [
    {
     "name": "stdout",
     "output_type": "stream",
     "text": [
      "34\n"
     ]
    }
   ],
   "source": [
    "k1.max1()"
   ]
  },
  {
   "cell_type": "code",
   "execution_count": 58,
   "id": "ab94c0ae",
   "metadata": {},
   "outputs": [
    {
     "name": "stdout",
     "output_type": "stream",
     "text": [
      "4\n"
     ]
    }
   ],
   "source": [
    "k.min1()"
   ]
  },
  {
   "cell_type": "code",
   "execution_count": 60,
   "id": "e3e319d8",
   "metadata": {},
   "outputs": [
    {
     "name": "stdout",
     "output_type": "stream",
     "text": [
      "5\n"
     ]
    }
   ],
   "source": [
    "k1.min1()"
   ]
  },
  {
   "cell_type": "markdown",
   "id": "a64db8bf",
   "metadata": {},
   "source": [
    "# Type of method\n",
    "\n"
   ]
  },
  {
   "cell_type": "code",
   "execution_count": null,
   "id": "9d5cfc57",
   "metadata": {},
   "outputs": [],
   "source": []
  },
  {
   "cell_type": "code",
   "execution_count": 69,
   "id": "be8abfad",
   "metadata": {},
   "outputs": [],
   "source": [
    "# Instant method\n",
    "# Class method\n",
    "# Statics method"
   ]
  },
  {
   "cell_type": "markdown",
   "id": "fa49a2a3",
   "metadata": {},
   "source": [
    "# instant method"
   ]
  },
  {
   "cell_type": "code",
   "execution_count": 70,
   "id": "f4f684ff",
   "metadata": {},
   "outputs": [],
   "source": [
    "#Instant Method (in this pass the self)\n",
    "\n",
    "# esme koi bhi call nhi kr sakta  hai jbtak uske pass object nhi hoga  "
   ]
  },
  {
   "cell_type": "code",
   "execution_count": 65,
   "id": "7822edfa",
   "metadata": {},
   "outputs": [],
   "source": [
    "class stu:\n",
    "    def __init__(self,name,age,marks):\n",
    "        self.name=name\n",
    "        self.age=age\n",
    "        self.marks=marks\n",
    "    def show(self):\n",
    "        print(\"Name:\",self.name)\n",
    "        print(\"Age:\",self.age)\n",
    "        print(\"Marks:\",self.marks)\n",
    "    def performance(self):\n",
    "        if(self.marks>80):\n",
    "            print('very good')\n",
    "        elif (self.marks>60):\n",
    "            print('good')\n",
    "        else:\n",
    "            print('poor')"
   ]
  },
  {
   "cell_type": "code",
   "execution_count": 66,
   "id": "b725ce68",
   "metadata": {},
   "outputs": [],
   "source": [
    "sita=stu('Sita',14,88)\n",
    "geeta=stu('Geeta',23,56)\n",
    "ram=stu('Ram',22,45)"
   ]
  },
  {
   "cell_type": "code",
   "execution_count": 67,
   "id": "fd21c46d",
   "metadata": {},
   "outputs": [
    {
     "name": "stdout",
     "output_type": "stream",
     "text": [
      "Name: Sita\n",
      "Age: 14\n",
      "Marks: 88\n"
     ]
    }
   ],
   "source": [
    "sita.show()"
   ]
  },
  {
   "cell_type": "code",
   "execution_count": 68,
   "id": "274e8ac6",
   "metadata": {},
   "outputs": [
    {
     "name": "stdout",
     "output_type": "stream",
     "text": [
      "very good\n"
     ]
    }
   ],
   "source": [
    "sita.performance()"
   ]
  },
  {
   "cell_type": "markdown",
   "id": "bb7f9370",
   "metadata": {},
   "source": [
    "# class method"
   ]
  },
  {
   "cell_type": "code",
   "execution_count": 71,
   "id": "06fb5f20",
   "metadata": {},
   "outputs": [],
   "source": [
    " # class method on class varible or static variable.this method is\n",
    "    # written using @classmethod\n",
    "    \n",
    "    # decorrator above that"
   ]
  },
  {
   "cell_type": "code",
   "execution_count": 72,
   "id": "55b15b6c",
   "metadata": {},
   "outputs": [],
   "source": [
    "class car:\n",
    "    wheel=4\n",
    "    def __init__(self):\n",
    "        self.name=\"r\"\n",
    "        \n",
    "    @classmethod\n",
    "    def k(cls,x):\n",
    "        print('this car',x,'has',cls.wheel,'wheels')"
   ]
  },
  {
   "cell_type": "code",
   "execution_count": 73,
   "id": "d644ce9e",
   "metadata": {},
   "outputs": [
    {
     "name": "stdout",
     "output_type": "stream",
     "text": [
      "this car ford has 4 wheels\n"
     ]
    }
   ],
   "source": [
    "car.k('ford')"
   ]
  },
  {
   "cell_type": "markdown",
   "id": "f1013ced",
   "metadata": {},
   "source": [
    "# static method"
   ]
  },
  {
   "cell_type": "code",
   "execution_count": 74,
   "id": "75fdc9e8",
   "metadata": {},
   "outputs": [],
   "source": [
    "# static method is used when some processing is related to the class but\n",
    "# not the class or its instant.\n",
    "\n",
    "#esme koi bhi call kr sakta h"
   ]
  },
  {
   "cell_type": "code",
   "execution_count": 75,
   "id": "8b2dbc12",
   "metadata": {},
   "outputs": [],
   "source": [
    "class stu:\n",
    "    def __init__(self,name,age,marks):\n",
    "        self.name=name\n",
    "        self.age=age\n",
    "        self.marks=marks\n",
    "    def show (self):\n",
    "        print(\"Name:\",self.name)\n",
    "        print(\"Age:\",self.age)\n",
    "        if(self.marks>80):\n",
    "            print('very good')\n",
    "        elif (self.marks>60):\n",
    "            print('good')\n",
    "        else:\n",
    "            print('poor')\n",
    "    @staticmethod\n",
    "    def k1():\n",
    "        print('nothing here')\n",
    "    "
   ]
  },
  {
   "cell_type": "code",
   "execution_count": 76,
   "id": "84552768",
   "metadata": {},
   "outputs": [
    {
     "name": "stdout",
     "output_type": "stream",
     "text": [
      "nothing here\n"
     ]
    }
   ],
   "source": [
    "stu.k1()"
   ]
  },
  {
   "cell_type": "code",
   "execution_count": 77,
   "id": "124b096b",
   "metadata": {},
   "outputs": [],
   "source": [
    "class school:\n",
    "    def __init__(self,stu_name,stu_age):\n",
    "        self.stu_name=stu_name\n",
    "        self.stu_age=stu_age\n",
    "    def show(self):\n",
    "        print('name: ',self.stu_name )\n",
    "        print('age: ',self.stu_age )\n",
    "    @staticmethod\n",
    "    def schoolinfo():\n",
    "        print('school name is xyz')\n",
    "        print('founder name is Rishu')"
   ]
  },
  {
   "cell_type": "code",
   "execution_count": 78,
   "id": "04a31ea9",
   "metadata": {},
   "outputs": [
    {
     "name": "stdout",
     "output_type": "stream",
     "text": [
      "school name is xyz\n",
      "founder name is Rishu\n"
     ]
    }
   ],
   "source": [
    "school.schoolinfo()"
   ]
  },
  {
   "cell_type": "code",
   "execution_count": 121,
   "id": "11165db9",
   "metadata": {},
   "outputs": [],
   "source": [
    "class school:\n",
    "    principle_name=\"mayank\"\n",
    "    def __init__(self,stu_name,stu_age):\n",
    "        self.stu_name=stu_name\n",
    "        self.stu_age=stu_age\n",
    "    def show(self):\n",
    "        print('name: ',self.stu_name )\n",
    "        print('age: ',self.stu_age )\n",
    "        print('principle_name: ',self.principle_name)\n",
    "    @classmethod\n",
    "    def change(cls,x):\n",
    "        cls.principle_name=x\n",
    "    @staticmethod\n",
    "    def schoolinfo():\n",
    "        print('school name is xyz')\n",
    "        print('founder name is Rishu') "
   ]
  },
  {
   "cell_type": "code",
   "execution_count": 122,
   "id": "c1c5919b",
   "metadata": {},
   "outputs": [
    {
     "name": "stdout",
     "output_type": "stream",
     "text": [
      "school name is xyz\n",
      "founder name is Rishu\n"
     ]
    }
   ],
   "source": [
    "school.schoolinfo()"
   ]
  },
  {
   "cell_type": "code",
   "execution_count": 123,
   "id": "1c6ba418",
   "metadata": {},
   "outputs": [],
   "source": [
    "geeta=school('Geeta',23)\n"
   ]
  },
  {
   "cell_type": "code",
   "execution_count": 124,
   "id": "6a5bc5e1",
   "metadata": {},
   "outputs": [
    {
     "name": "stdout",
     "output_type": "stream",
     "text": [
      "name:  Geeta\n",
      "age:  23\n",
      "principle_name:  mayank\n"
     ]
    }
   ],
   "source": [
    "geeta.show()"
   ]
  },
  {
   "cell_type": "code",
   "execution_count": 125,
   "id": "893478d1",
   "metadata": {},
   "outputs": [],
   "source": [
    "geeta.change('suresh')"
   ]
  },
  {
   "cell_type": "code",
   "execution_count": 126,
   "id": "c6cd2180",
   "metadata": {},
   "outputs": [
    {
     "name": "stdout",
     "output_type": "stream",
     "text": [
      "name:  Geeta\n",
      "age:  23\n",
      "principle_name:  suresh\n"
     ]
    }
   ],
   "source": [
    "  geeta.show()"
   ]
  },
  {
   "cell_type": "code",
   "execution_count": 127,
   "id": "3c51e871",
   "metadata": {},
   "outputs": [],
   "source": [
    "class cetpa:\n",
    "    def __init__(self,name,fee):\n",
    "        self.name=name\n",
    "        self.fee=fee\n",
    "    def my_info(self):\n",
    "        print('name', self.name)\n",
    "        print('paid fee', self.fee)\n",
    "        print('unpaidfee', 10000-self.fee)\n",
    "    @staticmethod\n",
    "    def cetpacetpa1():\n",
    "        print('new batch will start from tomorrow and training will be 12 pm')"
   ]
  },
  {
   "cell_type": "code",
   "execution_count": 130,
   "id": "77b4f19d",
   "metadata": {},
   "outputs": [],
   "source": [
    "ram=cetpa('ram',4000)"
   ]
  },
  {
   "cell_type": "code",
   "execution_count": 131,
   "id": "7dc334ad",
   "metadata": {},
   "outputs": [
    {
     "name": "stdout",
     "output_type": "stream",
     "text": [
      "name ram\n",
      "paid fee 4000\n",
      "unpaidfee 6000\n"
     ]
    }
   ],
   "source": [
    "ram.my_info()"
   ]
  },
  {
   "cell_type": "code",
   "execution_count": null,
   "id": "5be6bdcc",
   "metadata": {},
   "outputs": [],
   "source": []
  },
  {
   "cell_type": "code",
   "execution_count": 12,
   "id": "ea15165d",
   "metadata": {},
   "outputs": [],
   "source": [
    "class k:\n",
    "    def __init__(self,name,age):\n",
    "        self.name=name\n",
    "        self.age=age\n",
    "    def show(self):\n",
    "        print(self.name)\n",
    "        print(self.age)\n",
    "    class k1:\n",
    "        def __init__(self,fathername):\n",
    "            self.fathername=fathername\n",
    "        def show(self):\n",
    "            print(self.fathername)"
   ]
  },
  {
   "cell_type": "code",
   "execution_count": 13,
   "id": "2ae4f9f6",
   "metadata": {},
   "outputs": [],
   "source": [
    "m=k('ajay',23)"
   ]
  },
  {
   "cell_type": "code",
   "execution_count": 14,
   "id": "f92084a7",
   "metadata": {},
   "outputs": [
    {
     "name": "stdout",
     "output_type": "stream",
     "text": [
      "ajay\n",
      "23\n"
     ]
    }
   ],
   "source": [
    "m.show()"
   ]
  },
  {
   "cell_type": "code",
   "execution_count": 22,
   "id": "2ae030b5",
   "metadata": {},
   "outputs": [],
   "source": [
    "n=m.k1('ramesh')"
   ]
  },
  {
   "cell_type": "code",
   "execution_count": 20,
   "id": "4965e712",
   "metadata": {},
   "outputs": [
    {
     "name": "stdout",
     "output_type": "stream",
     "text": [
      "ramesh\n"
     ]
    }
   ],
   "source": [
    "n.show()"
   ]
  },
  {
   "cell_type": "markdown",
   "id": "661dcc68",
   "metadata": {},
   "source": [
    "class mn:\n",
    "    def __init__(self):\n",
    "        self.x=\"india\"\n",
    "    def show(self):\n",
    "        print(self.x)\n",
    "class mm(mn):\n",
    "    pass\n",
    "    "
   ]
  },
  {
   "cell_type": "code",
   "execution_count": 27,
   "id": "c6a8e95f",
   "metadata": {},
   "outputs": [],
   "source": [
    "k=mn()\n",
    "k1=mm()"
   ]
  },
  {
   "cell_type": "code",
   "execution_count": 28,
   "id": "56236036",
   "metadata": {},
   "outputs": [
    {
     "data": {
      "text/plain": [
       "'india'"
      ]
     },
     "execution_count": 28,
     "metadata": {},
     "output_type": "execute_result"
    }
   ],
   "source": [
    "k1.x"
   ]
  },
  {
   "cell_type": "code",
   "execution_count": 29,
   "id": "8037917d",
   "metadata": {},
   "outputs": [],
   "source": [
    "class teacher:\n",
    "    def setname(self,name):\n",
    "        self.name=name\n",
    "    def setage(self,age):\n",
    "        self.age=age\n",
    "    def getname(self):\n",
    "        print(self.name)\n",
    "    def getage(self):\n",
    "        print(self.age)\n",
    "class stu(teacher):\n",
    "    def setclno(self,no):\n",
    "        self.no=no\n",
    "    def getclno(self):\n",
    "        print(self.no)"
   ]
  },
  {
   "cell_type": "code",
   "execution_count": 30,
   "id": "d38af09f",
   "metadata": {},
   "outputs": [],
   "source": [
    "t=teacher()\n",
    "t.setname('rahul')\n",
    "t.setage(44)"
   ]
  },
  {
   "cell_type": "code",
   "execution_count": 31,
   "id": "694891e0",
   "metadata": {},
   "outputs": [],
   "source": [
    "s=stu()\n",
    "s.setname('rohit')\n",
    "s.setage(12)\n",
    "s.setclno(5)"
   ]
  },
  {
   "cell_type": "code",
   "execution_count": 35,
   "id": "e4869a7a",
   "metadata": {},
   "outputs": [
    {
     "name": "stdout",
     "output_type": "stream",
     "text": [
      "rahul\n",
      "rohit\n"
     ]
    }
   ],
   "source": [
    "t.getname()\n",
    "s.getname()"
   ]
  },
  {
   "cell_type": "code",
   "execution_count": null,
   "id": "26700bd2",
   "metadata": {},
   "outputs": [],
   "source": []
  }
 ],
 "metadata": {
  "kernelspec": {
   "display_name": "Python 3",
   "language": "python",
   "name": "python3"
  },
  "language_info": {
   "codemirror_mode": {
    "name": "ipython",
    "version": 3
   },
   "file_extension": ".py",
   "mimetype": "text/x-python",
   "name": "python",
   "nbconvert_exporter": "python",
   "pygments_lexer": "ipython3",
   "version": "3.8.8"
  }
 },
 "nbformat": 4,
 "nbformat_minor": 5
}
