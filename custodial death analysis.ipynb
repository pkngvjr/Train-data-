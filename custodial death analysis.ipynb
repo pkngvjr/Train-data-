{
 "cells": [
  {
   "cell_type": "code",
   "execution_count": 1,
   "id": "b2a8e52e",
   "metadata": {},
   "outputs": [],
   "source": [
    "import numpy as np\n",
    "import pandas as pd\n",
    "import matplotlib.pyplot as plt\n",
    "import seaborn as sns"
   ]
  },
  {
   "cell_type": "code",
   "execution_count": 6,
   "id": "96f8bc1b",
   "metadata": {},
   "outputs": [],
   "source": [
    "df=pd.read_csv(r'C:\\Users\\RISHU YADAV\\Downloads\\40_05_Custodial_death_others.csv')"
   ]
  },
  {
   "cell_type": "code",
   "execution_count": 7,
   "id": "6f1c5ed2",
   "metadata": {},
   "outputs": [
    {
     "data": {
      "text/html": [
       "<div>\n",
       "<style scoped>\n",
       "    .dataframe tbody tr th:only-of-type {\n",
       "        vertical-align: middle;\n",
       "    }\n",
       "\n",
       "    .dataframe tbody tr th {\n",
       "        vertical-align: top;\n",
       "    }\n",
       "\n",
       "    .dataframe thead th {\n",
       "        text-align: right;\n",
       "    }\n",
       "</style>\n",
       "<table border=\"1\" class=\"dataframe\">\n",
       "  <thead>\n",
       "    <tr style=\"text-align: right;\">\n",
       "      <th></th>\n",
       "      <th>Area_Name</th>\n",
       "      <th>Year</th>\n",
       "      <th>Group_Name</th>\n",
       "      <th>Sub_Group_Name</th>\n",
       "      <th>CD_Accidents</th>\n",
       "      <th>CD_By_Mob_AttackRiots</th>\n",
       "      <th>CD_By_other_Criminals</th>\n",
       "      <th>CD_By_Suicide</th>\n",
       "      <th>CD_IllnessNatural_Death</th>\n",
       "      <th>CD_While_Escaping_from_Custody</th>\n",
       "    </tr>\n",
       "  </thead>\n",
       "  <tbody>\n",
       "    <tr>\n",
       "      <th>0</th>\n",
       "      <td>Andhra Pradesh</td>\n",
       "      <td>2001</td>\n",
       "      <td>During Hospitalisation/Treatment/Other Reasons</td>\n",
       "      <td>5. Deaths due to Other Reasons</td>\n",
       "      <td>0.0</td>\n",
       "      <td>0.0</td>\n",
       "      <td>0.0</td>\n",
       "      <td>2.0</td>\n",
       "      <td>1.0</td>\n",
       "      <td>2.0</td>\n",
       "    </tr>\n",
       "    <tr>\n",
       "      <th>1</th>\n",
       "      <td>Arunachal Pradesh</td>\n",
       "      <td>2001</td>\n",
       "      <td>During Hospitalisation/Treatment/Other Reasons</td>\n",
       "      <td>5. Deaths due to Other Reasons</td>\n",
       "      <td>0.0</td>\n",
       "      <td>0.0</td>\n",
       "      <td>0.0</td>\n",
       "      <td>0.0</td>\n",
       "      <td>0.0</td>\n",
       "      <td>0.0</td>\n",
       "    </tr>\n",
       "    <tr>\n",
       "      <th>2</th>\n",
       "      <td>Bihar</td>\n",
       "      <td>2001</td>\n",
       "      <td>During Hospitalisation/Treatment/Other Reasons</td>\n",
       "      <td>5. Deaths due to Other Reasons</td>\n",
       "      <td>0.0</td>\n",
       "      <td>0.0</td>\n",
       "      <td>0.0</td>\n",
       "      <td>0.0</td>\n",
       "      <td>0.0</td>\n",
       "      <td>0.0</td>\n",
       "    </tr>\n",
       "    <tr>\n",
       "      <th>3</th>\n",
       "      <td>Chandigarh</td>\n",
       "      <td>2001</td>\n",
       "      <td>During Hospitalisation/Treatment/Other Reasons</td>\n",
       "      <td>5. Deaths due to Other Reasons</td>\n",
       "      <td>0.0</td>\n",
       "      <td>0.0</td>\n",
       "      <td>1.0</td>\n",
       "      <td>0.0</td>\n",
       "      <td>0.0</td>\n",
       "      <td>0.0</td>\n",
       "    </tr>\n",
       "    <tr>\n",
       "      <th>4</th>\n",
       "      <td>Chhattisgarh</td>\n",
       "      <td>2001</td>\n",
       "      <td>During Hospitalisation/Treatment/Other Reasons</td>\n",
       "      <td>5. Deaths due to Other Reasons</td>\n",
       "      <td>0.0</td>\n",
       "      <td>0.0</td>\n",
       "      <td>0.0</td>\n",
       "      <td>1.0</td>\n",
       "      <td>0.0</td>\n",
       "      <td>0.0</td>\n",
       "    </tr>\n",
       "    <tr>\n",
       "      <th>...</th>\n",
       "      <td>...</td>\n",
       "      <td>...</td>\n",
       "      <td>...</td>\n",
       "      <td>...</td>\n",
       "      <td>...</td>\n",
       "      <td>...</td>\n",
       "      <td>...</td>\n",
       "      <td>...</td>\n",
       "      <td>...</td>\n",
       "      <td>...</td>\n",
       "    </tr>\n",
       "    <tr>\n",
       "      <th>228</th>\n",
       "      <td>Punjab</td>\n",
       "      <td>2010</td>\n",
       "      <td>During Hospitalisation/Treatment/Other Reasons</td>\n",
       "      <td>5. Deaths due to Other Reasons</td>\n",
       "      <td>NaN</td>\n",
       "      <td>NaN</td>\n",
       "      <td>NaN</td>\n",
       "      <td>2.0</td>\n",
       "      <td>NaN</td>\n",
       "      <td>NaN</td>\n",
       "    </tr>\n",
       "    <tr>\n",
       "      <th>229</th>\n",
       "      <td>Rajasthan</td>\n",
       "      <td>2010</td>\n",
       "      <td>During Hospitalisation/Treatment/Other Reasons</td>\n",
       "      <td>5. Deaths due to Other Reasons</td>\n",
       "      <td>NaN</td>\n",
       "      <td>NaN</td>\n",
       "      <td>NaN</td>\n",
       "      <td>1.0</td>\n",
       "      <td>NaN</td>\n",
       "      <td>NaN</td>\n",
       "    </tr>\n",
       "    <tr>\n",
       "      <th>230</th>\n",
       "      <td>Tamil Nadu</td>\n",
       "      <td>2010</td>\n",
       "      <td>During Hospitalisation/Treatment/Other Reasons</td>\n",
       "      <td>5. Deaths due to Other Reasons</td>\n",
       "      <td>NaN</td>\n",
       "      <td>NaN</td>\n",
       "      <td>NaN</td>\n",
       "      <td>NaN</td>\n",
       "      <td>NaN</td>\n",
       "      <td>1.0</td>\n",
       "    </tr>\n",
       "    <tr>\n",
       "      <th>231</th>\n",
       "      <td>Uttar Pradesh</td>\n",
       "      <td>2010</td>\n",
       "      <td>During Hospitalisation/Treatment/Other Reasons</td>\n",
       "      <td>5. Deaths due to Other Reasons</td>\n",
       "      <td>3.0</td>\n",
       "      <td>0.0</td>\n",
       "      <td>0.0</td>\n",
       "      <td>0.0</td>\n",
       "      <td>1.0</td>\n",
       "      <td>4.0</td>\n",
       "    </tr>\n",
       "    <tr>\n",
       "      <th>232</th>\n",
       "      <td>West Bengal</td>\n",
       "      <td>2010</td>\n",
       "      <td>During Hospitalisation/Treatment/Other Reasons</td>\n",
       "      <td>5. Deaths due to Other Reasons</td>\n",
       "      <td>0.0</td>\n",
       "      <td>0.0</td>\n",
       "      <td>0.0</td>\n",
       "      <td>1.0</td>\n",
       "      <td>0.0</td>\n",
       "      <td>0.0</td>\n",
       "    </tr>\n",
       "  </tbody>\n",
       "</table>\n",
       "<p>233 rows × 10 columns</p>\n",
       "</div>"
      ],
      "text/plain": [
       "             Area_Name  Year                                      Group_Name  \\\n",
       "0       Andhra Pradesh  2001  During Hospitalisation/Treatment/Other Reasons   \n",
       "1    Arunachal Pradesh  2001  During Hospitalisation/Treatment/Other Reasons   \n",
       "2                Bihar  2001  During Hospitalisation/Treatment/Other Reasons   \n",
       "3           Chandigarh  2001  During Hospitalisation/Treatment/Other Reasons   \n",
       "4         Chhattisgarh  2001  During Hospitalisation/Treatment/Other Reasons   \n",
       "..                 ...   ...                                             ...   \n",
       "228             Punjab  2010  During Hospitalisation/Treatment/Other Reasons   \n",
       "229          Rajasthan  2010  During Hospitalisation/Treatment/Other Reasons   \n",
       "230         Tamil Nadu  2010  During Hospitalisation/Treatment/Other Reasons   \n",
       "231      Uttar Pradesh  2010  During Hospitalisation/Treatment/Other Reasons   \n",
       "232        West Bengal  2010  During Hospitalisation/Treatment/Other Reasons   \n",
       "\n",
       "                     Sub_Group_Name  CD_Accidents  CD_By_Mob_AttackRiots  \\\n",
       "0    5. Deaths due to Other Reasons           0.0                    0.0   \n",
       "1    5. Deaths due to Other Reasons           0.0                    0.0   \n",
       "2    5. Deaths due to Other Reasons           0.0                    0.0   \n",
       "3    5. Deaths due to Other Reasons           0.0                    0.0   \n",
       "4    5. Deaths due to Other Reasons           0.0                    0.0   \n",
       "..                              ...           ...                    ...   \n",
       "228  5. Deaths due to Other Reasons           NaN                    NaN   \n",
       "229  5. Deaths due to Other Reasons           NaN                    NaN   \n",
       "230  5. Deaths due to Other Reasons           NaN                    NaN   \n",
       "231  5. Deaths due to Other Reasons           3.0                    0.0   \n",
       "232  5. Deaths due to Other Reasons           0.0                    0.0   \n",
       "\n",
       "     CD_By_other_Criminals  CD_By_Suicide  CD_IllnessNatural_Death  \\\n",
       "0                      0.0            2.0                      1.0   \n",
       "1                      0.0            0.0                      0.0   \n",
       "2                      0.0            0.0                      0.0   \n",
       "3                      1.0            0.0                      0.0   \n",
       "4                      0.0            1.0                      0.0   \n",
       "..                     ...            ...                      ...   \n",
       "228                    NaN            2.0                      NaN   \n",
       "229                    NaN            1.0                      NaN   \n",
       "230                    NaN            NaN                      NaN   \n",
       "231                    0.0            0.0                      1.0   \n",
       "232                    0.0            1.0                      0.0   \n",
       "\n",
       "     CD_While_Escaping_from_Custody  \n",
       "0                               2.0  \n",
       "1                               0.0  \n",
       "2                               0.0  \n",
       "3                               0.0  \n",
       "4                               0.0  \n",
       "..                              ...  \n",
       "228                             NaN  \n",
       "229                             NaN  \n",
       "230                             1.0  \n",
       "231                             4.0  \n",
       "232                             0.0  \n",
       "\n",
       "[233 rows x 10 columns]"
      ]
     },
     "execution_count": 7,
     "metadata": {},
     "output_type": "execute_result"
    }
   ],
   "source": [
    "df"
   ]
  },
  {
   "cell_type": "code",
   "execution_count": 8,
   "id": "2f128819",
   "metadata": {},
   "outputs": [
    {
     "data": {
      "text/html": [
       "<div>\n",
       "<style scoped>\n",
       "    .dataframe tbody tr th:only-of-type {\n",
       "        vertical-align: middle;\n",
       "    }\n",
       "\n",
       "    .dataframe tbody tr th {\n",
       "        vertical-align: top;\n",
       "    }\n",
       "\n",
       "    .dataframe thead th {\n",
       "        text-align: right;\n",
       "    }\n",
       "</style>\n",
       "<table border=\"1\" class=\"dataframe\">\n",
       "  <thead>\n",
       "    <tr style=\"text-align: right;\">\n",
       "      <th></th>\n",
       "      <th>Area_Name</th>\n",
       "      <th>Year</th>\n",
       "      <th>Group_Name</th>\n",
       "      <th>Sub_Group_Name</th>\n",
       "      <th>CD_Accidents</th>\n",
       "      <th>CD_By_Mob_AttackRiots</th>\n",
       "      <th>CD_By_other_Criminals</th>\n",
       "      <th>CD_By_Suicide</th>\n",
       "      <th>CD_IllnessNatural_Death</th>\n",
       "      <th>CD_While_Escaping_from_Custody</th>\n",
       "    </tr>\n",
       "  </thead>\n",
       "  <tbody>\n",
       "    <tr>\n",
       "      <th>0</th>\n",
       "      <td>Andhra Pradesh</td>\n",
       "      <td>2001</td>\n",
       "      <td>During Hospitalisation/Treatment/Other Reasons</td>\n",
       "      <td>5. Deaths due to Other Reasons</td>\n",
       "      <td>0.0</td>\n",
       "      <td>0.0</td>\n",
       "      <td>0.0</td>\n",
       "      <td>2.0</td>\n",
       "      <td>1.0</td>\n",
       "      <td>2.0</td>\n",
       "    </tr>\n",
       "    <tr>\n",
       "      <th>1</th>\n",
       "      <td>Arunachal Pradesh</td>\n",
       "      <td>2001</td>\n",
       "      <td>During Hospitalisation/Treatment/Other Reasons</td>\n",
       "      <td>5. Deaths due to Other Reasons</td>\n",
       "      <td>0.0</td>\n",
       "      <td>0.0</td>\n",
       "      <td>0.0</td>\n",
       "      <td>0.0</td>\n",
       "      <td>0.0</td>\n",
       "      <td>0.0</td>\n",
       "    </tr>\n",
       "    <tr>\n",
       "      <th>2</th>\n",
       "      <td>Bihar</td>\n",
       "      <td>2001</td>\n",
       "      <td>During Hospitalisation/Treatment/Other Reasons</td>\n",
       "      <td>5. Deaths due to Other Reasons</td>\n",
       "      <td>0.0</td>\n",
       "      <td>0.0</td>\n",
       "      <td>0.0</td>\n",
       "      <td>0.0</td>\n",
       "      <td>0.0</td>\n",
       "      <td>0.0</td>\n",
       "    </tr>\n",
       "    <tr>\n",
       "      <th>3</th>\n",
       "      <td>Chandigarh</td>\n",
       "      <td>2001</td>\n",
       "      <td>During Hospitalisation/Treatment/Other Reasons</td>\n",
       "      <td>5. Deaths due to Other Reasons</td>\n",
       "      <td>0.0</td>\n",
       "      <td>0.0</td>\n",
       "      <td>1.0</td>\n",
       "      <td>0.0</td>\n",
       "      <td>0.0</td>\n",
       "      <td>0.0</td>\n",
       "    </tr>\n",
       "    <tr>\n",
       "      <th>4</th>\n",
       "      <td>Chhattisgarh</td>\n",
       "      <td>2001</td>\n",
       "      <td>During Hospitalisation/Treatment/Other Reasons</td>\n",
       "      <td>5. Deaths due to Other Reasons</td>\n",
       "      <td>0.0</td>\n",
       "      <td>0.0</td>\n",
       "      <td>0.0</td>\n",
       "      <td>1.0</td>\n",
       "      <td>0.0</td>\n",
       "      <td>0.0</td>\n",
       "    </tr>\n",
       "  </tbody>\n",
       "</table>\n",
       "</div>"
      ],
      "text/plain": [
       "           Area_Name  Year                                      Group_Name  \\\n",
       "0     Andhra Pradesh  2001  During Hospitalisation/Treatment/Other Reasons   \n",
       "1  Arunachal Pradesh  2001  During Hospitalisation/Treatment/Other Reasons   \n",
       "2              Bihar  2001  During Hospitalisation/Treatment/Other Reasons   \n",
       "3         Chandigarh  2001  During Hospitalisation/Treatment/Other Reasons   \n",
       "4       Chhattisgarh  2001  During Hospitalisation/Treatment/Other Reasons   \n",
       "\n",
       "                   Sub_Group_Name  CD_Accidents  CD_By_Mob_AttackRiots  \\\n",
       "0  5. Deaths due to Other Reasons           0.0                    0.0   \n",
       "1  5. Deaths due to Other Reasons           0.0                    0.0   \n",
       "2  5. Deaths due to Other Reasons           0.0                    0.0   \n",
       "3  5. Deaths due to Other Reasons           0.0                    0.0   \n",
       "4  5. Deaths due to Other Reasons           0.0                    0.0   \n",
       "\n",
       "   CD_By_other_Criminals  CD_By_Suicide  CD_IllnessNatural_Death  \\\n",
       "0                    0.0            2.0                      1.0   \n",
       "1                    0.0            0.0                      0.0   \n",
       "2                    0.0            0.0                      0.0   \n",
       "3                    1.0            0.0                      0.0   \n",
       "4                    0.0            1.0                      0.0   \n",
       "\n",
       "   CD_While_Escaping_from_Custody  \n",
       "0                             2.0  \n",
       "1                             0.0  \n",
       "2                             0.0  \n",
       "3                             0.0  \n",
       "4                             0.0  "
      ]
     },
     "execution_count": 8,
     "metadata": {},
     "output_type": "execute_result"
    }
   ],
   "source": [
    "df.head()"
   ]
  },
  {
   "cell_type": "code",
   "execution_count": 9,
   "id": "e20f6fde",
   "metadata": {},
   "outputs": [
    {
     "data": {
      "text/html": [
       "<div>\n",
       "<style scoped>\n",
       "    .dataframe tbody tr th:only-of-type {\n",
       "        vertical-align: middle;\n",
       "    }\n",
       "\n",
       "    .dataframe tbody tr th {\n",
       "        vertical-align: top;\n",
       "    }\n",
       "\n",
       "    .dataframe thead th {\n",
       "        text-align: right;\n",
       "    }\n",
       "</style>\n",
       "<table border=\"1\" class=\"dataframe\">\n",
       "  <thead>\n",
       "    <tr style=\"text-align: right;\">\n",
       "      <th></th>\n",
       "      <th>Area_Name</th>\n",
       "      <th>Year</th>\n",
       "      <th>Group_Name</th>\n",
       "      <th>Sub_Group_Name</th>\n",
       "      <th>CD_Accidents</th>\n",
       "      <th>CD_By_Mob_AttackRiots</th>\n",
       "      <th>CD_By_other_Criminals</th>\n",
       "      <th>CD_By_Suicide</th>\n",
       "      <th>CD_IllnessNatural_Death</th>\n",
       "      <th>CD_While_Escaping_from_Custody</th>\n",
       "    </tr>\n",
       "  </thead>\n",
       "  <tbody>\n",
       "    <tr>\n",
       "      <th>228</th>\n",
       "      <td>Punjab</td>\n",
       "      <td>2010</td>\n",
       "      <td>During Hospitalisation/Treatment/Other Reasons</td>\n",
       "      <td>5. Deaths due to Other Reasons</td>\n",
       "      <td>NaN</td>\n",
       "      <td>NaN</td>\n",
       "      <td>NaN</td>\n",
       "      <td>2.0</td>\n",
       "      <td>NaN</td>\n",
       "      <td>NaN</td>\n",
       "    </tr>\n",
       "    <tr>\n",
       "      <th>229</th>\n",
       "      <td>Rajasthan</td>\n",
       "      <td>2010</td>\n",
       "      <td>During Hospitalisation/Treatment/Other Reasons</td>\n",
       "      <td>5. Deaths due to Other Reasons</td>\n",
       "      <td>NaN</td>\n",
       "      <td>NaN</td>\n",
       "      <td>NaN</td>\n",
       "      <td>1.0</td>\n",
       "      <td>NaN</td>\n",
       "      <td>NaN</td>\n",
       "    </tr>\n",
       "    <tr>\n",
       "      <th>230</th>\n",
       "      <td>Tamil Nadu</td>\n",
       "      <td>2010</td>\n",
       "      <td>During Hospitalisation/Treatment/Other Reasons</td>\n",
       "      <td>5. Deaths due to Other Reasons</td>\n",
       "      <td>NaN</td>\n",
       "      <td>NaN</td>\n",
       "      <td>NaN</td>\n",
       "      <td>NaN</td>\n",
       "      <td>NaN</td>\n",
       "      <td>1.0</td>\n",
       "    </tr>\n",
       "    <tr>\n",
       "      <th>231</th>\n",
       "      <td>Uttar Pradesh</td>\n",
       "      <td>2010</td>\n",
       "      <td>During Hospitalisation/Treatment/Other Reasons</td>\n",
       "      <td>5. Deaths due to Other Reasons</td>\n",
       "      <td>3.0</td>\n",
       "      <td>0.0</td>\n",
       "      <td>0.0</td>\n",
       "      <td>0.0</td>\n",
       "      <td>1.0</td>\n",
       "      <td>4.0</td>\n",
       "    </tr>\n",
       "    <tr>\n",
       "      <th>232</th>\n",
       "      <td>West Bengal</td>\n",
       "      <td>2010</td>\n",
       "      <td>During Hospitalisation/Treatment/Other Reasons</td>\n",
       "      <td>5. Deaths due to Other Reasons</td>\n",
       "      <td>0.0</td>\n",
       "      <td>0.0</td>\n",
       "      <td>0.0</td>\n",
       "      <td>1.0</td>\n",
       "      <td>0.0</td>\n",
       "      <td>0.0</td>\n",
       "    </tr>\n",
       "  </tbody>\n",
       "</table>\n",
       "</div>"
      ],
      "text/plain": [
       "         Area_Name  Year                                      Group_Name  \\\n",
       "228         Punjab  2010  During Hospitalisation/Treatment/Other Reasons   \n",
       "229      Rajasthan  2010  During Hospitalisation/Treatment/Other Reasons   \n",
       "230     Tamil Nadu  2010  During Hospitalisation/Treatment/Other Reasons   \n",
       "231  Uttar Pradesh  2010  During Hospitalisation/Treatment/Other Reasons   \n",
       "232    West Bengal  2010  During Hospitalisation/Treatment/Other Reasons   \n",
       "\n",
       "                     Sub_Group_Name  CD_Accidents  CD_By_Mob_AttackRiots  \\\n",
       "228  5. Deaths due to Other Reasons           NaN                    NaN   \n",
       "229  5. Deaths due to Other Reasons           NaN                    NaN   \n",
       "230  5. Deaths due to Other Reasons           NaN                    NaN   \n",
       "231  5. Deaths due to Other Reasons           3.0                    0.0   \n",
       "232  5. Deaths due to Other Reasons           0.0                    0.0   \n",
       "\n",
       "     CD_By_other_Criminals  CD_By_Suicide  CD_IllnessNatural_Death  \\\n",
       "228                    NaN            2.0                      NaN   \n",
       "229                    NaN            1.0                      NaN   \n",
       "230                    NaN            NaN                      NaN   \n",
       "231                    0.0            0.0                      1.0   \n",
       "232                    0.0            1.0                      0.0   \n",
       "\n",
       "     CD_While_Escaping_from_Custody  \n",
       "228                             NaN  \n",
       "229                             NaN  \n",
       "230                             1.0  \n",
       "231                             4.0  \n",
       "232                             0.0  "
      ]
     },
     "execution_count": 9,
     "metadata": {},
     "output_type": "execute_result"
    }
   ],
   "source": [
    "df.tail()"
   ]
  },
  {
   "cell_type": "code",
   "execution_count": 10,
   "id": "2da5cb70",
   "metadata": {},
   "outputs": [
    {
     "data": {
      "text/plain": [
       "Area_Name                          0\n",
       "Year                               0\n",
       "Group_Name                         0\n",
       "Sub_Group_Name                     0\n",
       "CD_Accidents                      34\n",
       "CD_By_Mob_AttackRiots             44\n",
       "CD_By_other_Criminals             45\n",
       "CD_By_Suicide                     19\n",
       "CD_IllnessNatural_Death           33\n",
       "CD_While_Escaping_from_Custody    39\n",
       "dtype: int64"
      ]
     },
     "execution_count": 10,
     "metadata": {},
     "output_type": "execute_result"
    }
   ],
   "source": [
    "df.isnull().sum()"
   ]
  },
  {
   "cell_type": "code",
   "execution_count": 11,
   "id": "1edd7407",
   "metadata": {},
   "outputs": [
    {
     "data": {
      "text/html": [
       "<div>\n",
       "<style scoped>\n",
       "    .dataframe tbody tr th:only-of-type {\n",
       "        vertical-align: middle;\n",
       "    }\n",
       "\n",
       "    .dataframe tbody tr th {\n",
       "        vertical-align: top;\n",
       "    }\n",
       "\n",
       "    .dataframe thead th {\n",
       "        text-align: right;\n",
       "    }\n",
       "</style>\n",
       "<table border=\"1\" class=\"dataframe\">\n",
       "  <thead>\n",
       "    <tr style=\"text-align: right;\">\n",
       "      <th></th>\n",
       "      <th>Area_Name</th>\n",
       "      <th>Year</th>\n",
       "      <th>Group_Name</th>\n",
       "      <th>Sub_Group_Name</th>\n",
       "      <th>CD_Accidents</th>\n",
       "      <th>CD_By_Mob_AttackRiots</th>\n",
       "      <th>CD_By_other_Criminals</th>\n",
       "      <th>CD_By_Suicide</th>\n",
       "      <th>CD_IllnessNatural_Death</th>\n",
       "      <th>CD_While_Escaping_from_Custody</th>\n",
       "    </tr>\n",
       "  </thead>\n",
       "  <tbody>\n",
       "    <tr>\n",
       "      <th>122</th>\n",
       "      <td>Haryana</td>\n",
       "      <td>2006</td>\n",
       "      <td>During Hospitalisation/Treatment/Other Reasons</td>\n",
       "      <td>5. Deaths due to Other Reasons</td>\n",
       "      <td>0.0</td>\n",
       "      <td>NaN</td>\n",
       "      <td>NaN</td>\n",
       "      <td>1.0</td>\n",
       "      <td>NaN</td>\n",
       "      <td>NaN</td>\n",
       "    </tr>\n",
       "  </tbody>\n",
       "</table>\n",
       "</div>"
      ],
      "text/plain": [
       "    Area_Name  Year                                      Group_Name  \\\n",
       "122   Haryana  2006  During Hospitalisation/Treatment/Other Reasons   \n",
       "\n",
       "                     Sub_Group_Name  CD_Accidents  CD_By_Mob_AttackRiots  \\\n",
       "122  5. Deaths due to Other Reasons           0.0                    NaN   \n",
       "\n",
       "     CD_By_other_Criminals  CD_By_Suicide  CD_IllnessNatural_Death  \\\n",
       "122                    NaN            1.0                      NaN   \n",
       "\n",
       "     CD_While_Escaping_from_Custody  \n",
       "122                             NaN  "
      ]
     },
     "execution_count": 11,
     "metadata": {},
     "output_type": "execute_result"
    }
   ],
   "source": [
    "df.sample()"
   ]
  },
  {
   "cell_type": "code",
   "execution_count": 12,
   "id": "ce8a4023",
   "metadata": {},
   "outputs": [
    {
     "data": {
      "text/html": [
       "<div>\n",
       "<style scoped>\n",
       "    .dataframe tbody tr th:only-of-type {\n",
       "        vertical-align: middle;\n",
       "    }\n",
       "\n",
       "    .dataframe tbody tr th {\n",
       "        vertical-align: top;\n",
       "    }\n",
       "\n",
       "    .dataframe thead th {\n",
       "        text-align: right;\n",
       "    }\n",
       "</style>\n",
       "<table border=\"1\" class=\"dataframe\">\n",
       "  <thead>\n",
       "    <tr style=\"text-align: right;\">\n",
       "      <th></th>\n",
       "      <th>Year</th>\n",
       "      <th>CD_Accidents</th>\n",
       "      <th>CD_By_Mob_AttackRiots</th>\n",
       "      <th>CD_By_other_Criminals</th>\n",
       "      <th>CD_By_Suicide</th>\n",
       "      <th>CD_IllnessNatural_Death</th>\n",
       "      <th>CD_While_Escaping_from_Custody</th>\n",
       "    </tr>\n",
       "  </thead>\n",
       "  <tbody>\n",
       "    <tr>\n",
       "      <th>count</th>\n",
       "      <td>233.000000</td>\n",
       "      <td>199.000000</td>\n",
       "      <td>189.000000</td>\n",
       "      <td>188.000000</td>\n",
       "      <td>214.000000</td>\n",
       "      <td>200.000000</td>\n",
       "      <td>194.000000</td>\n",
       "    </tr>\n",
       "    <tr>\n",
       "      <th>mean</th>\n",
       "      <td>2005.519313</td>\n",
       "      <td>0.190955</td>\n",
       "      <td>0.142857</td>\n",
       "      <td>0.090426</td>\n",
       "      <td>1.289720</td>\n",
       "      <td>1.090000</td>\n",
       "      <td>0.283505</td>\n",
       "    </tr>\n",
       "    <tr>\n",
       "      <th>std</th>\n",
       "      <td>2.817864</td>\n",
       "      <td>0.934047</td>\n",
       "      <td>0.588646</td>\n",
       "      <td>0.354217</td>\n",
       "      <td>2.353738</td>\n",
       "      <td>2.550377</td>\n",
       "      <td>0.688195</td>\n",
       "    </tr>\n",
       "    <tr>\n",
       "      <th>min</th>\n",
       "      <td>2001.000000</td>\n",
       "      <td>0.000000</td>\n",
       "      <td>0.000000</td>\n",
       "      <td>0.000000</td>\n",
       "      <td>0.000000</td>\n",
       "      <td>0.000000</td>\n",
       "      <td>0.000000</td>\n",
       "    </tr>\n",
       "    <tr>\n",
       "      <th>25%</th>\n",
       "      <td>2003.000000</td>\n",
       "      <td>0.000000</td>\n",
       "      <td>0.000000</td>\n",
       "      <td>0.000000</td>\n",
       "      <td>0.000000</td>\n",
       "      <td>0.000000</td>\n",
       "      <td>0.000000</td>\n",
       "    </tr>\n",
       "    <tr>\n",
       "      <th>50%</th>\n",
       "      <td>2006.000000</td>\n",
       "      <td>0.000000</td>\n",
       "      <td>0.000000</td>\n",
       "      <td>0.000000</td>\n",
       "      <td>0.000000</td>\n",
       "      <td>0.000000</td>\n",
       "      <td>0.000000</td>\n",
       "    </tr>\n",
       "    <tr>\n",
       "      <th>75%</th>\n",
       "      <td>2008.000000</td>\n",
       "      <td>0.000000</td>\n",
       "      <td>0.000000</td>\n",
       "      <td>0.000000</td>\n",
       "      <td>1.000000</td>\n",
       "      <td>1.000000</td>\n",
       "      <td>0.000000</td>\n",
       "    </tr>\n",
       "    <tr>\n",
       "      <th>max</th>\n",
       "      <td>2010.000000</td>\n",
       "      <td>12.000000</td>\n",
       "      <td>5.000000</td>\n",
       "      <td>2.000000</td>\n",
       "      <td>14.000000</td>\n",
       "      <td>19.000000</td>\n",
       "      <td>4.000000</td>\n",
       "    </tr>\n",
       "  </tbody>\n",
       "</table>\n",
       "</div>"
      ],
      "text/plain": [
       "              Year  CD_Accidents  CD_By_Mob_AttackRiots  \\\n",
       "count   233.000000    199.000000             189.000000   \n",
       "mean   2005.519313      0.190955               0.142857   \n",
       "std       2.817864      0.934047               0.588646   \n",
       "min    2001.000000      0.000000               0.000000   \n",
       "25%    2003.000000      0.000000               0.000000   \n",
       "50%    2006.000000      0.000000               0.000000   \n",
       "75%    2008.000000      0.000000               0.000000   \n",
       "max    2010.000000     12.000000               5.000000   \n",
       "\n",
       "       CD_By_other_Criminals  CD_By_Suicide  CD_IllnessNatural_Death  \\\n",
       "count             188.000000     214.000000               200.000000   \n",
       "mean                0.090426       1.289720                 1.090000   \n",
       "std                 0.354217       2.353738                 2.550377   \n",
       "min                 0.000000       0.000000                 0.000000   \n",
       "25%                 0.000000       0.000000                 0.000000   \n",
       "50%                 0.000000       0.000000                 0.000000   \n",
       "75%                 0.000000       1.000000                 1.000000   \n",
       "max                 2.000000      14.000000                19.000000   \n",
       "\n",
       "       CD_While_Escaping_from_Custody  \n",
       "count                      194.000000  \n",
       "mean                         0.283505  \n",
       "std                          0.688195  \n",
       "min                          0.000000  \n",
       "25%                          0.000000  \n",
       "50%                          0.000000  \n",
       "75%                          0.000000  \n",
       "max                          4.000000  "
      ]
     },
     "execution_count": 12,
     "metadata": {},
     "output_type": "execute_result"
    }
   ],
   "source": [
    "df.describe()"
   ]
  },
  {
   "cell_type": "code",
   "execution_count": 14,
   "id": "076a62bb",
   "metadata": {},
   "outputs": [
    {
     "data": {
      "text/plain": [
       "14.0"
      ]
     },
     "execution_count": 14,
     "metadata": {},
     "output_type": "execute_result"
    }
   ],
   "source": [
    "df['CD_By_Suicide'].max()"
   ]
  },
  {
   "cell_type": "code",
   "execution_count": 36,
   "id": "e089615d",
   "metadata": {},
   "outputs": [
    {
     "data": {
      "text/plain": [
       "Area_Name                                                            West Bengal\n",
       "Year                                                                        2010\n",
       "Group_Name                        During Hospitalisation/Treatment/Other Reasons\n",
       "Sub_Group_Name                                    5. Deaths due to Other Reasons\n",
       "CD_Accidents                                                                12.0\n",
       "CD_By_Mob_AttackRiots                                                        5.0\n",
       "CD_By_other_Criminals                                                        2.0\n",
       "CD_By_Suicide                                                               14.0\n",
       "CD_IllnessNatural_Death                                                     19.0\n",
       "CD_While_Escaping_from_Custody                                               4.0\n",
       "dtype: object"
      ]
     },
     "execution_count": 36,
     "metadata": {},
     "output_type": "execute_result"
    }
   ],
   "source": [
    "df.max()"
   ]
  },
  {
   "cell_type": "code",
   "execution_count": 46,
   "id": "02fd3233",
   "metadata": {},
   "outputs": [
    {
     "data": {
      "text/plain": [
       "CD_Accidents    23\n",
       "dtype: int64"
      ]
     },
     "execution_count": 46,
     "metadata": {},
     "output_type": "execute_result"
    }
   ],
   "source": [
    "df.loc[df['CD_Accidents']>0,['CD_Accidents']].count()"
   ]
  },
  {
   "cell_type": "code",
   "execution_count": 48,
   "id": "62a3700c",
   "metadata": {},
   "outputs": [
    {
     "data": {
      "text/plain": [
       "CD_By_Mob_AttackRiots    15\n",
       "dtype: int64"
      ]
     },
     "execution_count": 48,
     "metadata": {},
     "output_type": "execute_result"
    }
   ],
   "source": [
    "df.loc[df['CD_By_Mob_AttackRiots']>0,['CD_By_Mob_AttackRiots']].count()"
   ]
  },
  {
   "cell_type": "code",
   "execution_count": 50,
   "id": "3f03eba4",
   "metadata": {},
   "outputs": [
    {
     "data": {
      "text/plain": [
       "CD_By_other_Criminals    13\n",
       "dtype: int64"
      ]
     },
     "execution_count": 50,
     "metadata": {},
     "output_type": "execute_result"
    }
   ],
   "source": [
    "df.loc[df['CD_By_other_Criminals']>0,['CD_By_other_Criminals']].count()"
   ]
  },
  {
   "cell_type": "code",
   "execution_count": 51,
   "id": "a41fe366",
   "metadata": {},
   "outputs": [
    {
     "data": {
      "text/plain": [
       "CD_By_Suicide    100\n",
       "dtype: int64"
      ]
     },
     "execution_count": 51,
     "metadata": {},
     "output_type": "execute_result"
    }
   ],
   "source": [
    "df.loc[df['CD_By_Suicide']>0,['CD_By_Suicide']].count()"
   ]
  },
  {
   "cell_type": "code",
   "execution_count": 53,
   "id": "e75b2b99",
   "metadata": {},
   "outputs": [
    {
     "data": {
      "text/plain": [
       "CD_IllnessNatural_Death    72\n",
       "dtype: int64"
      ]
     },
     "execution_count": 53,
     "metadata": {},
     "output_type": "execute_result"
    }
   ],
   "source": [
    "df.loc[df['CD_IllnessNatural_Death']>0,['CD_IllnessNatural_Death']].count()"
   ]
  },
  {
   "cell_type": "code",
   "execution_count": 54,
   "id": "f66b160b",
   "metadata": {},
   "outputs": [
    {
     "data": {
      "text/plain": [
       "CD_While_Escaping_from_Custody    36\n",
       "dtype: int64"
      ]
     },
     "execution_count": 54,
     "metadata": {},
     "output_type": "execute_result"
    }
   ],
   "source": [
    "df.loc[df['CD_While_Escaping_from_Custody']>0,['CD_While_Escaping_from_Custody']].count()"
   ]
  },
  {
   "cell_type": "code",
   "execution_count": null,
   "id": "0ee0d24d",
   "metadata": {},
   "outputs": [],
   "source": []
  },
  {
   "cell_type": "code",
   "execution_count": null,
   "id": "5610426f",
   "metadata": {},
   "outputs": [],
   "source": []
  },
  {
   "cell_type": "code",
   "execution_count": 35,
   "id": "f67638a1",
   "metadata": {},
   "outputs": [
    {
     "name": "stderr",
     "output_type": "stream",
     "text": [
      "C:\\ProgramData\\Anaconda3\\lib\\site-packages\\seaborn\\_decorators.py:36: FutureWarning: Pass the following variables as keyword args: x, y. From version 0.12, the only valid positional argument will be `data`, and passing other arguments without an explicit keyword will result in an error or misinterpretation.\n",
      "  warnings.warn(\n"
     ]
    },
    {
     "data": {
      "text/plain": [
       "<AxesSubplot:xlabel='CD_Accidents', ylabel='CD_By_Mob_AttackRiots'>"
      ]
     },
     "execution_count": 35,
     "metadata": {},
     "output_type": "execute_result"
    },
    {
     "data": {
      "image/png": "[encoded data removed]",
      "text/plain": [
       "<Figure size 432x288 with 1 Axes>"
      ]
     },
     "metadata": {
      "needs_background": "light"
     },
     "output_type": "display_data"
    }
   ],
   "source": [
    "sns.barplot('CD_Accidents','CD_By_Mob_AttackRiots',data=df)"
   ]
  },
  {
   "cell_type": "code",
   "execution_count": 32,
   "id": "b45e989d",
   "metadata": {},
   "outputs": [
    {
     "name": "stderr",
     "output_type": "stream",
     "text": [
      "C:\\ProgramData\\Anaconda3\\lib\\site-packages\\seaborn\\_decorators.py:36: FutureWarning: Pass the following variables as keyword args: x, y. From version 0.12, the only valid positional argument will be `data`, and passing other arguments without an explicit keyword will result in an error or misinterpretation.\n",
      "  warnings.warn(\n"
     ]
    },
    {
     "data": {
      "text/plain": [
       "<AxesSubplot:xlabel='CD_Accidents', ylabel='Year'>"
      ]
     },
     "execution_count": 32,
     "metadata": {},
     "output_type": "execute_result"
    },
    {
     "data": {
      "image/png": "[encoded data removed]",
      "text/plain": [
       "<Figure size 432x288 with 1 Axes>"
      ]
     },
     "metadata": {
      "needs_background": "light"
     },
     "output_type": "display_data"
    }
   ],
   "source": [
    "sns.lineplot('CD_Accidents','Year',data=df)"
   ]
  },
  {
   "cell_type": "code",
   "execution_count": 34,
   "id": "651dc0e3",
   "metadata": {},
   "outputs": [
    {
     "name": "stderr",
     "output_type": "stream",
     "text": [
      "C:\\ProgramData\\Anaconda3\\lib\\site-packages\\seaborn\\_decorators.py:36: FutureWarning: Pass the following variables as keyword args: x, y. From version 0.12, the only valid positional argument will be `data`, and passing other arguments without an explicit keyword will result in an error or misinterpretation.\n",
      "  warnings.warn(\n"
     ]
    },
    {
     "data": {
      "text/plain": [
       "<AxesSubplot:xlabel='CD_Accidents', ylabel='Year'>"
      ]
     },
     "execution_count": 34,
     "metadata": {},
     "output_type": "execute_result"
    },
    {
     "data": {
      "image/png": "[encoded data removed]",
      "text/plain": [
       "<Figure size 432x288 with 1 Axes>"
      ]
     },
     "metadata": {
      "needs_background": "light"
     },
     "output_type": "display_data"
    }
   ],
   "source": [
    "sns.barplot('CD_Accidents','Year',data=df)"
   ]
  },
  {
   "cell_type": "code",
   "execution_count": null,
   "id": "a4cd1205",
   "metadata": {},
   "outputs": [],
   "source": []
  }
 ],
 "metadata": {
  "kernelspec": {
   "display_name": "Python 3",
   "language": "python",
   "name": "python3"
  },
  "language_info": {
   "codemirror_mode": {
    "name": "ipython",
    "version": 3
   },
   "file_extension": ".py",
   "mimetype": "text/x-python",
   "name": "python",
   "nbconvert_exporter": "python",
   "pygments_lexer": "ipython3",
   "version": "3.8.8"
  }
 },
 "nbformat": 4,
 "nbformat_minor": 5
}
