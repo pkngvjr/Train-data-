{
 "cells": [
  {
   "cell_type": "code",
   "execution_count": 17,
   "id": "904ecacc",
   "metadata": {},
   "outputs": [
    {
     "name": "stdout",
     "output_type": "stream",
     "text": [
      "20\n"
     ]
    }
   ],
   "source": [
    "x=[1,2,3,4,5,6,7,8]\n",
    "sum1=0\n",
    "for i in x:\n",
    "    if(i%2==0):\n",
    "        sum1=sum1+i\n",
    "print(sum)"
   ]
  },
  {
   "cell_type": "markdown",
   "id": "197c67c2",
   "metadata": {},
   "source": [
    "# absulate\n"
   ]
  },
  {
   "cell_type": "code",
   "execution_count": 1,
   "id": "589ebb3d",
   "metadata": {},
   "outputs": [],
   "source": [
    "import math"
   ]
  },
  {
   "cell_type": "code",
   "execution_count": 2,
   "id": "3972c589",
   "metadata": {},
   "outputs": [
    {
     "data": {
      "text/plain": [
       "-44"
      ]
     },
     "execution_count": 2,
     "metadata": {},
     "output_type": "execute_result"
    }
   ],
   "source": [
    "math.ceil(-44.5)"
   ]
  },
  {
   "cell_type": "code",
   "execution_count": 3,
   "id": "79bc27ca",
   "metadata": {},
   "outputs": [
    {
     "data": {
      "text/plain": [
       "45"
      ]
     },
     "execution_count": 3,
     "metadata": {},
     "output_type": "execute_result"
    }
   ],
   "source": [
    "math.ceil(44.6)"
   ]
  },
  {
   "cell_type": "markdown",
   "id": "e2994569",
   "metadata": {},
   "source": [
    "# floor"
   ]
  },
  {
   "cell_type": "code",
   "execution_count": 4,
   "id": "2342daa8",
   "metadata": {},
   "outputs": [
    {
     "data": {
      "text/plain": [
       "43"
      ]
     },
     "execution_count": 4,
     "metadata": {},
     "output_type": "execute_result"
    }
   ],
   "source": [
    "math.floor(43.1)"
   ]
  },
  {
   "cell_type": "code",
   "execution_count": 5,
   "id": "329630ce",
   "metadata": {},
   "outputs": [
    {
     "data": {
      "text/plain": [
       "43"
      ]
     },
     "execution_count": 5,
     "metadata": {},
     "output_type": "execute_result"
    }
   ],
   "source": [
    "math.floor(43.9)"
   ]
  },
  {
   "cell_type": "code",
   "execution_count": 6,
   "id": "42476336",
   "metadata": {},
   "outputs": [
    {
     "data": {
      "text/plain": [
       "-57"
      ]
     },
     "execution_count": 6,
     "metadata": {},
     "output_type": "execute_result"
    }
   ],
   "source": [
    "math.floor(-56.9)"
   ]
  },
  {
   "cell_type": "markdown",
   "id": "f61f7264",
   "metadata": {},
   "source": [
    "# log(x)"
   ]
  },
  {
   "cell_type": "code",
   "execution_count": 7,
   "id": "187f4c3e",
   "metadata": {},
   "outputs": [
    {
     "data": {
      "text/plain": [
       "2.995732273553991"
      ]
     },
     "execution_count": 7,
     "metadata": {},
     "output_type": "execute_result"
    }
   ],
   "source": [
    "math.log(20)"
   ]
  },
  {
   "cell_type": "code",
   "execution_count": 9,
   "id": "1dbbdf7b",
   "metadata": {},
   "outputs": [
    {
     "data": {
      "text/plain": [
       "0.6931471805599453"
      ]
     },
     "execution_count": 9,
     "metadata": {},
     "output_type": "execute_result"
    }
   ],
   "source": [
    "math.log(2)"
   ]
  },
  {
   "cell_type": "code",
   "execution_count": 10,
   "id": "33d5a323",
   "metadata": {},
   "outputs": [
    {
     "data": {
      "text/plain": [
       "1.0"
      ]
     },
     "execution_count": 10,
     "metadata": {},
     "output_type": "execute_result"
    }
   ],
   "source": [
    "math.log10(10)"
   ]
  },
  {
   "cell_type": "markdown",
   "id": "ef30bb4e",
   "metadata": {},
   "source": [
    "# max"
   ]
  },
  {
   "cell_type": "code",
   "execution_count": 11,
   "id": "dfe574a3",
   "metadata": {},
   "outputs": [
    {
     "data": {
      "text/plain": [
       "100"
      ]
     },
     "execution_count": 11,
     "metadata": {},
     "output_type": "execute_result"
    }
   ],
   "source": [
    "max(10,12,5,76,100)"
   ]
  },
  {
   "cell_type": "code",
   "execution_count": 12,
   "id": "a0b53c35",
   "metadata": {},
   "outputs": [
    {
     "data": {
      "text/plain": [
       "-44"
      ]
     },
     "execution_count": 12,
     "metadata": {},
     "output_type": "execute_result"
    }
   ],
   "source": [
    "max(-55,-44,-76)"
   ]
  },
  {
   "cell_type": "markdown",
   "id": "873bc9ae",
   "metadata": {},
   "source": [
    "# min"
   ]
  },
  {
   "cell_type": "code",
   "execution_count": 13,
   "id": "d7027ba9",
   "metadata": {},
   "outputs": [
    {
     "data": {
      "text/plain": [
       "5"
      ]
     },
     "execution_count": 13,
     "metadata": {},
     "output_type": "execute_result"
    }
   ],
   "source": [
    "min(10,12,5,76,100)"
   ]
  },
  {
   "cell_type": "code",
   "execution_count": 14,
   "id": "714ef008",
   "metadata": {},
   "outputs": [
    {
     "data": {
      "text/plain": [
       "-76"
      ]
     },
     "execution_count": 14,
     "metadata": {},
     "output_type": "execute_result"
    }
   ],
   "source": [
    "min(-55,-44,-76)"
   ]
  },
  {
   "cell_type": "markdown",
   "id": "31096936",
   "metadata": {},
   "source": [
    "# power or pow"
   ]
  },
  {
   "cell_type": "code",
   "execution_count": 15,
   "id": "4fe2d575",
   "metadata": {},
   "outputs": [],
   "source": [
    "import math"
   ]
  },
  {
   "cell_type": "code",
   "execution_count": 16,
   "id": "a049a175",
   "metadata": {},
   "outputs": [
    {
     "data": {
      "text/plain": [
       "16.0"
      ]
     },
     "execution_count": 16,
     "metadata": {},
     "output_type": "execute_result"
    }
   ],
   "source": [
    "math.pow(2,4)"
   ]
  },
  {
   "cell_type": "code",
   "execution_count": 17,
   "id": "5d0d2f46",
   "metadata": {},
   "outputs": [
    {
     "data": {
      "text/plain": [
       "3200000.0"
      ]
     },
     "execution_count": 17,
     "metadata": {},
     "output_type": "execute_result"
    }
   ],
   "source": [
    "math.pow(20,5)"
   ]
  },
  {
   "cell_type": "code",
   "execution_count": 18,
   "id": "fb87631f",
   "metadata": {},
   "outputs": [
    {
     "data": {
      "text/plain": [
       "-3125.0"
      ]
     },
     "execution_count": 18,
     "metadata": {},
     "output_type": "execute_result"
    }
   ],
   "source": [
    "math.pow(-5,5)"
   ]
  },
  {
   "cell_type": "markdown",
   "id": "203d5eae",
   "metadata": {},
   "source": [
    "# sqrt"
   ]
  },
  {
   "cell_type": "code",
   "execution_count": 19,
   "id": "f9219c9a",
   "metadata": {},
   "outputs": [
    {
     "data": {
      "text/plain": [
       "4.0"
      ]
     },
     "execution_count": 19,
     "metadata": {},
     "output_type": "execute_result"
    }
   ],
   "source": [
    "math.sqrt(16)"
   ]
  },
  {
   "cell_type": "code",
   "execution_count": 21,
   "id": "066ecc04",
   "metadata": {},
   "outputs": [
    {
     "data": {
      "text/plain": [
       "3.0"
      ]
     },
     "execution_count": 21,
     "metadata": {},
     "output_type": "execute_result"
    }
   ],
   "source": [
    "math.sqrt(9)"
   ]
  },
  {
   "cell_type": "markdown",
   "id": "3e46028f",
   "metadata": {},
   "source": [
    "# triggnometric function"
   ]
  },
  {
   "cell_type": "code",
   "execution_count": 22,
   "id": "98718380",
   "metadata": {},
   "outputs": [
    {
     "data": {
      "text/plain": [
       "0.0"
      ]
     },
     "execution_count": 22,
     "metadata": {},
     "output_type": "execute_result"
    }
   ],
   "source": [
    "math.sin(0)"
   ]
  },
  {
   "cell_type": "code",
   "execution_count": 23,
   "id": "93a894db",
   "metadata": {},
   "outputs": [
    {
     "data": {
      "text/plain": [
       "1.0"
      ]
     },
     "execution_count": 23,
     "metadata": {},
     "output_type": "execute_result"
    }
   ],
   "source": [
    "math.cos(0)"
   ]
  },
  {
   "cell_type": "code",
   "execution_count": 25,
   "id": "9ce19f06",
   "metadata": {},
   "outputs": [
    {
     "data": {
      "text/plain": [
       "1.6197751905438615"
      ]
     },
     "execution_count": 25,
     "metadata": {},
     "output_type": "execute_result"
    }
   ],
   "source": [
    "math.tan(45)"
   ]
  },
  {
   "cell_type": "markdown",
   "id": "c5140d3c",
   "metadata": {},
   "source": [
    "# hypot"
   ]
  },
  {
   "cell_type": "code",
   "execution_count": 26,
   "id": "ba0b2c23",
   "metadata": {},
   "outputs": [
    {
     "data": {
      "text/plain": [
       "4.47213595499958"
      ]
     },
     "execution_count": 26,
     "metadata": {},
     "output_type": "execute_result"
    }
   ],
   "source": [
    "math.hypot(2,4)"
   ]
  },
  {
   "cell_type": "markdown",
   "id": "10b78142",
   "metadata": {},
   "source": [
    "# List"
   ]
  },
  {
   "cell_type": "code",
   "execution_count": 27,
   "id": "c2fbe037",
   "metadata": {},
   "outputs": [
    {
     "name": "stdout",
     "output_type": "stream",
     "text": [
      "[1, 2, 3, 4, 5, 'krish']\n"
     ]
    }
   ],
   "source": [
    "lst=[1,2,3,4,5,'krish']\n",
    "print(lst)"
   ]
  },
  {
   "cell_type": "code",
   "execution_count": 28,
   "id": "0360b867",
   "metadata": {},
   "outputs": [
    {
     "name": "stdout",
     "output_type": "stream",
     "text": [
      "4\n"
     ]
    }
   ],
   "source": [
    "print(lst[3])"
   ]
  },
  {
   "cell_type": "code",
   "execution_count": 29,
   "id": "987825b3",
   "metadata": {},
   "outputs": [
    {
     "name": "stdout",
     "output_type": "stream",
     "text": [
      "krish\n"
     ]
    }
   ],
   "source": [
    "print(lst[5])"
   ]
  },
  {
   "cell_type": "code",
   "execution_count": 30,
   "id": "e1ef02db",
   "metadata": {},
   "outputs": [],
   "source": [
    "lst[4]='ram'"
   ]
  },
  {
   "cell_type": "code",
   "execution_count": 31,
   "id": "11930fbf",
   "metadata": {},
   "outputs": [
    {
     "name": "stdout",
     "output_type": "stream",
     "text": [
      "ram\n"
     ]
    }
   ],
   "source": [
    "print(lst[4])"
   ]
  },
  {
   "cell_type": "code",
   "execution_count": 32,
   "id": "3ab1cf94",
   "metadata": {},
   "outputs": [],
   "source": [
    "lst=list([])"
   ]
  },
  {
   "cell_type": "code",
   "execution_count": 34,
   "id": "92876453",
   "metadata": {},
   "outputs": [
    {
     "data": {
      "text/plain": [
       "list"
      ]
     },
     "execution_count": 34,
     "metadata": {},
     "output_type": "execute_result"
    }
   ],
   "source": [
    "type(lst)"
   ]
  },
  {
   "cell_type": "code",
   "execution_count": 35,
   "id": "b0d815cb",
   "metadata": {},
   "outputs": [
    {
     "name": "stdout",
     "output_type": "stream",
     "text": [
      "[1, 2, 3, 4, 5]\n"
     ]
    }
   ],
   "source": [
    "lst=list((1,2,3,4,5))\n",
    "type(lst)\n",
    "print(lst)"
   ]
  },
  {
   "cell_type": "code",
   "execution_count": 36,
   "id": "46c9b32e",
   "metadata": {},
   "outputs": [
    {
     "name": "stdout",
     "output_type": "stream",
     "text": [
      "1\n",
      "2\n",
      "3\n",
      "4\n",
      "5\n"
     ]
    }
   ],
   "source": [
    "for i in lst:\n",
    "    print(i)"
   ]
  },
  {
   "cell_type": "code",
   "execution_count": 46,
   "id": "db204357",
   "metadata": {},
   "outputs": [],
   "source": [
    "lst1=[1,2,3,4,56,6]"
   ]
  },
  {
   "cell_type": "markdown",
   "id": "d2976313",
   "metadata": {},
   "source": [
    "# list.append"
   ]
  },
  {
   "cell_type": "code",
   "execution_count": 47,
   "id": "383f91d1",
   "metadata": {},
   "outputs": [],
   "source": [
    "lst1.append('krish')"
   ]
  },
  {
   "cell_type": "code",
   "execution_count": 48,
   "id": "e2626d3a",
   "metadata": {},
   "outputs": [
    {
     "name": "stdout",
     "output_type": "stream",
     "text": [
      "[1, 2, 3, 4, 56, 6, 'krish']\n"
     ]
    }
   ],
   "source": [
    "print(lst1)"
   ]
  },
  {
   "cell_type": "code",
   "execution_count": 49,
   "id": "478fdd96",
   "metadata": {},
   "outputs": [],
   "source": [
    "lst1.append(['jhon','bala'])"
   ]
  },
  {
   "cell_type": "code",
   "execution_count": 50,
   "id": "2b3a7a12",
   "metadata": {},
   "outputs": [
    {
     "name": "stdout",
     "output_type": "stream",
     "text": [
      "[1, 2, 3, 4, 56, 6, 'krish', ['jhon', 'bala']]\n"
     ]
    }
   ],
   "source": [
    "print(lst1)"
   ]
  },
  {
   "cell_type": "code",
   "execution_count": 51,
   "id": "6dc5f56c",
   "metadata": {},
   "outputs": [
    {
     "data": {
      "text/plain": [
       "[1, 2, 3, 4, 56, 6, 'krish', ['jhon', 'bala']]"
      ]
     },
     "execution_count": 51,
     "metadata": {},
     "output_type": "execute_result"
    }
   ],
   "source": [
    "lst1[:]"
   ]
  },
  {
   "cell_type": "code",
   "execution_count": 56,
   "id": "46b8c2c4",
   "metadata": {},
   "outputs": [
    {
     "data": {
      "text/plain": [
       "'bala'"
      ]
     },
     "execution_count": 56,
     "metadata": {},
     "output_type": "execute_result"
    }
   ],
   "source": [
    "lst1[7][1]"
   ]
  },
  {
   "cell_type": "code",
   "execution_count": 54,
   "id": "c57bec4b",
   "metadata": {},
   "outputs": [
    {
     "data": {
      "text/plain": [
       "[3, 4]"
      ]
     },
     "execution_count": 54,
     "metadata": {},
     "output_type": "execute_result"
    }
   ],
   "source": [
    "lst1[2:4]"
   ]
  },
  {
   "cell_type": "markdown",
   "id": "58e59580",
   "metadata": {},
   "source": [
    "# insert"
   ]
  },
  {
   "cell_type": "code",
   "execution_count": 58,
   "id": "349879cd",
   "metadata": {},
   "outputs": [
    {
     "data": {
      "text/plain": [
       "[1, 2, 3, 4, 56, 6, 'krish', ['jhon', 'bala']]"
      ]
     },
     "execution_count": 58,
     "metadata": {},
     "output_type": "execute_result"
    }
   ],
   "source": [
    "lst1"
   ]
  },
  {
   "cell_type": "code",
   "execution_count": 59,
   "id": "15fe6f7c",
   "metadata": {},
   "outputs": [],
   "source": [
    "lst1.insert(2,'shyam')"
   ]
  },
  {
   "cell_type": "code",
   "execution_count": 60,
   "id": "8160a84b",
   "metadata": {},
   "outputs": [
    {
     "name": "stdout",
     "output_type": "stream",
     "text": [
      "[1, 2, 'shyam', 3, 4, 56, 6, 'krish', ['jhon', 'bala']]\n"
     ]
    }
   ],
   "source": [
    "print(lst1)"
   ]
  },
  {
   "cell_type": "markdown",
   "id": "73a4b895",
   "metadata": {},
   "source": [
    "# extend"
   ]
  },
  {
   "cell_type": "code",
   "execution_count": 61,
   "id": "35adbe81",
   "metadata": {},
   "outputs": [],
   "source": [
    "lst=[1,2,3,4,5,6]"
   ]
  },
  {
   "cell_type": "code",
   "execution_count": 62,
   "id": "7468611b",
   "metadata": {},
   "outputs": [],
   "source": [
    "lst.extend([8,9])"
   ]
  },
  {
   "cell_type": "code",
   "execution_count": 63,
   "id": "bdc2032f",
   "metadata": {},
   "outputs": [
    {
     "name": "stdout",
     "output_type": "stream",
     "text": [
      "[1, 2, 3, 4, 5, 6, 8, 9]\n"
     ]
    }
   ],
   "source": [
    "print(lst)"
   ]
  },
  {
   "cell_type": "code",
   "execution_count": 64,
   "id": "1ef5866f",
   "metadata": {},
   "outputs": [
    {
     "data": {
      "text/plain": [
       "[1, 2, 3, 4, 5, 6, 8, 9, 1, 2, 3, 4, 5, 6, 8, 9, 1, 2, 3, 4, 5, 6, 8, 9]"
      ]
     },
     "execution_count": 64,
     "metadata": {},
     "output_type": "execute_result"
    }
   ],
   "source": [
    "lst*3"
   ]
  },
  {
   "cell_type": "code",
   "execution_count": 68,
   "id": "0a891ead",
   "metadata": {},
   "outputs": [
    {
     "data": {
      "text/plain": [
       "9"
      ]
     },
     "execution_count": 68,
     "metadata": {},
     "output_type": "execute_result"
    }
   ],
   "source": [
    "lst.pop()"
   ]
  },
  {
   "cell_type": "code",
   "execution_count": 69,
   "id": "0b68c997",
   "metadata": {},
   "outputs": [
    {
     "data": {
      "text/plain": [
       "4"
      ]
     },
     "execution_count": 69,
     "metadata": {},
     "output_type": "execute_result"
    }
   ],
   "source": [
    "lst.pop(3)"
   ]
  },
  {
   "cell_type": "code",
   "execution_count": 70,
   "id": "b1136701",
   "metadata": {},
   "outputs": [
    {
     "data": {
      "text/plain": [
       "1"
      ]
     },
     "execution_count": 70,
     "metadata": {},
     "output_type": "execute_result"
    }
   ],
   "source": [
    "lst.count(1)"
   ]
  },
  {
   "cell_type": "markdown",
   "id": "4d2ce464",
   "metadata": {},
   "source": [
    "\n",
    "# sets"
   ]
  },
  {
   "cell_type": "code",
   "execution_count": 71,
   "id": "1433113b",
   "metadata": {},
   "outputs": [
    {
     "data": {
      "text/plain": [
       "dict"
      ]
     },
     "execution_count": 71,
     "metadata": {},
     "output_type": "execute_result"
    }
   ],
   "source": [
    "type({})"
   ]
  },
  {
   "cell_type": "code",
   "execution_count": 72,
   "id": "ce4ea60b",
   "metadata": {},
   "outputs": [
    {
     "data": {
      "text/plain": [
       "set"
      ]
     },
     "execution_count": 72,
     "metadata": {},
     "output_type": "execute_result"
    }
   ],
   "source": [
    "type({1})"
   ]
  },
  {
   "cell_type": "code",
   "execution_count": 73,
   "id": "618a6693",
   "metadata": {},
   "outputs": [],
   "source": [
    "set_var={'avenger','ironman','hitman'}"
   ]
  },
  {
   "cell_type": "code",
   "execution_count": 74,
   "id": "55ffc8c8",
   "metadata": {},
   "outputs": [
    {
     "name": "stdout",
     "output_type": "stream",
     "text": [
      "{'avenger', 'ironman', 'hitman'}\n"
     ]
    }
   ],
   "source": [
    "print(set_var)"
   ]
  },
  {
   "cell_type": "code",
   "execution_count": 76,
   "id": "e5e76387",
   "metadata": {},
   "outputs": [
    {
     "name": "stdout",
     "output_type": "stream",
     "text": [
      "avenger\n",
      "ironman\n",
      "hitman\n"
     ]
    }
   ],
   "source": [
    "for i in set_var:\n",
    "    print(i)"
   ]
  },
  {
   "cell_type": "code",
   "execution_count": 77,
   "id": "8340ba99",
   "metadata": {},
   "outputs": [],
   "source": [
    "set_var.add('krish')"
   ]
  },
  {
   "cell_type": "code",
   "execution_count": 78,
   "id": "e137363a",
   "metadata": {},
   "outputs": [
    {
     "data": {
      "text/plain": [
       "{'avenger', 'hitman', 'ironman', 'krish'}"
      ]
     },
     "execution_count": 78,
     "metadata": {},
     "output_type": "execute_result"
    }
   ],
   "source": [
    "set_var"
   ]
  },
  {
   "cell_type": "code",
   "execution_count": 79,
   "id": "e23338e2",
   "metadata": {},
   "outputs": [],
   "source": [
    "set_var.add('hulk')"
   ]
  },
  {
   "cell_type": "code",
   "execution_count": 80,
   "id": "8e36f85f",
   "metadata": {},
   "outputs": [
    {
     "data": {
      "text/plain": [
       "{'avenger', 'hitman', 'hulk', 'ironman', 'krish'}"
      ]
     },
     "execution_count": 80,
     "metadata": {},
     "output_type": "execute_result"
    }
   ],
   "source": [
    "set_var"
   ]
  },
  {
   "cell_type": "code",
   "execution_count": 81,
   "id": "a8e69791",
   "metadata": {},
   "outputs": [],
   "source": [
    "set1_var=set([4,5,5,7,2])"
   ]
  },
  {
   "cell_type": "code",
   "execution_count": 83,
   "id": "1f8e2557",
   "metadata": {},
   "outputs": [
    {
     "name": "stdout",
     "output_type": "stream",
     "text": [
      "{2, 4, 5, 7}\n"
     ]
    }
   ],
   "source": [
    "print(set1_var)"
   ]
  },
  {
   "cell_type": "code",
   "execution_count": 131,
   "id": "ab47cd1d",
   "metadata": {},
   "outputs": [],
   "source": [
    "set1={'avenger','ironman','hitman'}\n",
    "set3={'avenger','ironman','hitman','hulk'}"
   ]
  },
  {
   "cell_type": "code",
   "execution_count": 125,
   "id": "79e7e574",
   "metadata": {},
   "outputs": [
    {
     "data": {
      "text/plain": [
       "{'avenger', 'hitman', 'ironman'}"
      ]
     },
     "execution_count": 125,
     "metadata": {},
     "output_type": "execute_result"
    }
   ],
   "source": [
    "set1"
   ]
  },
  {
   "cell_type": "code",
   "execution_count": 127,
   "id": "c9bf0c20",
   "metadata": {},
   "outputs": [
    {
     "data": {
      "text/plain": [
       "{'avenger', 'hitman', 'hulk', 'ironman'}"
      ]
     },
     "execution_count": 127,
     "metadata": {},
     "output_type": "execute_result"
    }
   ],
   "source": [
    "set3"
   ]
  },
  {
   "cell_type": "code",
   "execution_count": 128,
   "id": "da547350",
   "metadata": {},
   "outputs": [],
   "source": [
    "set3.intersection_update(set1)"
   ]
  },
  {
   "cell_type": "code",
   "execution_count": 129,
   "id": "8bd8999d",
   "metadata": {},
   "outputs": [
    {
     "data": {
      "text/plain": [
       "{'avenger', 'hitman', 'ironman'}"
      ]
     },
     "execution_count": 129,
     "metadata": {},
     "output_type": "execute_result"
    }
   ],
   "source": [
    "set3"
   ]
  },
  {
   "cell_type": "code",
   "execution_count": 132,
   "id": "5c92fbd9",
   "metadata": {},
   "outputs": [
    {
     "data": {
      "text/plain": [
       "{'hulk'}"
      ]
     },
     "execution_count": 132,
     "metadata": {},
     "output_type": "execute_result"
    }
   ],
   "source": [
    "set3.difference(set1)"
   ]
  },
  {
   "cell_type": "code",
   "execution_count": 133,
   "id": "47d79082",
   "metadata": {},
   "outputs": [],
   "source": [
    "set3.difference_update(set1)"
   ]
  },
  {
   "cell_type": "code",
   "execution_count": 134,
   "id": "b1244e8c",
   "metadata": {},
   "outputs": [
    {
     "data": {
      "text/plain": [
       "{'hulk'}"
      ]
     },
     "execution_count": 134,
     "metadata": {},
     "output_type": "execute_result"
    }
   ],
   "source": [
    "set3"
   ]
  },
  {
   "cell_type": "markdown",
   "id": "5b30aa83",
   "metadata": {},
   "source": [
    "# dictionaries"
   ]
  },
  {
   "cell_type": "code",
   "execution_count": 135,
   "id": "cca2c68e",
   "metadata": {},
   "outputs": [
    {
     "data": {
      "text/plain": [
       "dict"
      ]
     },
     "execution_count": 135,
     "metadata": {},
     "output_type": "execute_result"
    }
   ],
   "source": [
    "type({})"
   ]
  },
  {
   "cell_type": "code",
   "execution_count": 136,
   "id": "d7eb11fa",
   "metadata": {},
   "outputs": [
    {
     "data": {
      "text/plain": [
       "set"
      ]
     },
     "execution_count": 136,
     "metadata": {},
     "output_type": "execute_result"
    }
   ],
   "source": [
    "type({1})"
   ]
  },
  {
   "cell_type": "code",
   "execution_count": 137,
   "id": "6b088501",
   "metadata": {},
   "outputs": [
    {
     "data": {
      "text/plain": [
       "dict"
      ]
     },
     "execution_count": 137,
     "metadata": {},
     "output_type": "execute_result"
    }
   ],
   "source": [
    "type({1:'krish'})"
   ]
  },
  {
   "cell_type": "code",
   "execution_count": 140,
   "id": "8bc6b25c",
   "metadata": {},
   "outputs": [
    {
     "data": {
      "text/plain": [
       "{'name': 'krish', 'age': 20, 'last_name': 'yadav'}"
      ]
     },
     "execution_count": 140,
     "metadata": {},
     "output_type": "execute_result"
    }
   ],
   "source": [
    "dict(name='krish',age=20,last_name='yadav')"
   ]
  },
  {
   "cell_type": "code",
   "execution_count": 142,
   "id": "39b7be72",
   "metadata": {},
   "outputs": [],
   "source": [
    "my_dict={'car1':'audi','car2':'bmw','car3':'benz'}"
   ]
  },
  {
   "cell_type": "code",
   "execution_count": 143,
   "id": "c908c762",
   "metadata": {},
   "outputs": [
    {
     "name": "stdout",
     "output_type": "stream",
     "text": [
      "{'car1': 'audi', 'car2': 'bmw', 'car3': 'benz'}\n"
     ]
    }
   ],
   "source": [
    "print(my_dict)"
   ]
  },
  {
   "cell_type": "code",
   "execution_count": 144,
   "id": "602eb3d2",
   "metadata": {},
   "outputs": [
    {
     "data": {
      "text/plain": [
       "dict"
      ]
     },
     "execution_count": 144,
     "metadata": {},
     "output_type": "execute_result"
    }
   ],
   "source": [
    "type(my_dict)"
   ]
  },
  {
   "cell_type": "code",
   "execution_count": 145,
   "id": "9a3f0dea",
   "metadata": {},
   "outputs": [
    {
     "data": {
      "text/plain": [
       "'audi'"
      ]
     },
     "execution_count": 145,
     "metadata": {},
     "output_type": "execute_result"
    }
   ],
   "source": [
    "my_dict['car1']"
   ]
  },
  {
   "cell_type": "code",
   "execution_count": 146,
   "id": "44f9c88e",
   "metadata": {},
   "outputs": [
    {
     "data": {
      "text/plain": [
       "dict_items([('car1', 'audi'), ('car2', 'bmw'), ('car3', 'benz')])"
      ]
     },
     "execution_count": 146,
     "metadata": {},
     "output_type": "execute_result"
    }
   ],
   "source": [
    "my_dict.items()"
   ]
  },
  {
   "cell_type": "code",
   "execution_count": 147,
   "id": "5ac534ed",
   "metadata": {},
   "outputs": [
    {
     "data": {
      "text/plain": [
       "dict_keys(['car1', 'car2', 'car3'])"
      ]
     },
     "execution_count": 147,
     "metadata": {},
     "output_type": "execute_result"
    }
   ],
   "source": [
    "my_dict.keys()"
   ]
  },
  {
   "cell_type": "code",
   "execution_count": 152,
   "id": "d76a0717",
   "metadata": {},
   "outputs": [
    {
     "data": {
      "text/plain": [
       "dict_values(['audi', 'bmw', 'benz'])"
      ]
     },
     "execution_count": 152,
     "metadata": {},
     "output_type": "execute_result"
    }
   ],
   "source": [
    "my_dict.values()"
   ]
  },
  {
   "cell_type": "code",
   "execution_count": 153,
   "id": "f2dd71eb",
   "metadata": {},
   "outputs": [
    {
     "name": "stdout",
     "output_type": "stream",
     "text": [
      "car1\n",
      "car2\n",
      "car3\n"
     ]
    }
   ],
   "source": [
    "for i in my_dict:\n",
    "    print(i)"
   ]
  },
  {
   "cell_type": "code",
   "execution_count": 154,
   "id": "220c422f",
   "metadata": {},
   "outputs": [
    {
     "name": "stdout",
     "output_type": "stream",
     "text": [
      "('car1', 'audi')\n",
      "('car2', 'bmw')\n",
      "('car3', 'benz')\n"
     ]
    }
   ],
   "source": [
    "for i in my_dict.items():\n",
    "    print(i)"
   ]
  },
  {
   "cell_type": "code",
   "execution_count": 155,
   "id": "3a53b2ee",
   "metadata": {},
   "outputs": [
    {
     "name": "stdout",
     "output_type": "stream",
     "text": [
      "audi\n",
      "bmw\n",
      "benz\n"
     ]
    }
   ],
   "source": [
    "for i in my_dict.values():\n",
    "    print(i)"
   ]
  },
  {
   "cell_type": "code",
   "execution_count": 156,
   "id": "b01bb001",
   "metadata": {},
   "outputs": [],
   "source": [
    "my_dict['car4']='skoda'"
   ]
  },
  {
   "cell_type": "code",
   "execution_count": 157,
   "id": "2a7f2f0d",
   "metadata": {},
   "outputs": [
    {
     "data": {
      "text/plain": [
       "{'car1': 'audi', 'car2': 'bmw', 'car3': 'benz', 'car4': 'skoda'}"
      ]
     },
     "execution_count": 157,
     "metadata": {},
     "output_type": "execute_result"
    }
   ],
   "source": [
    "my_dict"
   ]
  },
  {
   "cell_type": "markdown",
   "id": "a2dc6968",
   "metadata": {},
   "source": [
    "# tuple"
   ]
  },
  {
   "cell_type": "code",
   "execution_count": 158,
   "id": "d6f17d9e",
   "metadata": {},
   "outputs": [],
   "source": [
    "my_tuple=tuple()"
   ]
  },
  {
   "cell_type": "code",
   "execution_count": 159,
   "id": "647a0c14",
   "metadata": {},
   "outputs": [
    {
     "data": {
      "text/plain": [
       "tuple"
      ]
     },
     "execution_count": 159,
     "metadata": {},
     "output_type": "execute_result"
    }
   ],
   "source": [
    "type(my_tuple)"
   ]
  },
  {
   "cell_type": "code",
   "execution_count": 160,
   "id": "74083632",
   "metadata": {},
   "outputs": [],
   "source": [
    "my_tuple=('krish','ankur','john')"
   ]
  },
  {
   "cell_type": "code",
   "execution_count": 161,
   "id": "fb893965",
   "metadata": {},
   "outputs": [
    {
     "name": "stdout",
     "output_type": "stream",
     "text": [
      "('krish', 'ankur', 'john')\n"
     ]
    }
   ],
   "source": [
    "print(my_tuple)"
   ]
  },
  {
   "cell_type": "code",
   "execution_count": 163,
   "id": "b0937377",
   "metadata": {},
   "outputs": [
    {
     "data": {
      "text/plain": [
       "('krish', 'ankur', 'john')"
      ]
     },
     "execution_count": 163,
     "metadata": {},
     "output_type": "execute_result"
    }
   ],
   "source": [
    "my_tuple"
   ]
  },
  {
   "cell_type": "code",
   "execution_count": 166,
   "id": "6569df17",
   "metadata": {},
   "outputs": [
    {
     "data": {
      "text/plain": [
       "1"
      ]
     },
     "execution_count": 166,
     "metadata": {},
     "output_type": "execute_result"
    }
   ],
   "source": [
    "my_tuple.count('ankur')"
   ]
  },
  {
   "cell_type": "code",
   "execution_count": 168,
   "id": "e69bd5a1",
   "metadata": {},
   "outputs": [
    {
     "data": {
      "text/plain": [
       "'krish'"
      ]
     },
     "execution_count": 168,
     "metadata": {},
     "output_type": "execute_result"
    }
   ],
   "source": [
    "my_tuple[0]"
   ]
  },
  {
   "cell_type": "code",
   "execution_count": 169,
   "id": "45003699",
   "metadata": {},
   "outputs": [
    {
     "data": {
      "text/plain": [
       "0"
      ]
     },
     "execution_count": 169,
     "metadata": {},
     "output_type": "execute_result"
    }
   ],
   "source": [
    "my_tuple.index('krish')"
   ]
  },
  {
   "cell_type": "code",
   "execution_count": null,
   "id": "c31cbcfe",
   "metadata": {},
   "outputs": [],
   "source": []
  }
 ],
 "metadata": {
  "kernelspec": {
   "display_name": "Python 3",
   "language": "python",
   "name": "python3"
  },
  "language_info": {
   "codemirror_mode": {
    "name": "ipython",
    "version": 3
   },
   "file_extension": ".py",
   "mimetype": "text/x-python",
   "name": "python",
   "nbconvert_exporter": "python",
   "pygments_lexer": "ipython3",
   "version": "3.8.8"
  }
 },
 "nbformat": 4,
 "nbformat_minor": 5
}
