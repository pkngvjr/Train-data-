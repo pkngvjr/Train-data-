{
 "cells": [
  {
   "cell_type": "code",
   "execution_count": 11,
   "id": "53861ff6",
   "metadata": {},
   "outputs": [],
   "source": [
    "class x:\n",
    "    def __init__(self,name,age): \n",
    "        self.name=name\n",
    "        self.age=age      \n",
    "    def f1(self):\n",
    "        print(\"Name :\",self.name)\n",
    "        print(\"Age :\",self.age)"
   ]
  },
  {
   "cell_type": "code",
   "execution_count": 12,
   "id": "22dbfd89",
   "metadata": {},
   "outputs": [
    {
     "name": "stdout",
     "output_type": "stream",
     "text": [
      "Name : Dinesh\n",
      "Age : 32\n"
     ]
    }
   ],
   "source": [
    "k1=x(\"Dinesh\",32)\n",
    "k1.f1()"
   ]
  },
  {
   "cell_type": "code",
   "execution_count": 14,
   "id": "917b4c62",
   "metadata": {},
   "outputs": [],
   "source": [
    "class x:\n",
    "    def __init__(self,name,age): \n",
    "        self.name=name\n",
    "        self.age=age      \n",
    "    def showname(self):\n",
    "        print(self.name)\n",
    "    def showage(self):\n",
    "        print(self.age)\n",
    "    "
   ]
  },
  {
   "cell_type": "code",
   "execution_count": 15,
   "id": "7cff783d",
   "metadata": {},
   "outputs": [],
   "source": [
    "k1=x(\"rakesh\",23)"
   ]
  },
  {
   "cell_type": "code",
   "execution_count": 16,
   "id": "1dd3ac7b",
   "metadata": {},
   "outputs": [
    {
     "name": "stdout",
     "output_type": "stream",
     "text": [
      "rakesh\n"
     ]
    }
   ],
   "source": [
    "k1.showname()"
   ]
  },
  {
   "cell_type": "code",
   "execution_count": 17,
   "id": "a02ee4a0",
   "metadata": {},
   "outputs": [
    {
     "name": "stdout",
     "output_type": "stream",
     "text": [
      "23\n"
     ]
    }
   ],
   "source": [
    "k1.showage()"
   ]
  },
  {
   "cell_type": "code",
   "execution_count": 1,
   "id": "6a8378bd",
   "metadata": {},
   "outputs": [],
   "source": [
    "#inheritance"
   ]
  },
  {
   "cell_type": "code",
   "execution_count": 4,
   "id": "ed1974cb",
   "metadata": {},
   "outputs": [],
   "source": [
    "class k:\n",
    "    def __init__(self):\n",
    "        self.name=\"Rishu\"\n",
    "        self.age=22\n",
    "    def show(self):\n",
    "        print(self.name)\n",
    "class k2(k):\n",
    "    def __init__(self):\n",
    "        supper().__init__()\n",
    "        self.name=\"ajay\"\n",
    "    def show(self):\n",
    "        print(self.age)\n"
   ]
  },
  {
   "cell_type": "code",
   "execution_count": 3,
   "id": "b991d5c2",
   "metadata": {},
   "outputs": [
    {
     "data": {
      "text/plain": [
       "__main__.k2"
      ]
     },
     "execution_count": 3,
     "metadata": {},
     "output_type": "execute_result"
    }
   ],
   "source": [
    "k2"
   ]
  },
  {
   "cell_type": "markdown",
   "id": "4b829e1a",
   "metadata": {},
   "source": [
    "# polymorphism"
   ]
  },
  {
   "cell_type": "code",
   "execution_count": 3,
   "id": "e10c5eb6",
   "metadata": {},
   "outputs": [],
   "source": [
    "#duke typing\n",
    "#operetor overloading\n",
    "#method overriding\n",
    "#method overloading\n"
   ]
  },
  {
   "cell_type": "code",
   "execution_count": 4,
   "id": "cfcb4846",
   "metadata": {},
   "outputs": [],
   "source": [
    "x=10"
   ]
  },
  {
   "cell_type": "code",
   "execution_count": 7,
   "id": "8d18625b",
   "metadata": {},
   "outputs": [
    {
     "data": {
      "text/plain": [
       "int"
      ]
     },
     "execution_count": 7,
     "metadata": {},
     "output_type": "execute_result"
    }
   ],
   "source": [
    "type(x)"
   ]
  },
  {
   "cell_type": "code",
   "execution_count": 2,
   "id": "f9e23269",
   "metadata": {},
   "outputs": [],
   "source": [
    "class a:\n",
    "    pass"
   ]
  },
  {
   "cell_type": "code",
   "execution_count": 3,
   "id": "20c42fae",
   "metadata": {},
   "outputs": [
    {
     "name": "stdout",
     "output_type": "stream",
     "text": [
      "<class '__main__.a'>\n"
     ]
    }
   ],
   "source": [
    "k=a()\n",
    "print(type(k))"
   ]
  },
  {
   "cell_type": "code",
   "execution_count": 4,
   "id": "9c3ad27e",
   "metadata": {},
   "outputs": [],
   "source": [
    "class b:\n",
    "    pass"
   ]
  },
  {
   "cell_type": "code",
   "execution_count": 5,
   "id": "c62ca39c",
   "metadata": {},
   "outputs": [
    {
     "name": "stdout",
     "output_type": "stream",
     "text": [
      "<class '__main__.b'>\n"
     ]
    }
   ],
   "source": [
    "k=b()\n",
    "print(type(k))"
   ]
  },
  {
   "cell_type": "code",
   "execution_count": null,
   "id": "a27d33f9",
   "metadata": {},
   "outputs": [],
   "source": []
  }
 ],
 "metadata": {
  "kernelspec": {
   "display_name": "Python 3",
   "language": "python",
   "name": "python3"
  },
  "language_info": {
   "codemirror_mode": {
    "name": "ipython",
    "version": 3
   },
   "file_extension": ".py",
   "mimetype": "text/x-python",
   "name": "python",
   "nbconvert_exporter": "python",
   "pygments_lexer": "ipython3",
   "version": "3.8.8"
  }
 },
 "nbformat": 4,
 "nbformat_minor": 5
}
